{
 "cells": [
  {
   "cell_type": "markdown",
   "id": "b609ee6e",
   "metadata": {},
   "source": [
    "# Text Analysis in Python 2: Word Counts / Words Count\n",
    "\n",
    "<h1 style=\"text-align:center;font-size:300%;\">The United States is / are ____?</h1> \n",
    "  <img src=\"https://miro.medium.com/max/720/1*pp7HX01jBv2wbVRW9Ml_mA.png\" style=\"width:%80;\">\n",
    "  <!--<img src=\"http://www.languagetrainers.com/blog/wp-content/uploads/2012/10/us-are-vs-us-is1.png\" style=\"width:%140;\">-->\n",
    "\n",
    "From Benjamin Schmidt and Mitch Fraas, [\"The Language of the State of the Union](https://www.theatlantic.com/politics/archive/2015/01/the-language-of-the-state-of-the-union/384575/),\" *The Atlantic* (Jan. 15, 2015).  **Can we create our own version of this graph?**\n",
    "\n",
    "## This Lesson\n",
    "\n",
    "**Exploring the frequency of words and phrases in texts: what can they tell us about a text?**\n",
    "\n",
    "In this session, participants will:\n",
    "+ Apply Python (and the NLTK package) to read individual text files and apply essential pre-processing techniques (i.e. divide each text into a list of words or tokens, lower-case all words, remove punctuation, and lemmatize each word).\n",
    "+ Create frequency lists identifying the most common words or ngrams (multi-word terms) in a text or corpus\n",
    "+ Create graphs, charts, and word clouds visually representing word and term frequency patterns \n",
    "+ Identify some ways the language of State of the Union speeches has changed over time and discuss how this method could be applied to other texts and questions\n",
    "\n",
    "**In short, one of our goals today is to recreate the graphic above (from *The Atlantic*) showing changes in the frequency of particular words or terms - as used in the State of the Union address - over time.** \n",
    "\n",
    "\n",
    "## Structure of Notebooks\n",
    "\n",
    "These Jupyter Notebooks are designed to integrate instructions and explanations (in the white \"markdown\" cells below) with hands-on practice with the code (in the gray \"code\" cells below). To add, modify, or delete cells, please use the Menu above (especially under the Edit, Insert, and Cell tabs) or click ESC + H to see a list of keyboard shortcuts.\n",
    "\n",
    "<div class=\"alert alert-success\" role=\"alert\"><h3 style=\"color:green\">Code Together:</h3><p style=\"color:green\">In these cell blocks, we will code together. You can find the completed version in our shared folder (ending with \"_completed.ipynb\").</p></div>\n",
    "\n",
    "<div class=\"alert alert-info\" role=\"alert\"><h3 style=\"color:blue;\">Exercises:</h3><p style=\"color:blue\">are in blue text. These are a chance to practice what you have learned.</p></div>\n",
    "\n",
    "<div style = \"background-color:#f3e5f5\"><h3 style=\"color:purple\">Python Basics - Additional Practice</h3><p style=\"color:purple\">are in purple text. Work on these after the lesson if you would like more practice.</p></div>\n",
    "\n",
    "## Lists of Words, Frequency Lists, N-Grams, and Dispersion Plots\n",
    "\n",
    "*[intro / explanation / beg instructions / links back to prev notebooks]*"
   ]
  },
  {
   "cell_type": "markdown",
   "id": "14d0f7e6",
   "metadata": {},
   "source": [
    "## Part I: Getting Started - Importing Python Packages, SOTU texts, and tokenizing"
   ]
  },
  {
   "cell_type": "markdown",
   "id": "3df57705",
   "metadata": {},
   "source": [
    "**1. First, we will need to import the necessary Python packages or libraries for today's lesson.**"
   ]
  },
  {
   "cell_type": "code",
   "execution_count": 1,
   "id": "4497858a",
   "metadata": {},
   "outputs": [
    {
     "name": "stderr",
     "output_type": "stream",
     "text": [
      "[nltk_data] Downloading package punkt to\n",
      "[nltk_data]     C:\\Users\\F0040RP\\AppData\\Roaming\\nltk_data...\n",
      "[nltk_data]   Package punkt is already up-to-date!\n"
     ]
    }
   ],
   "source": [
    "import os, nltk, re, collections, pathlib, time\n",
    "import pandas as pd\n",
    "import matplotlib as plt\n",
    "import seaborn as sns\n",
    "from pathlib import Path\n",
    "from nltk.corpus import stopwords\n",
    "from nltk.tokenize import RegexpTokenizer\n",
    "from nltk import ngrams, pos_tag, word_tokenize, sent_tokenize\n",
    "from nltk.stem import WordNetLemmatizer\n",
    "nltk.download(\"punkt\")\n",
    "from collections import Counter\n",
    "\n",
    "plt.rcParams['figure.figsize'] = [12, 6]  #changes default figure size to make larger plots\n",
    "\n",
    "%config InteractiveShellApp.matplotlib = 'inline'\n",
    "#%config InlineBackend.figure_formats = ['svg']               #this command prints out images as svgs rather pngs. However, it also slows down the plotting\n",
    "                                                              ## so uncomment if you want Jupyter to render clearer images"
   ]
  },
  {
   "cell_type": "markdown",
   "id": "320240d8",
   "metadata": {},
   "source": [
    "**2. Navigate to and examine the folder that has your SOTU files.** As in the previous lesson, we use the **pathlib** library and its functions to work with paths to files and folders (directories). For more on the challenges of working with filepaths across operating systems and how pathlib addresses see [\"Python 3's pathlib module: Taming the File System.\"](https://realpython.com/python-pathlib/)"
   ]
  },
  {
   "cell_type": "code",
   "execution_count": 2,
   "id": "09d2e42d",
   "metadata": {},
   "outputs": [
    {
     "name": "stdout",
     "output_type": "stream",
     "text": [
      "c:\\Users\\F0040RP\\Documents\\DartLib_RDS\\textAnalysis\\strings-and-files\\state-of-the-union-dataset\\txt\n"
     ]
    },
    {
     "data": {
      "text/plain": [
       "[WindowsPath('c:/Users/F0040RP/Documents/DartLib_RDS/textAnalysis/strings-and-files/state-of-the-union-dataset/txt/1790_Washington.txt'),\n",
       " WindowsPath('c:/Users/F0040RP/Documents/DartLib_RDS/textAnalysis/strings-and-files/state-of-the-union-dataset/txt/1791_Washington.txt'),\n",
       " WindowsPath('c:/Users/F0040RP/Documents/DartLib_RDS/textAnalysis/strings-and-files/state-of-the-union-dataset/txt/1792_Washington.txt'),\n",
       " WindowsPath('c:/Users/F0040RP/Documents/DartLib_RDS/textAnalysis/strings-and-files/state-of-the-union-dataset/txt/1793_Washington.txt'),\n",
       " WindowsPath('c:/Users/F0040RP/Documents/DartLib_RDS/textAnalysis/strings-and-files/state-of-the-union-dataset/txt/1794_Washington.txt'),\n",
       " WindowsPath('c:/Users/F0040RP/Documents/DartLib_RDS/textAnalysis/strings-and-files/state-of-the-union-dataset/txt/1795_Washington.txt'),\n",
       " WindowsPath('c:/Users/F0040RP/Documents/DartLib_RDS/textAnalysis/strings-and-files/state-of-the-union-dataset/txt/1796_Washington.txt'),\n",
       " WindowsPath('c:/Users/F0040RP/Documents/DartLib_RDS/textAnalysis/strings-and-files/state-of-the-union-dataset/txt/1797_Adams.txt'),\n",
       " WindowsPath('c:/Users/F0040RP/Documents/DartLib_RDS/textAnalysis/strings-and-files/state-of-the-union-dataset/txt/1798_Adams.txt'),\n",
       " WindowsPath('c:/Users/F0040RP/Documents/DartLib_RDS/textAnalysis/strings-and-files/state-of-the-union-dataset/txt/1799_Adams.txt')]"
      ]
     },
     "execution_count": 2,
     "metadata": {},
     "output_type": "execute_result"
    }
   ],
   "source": [
    "p = Path.cwd()\n",
    "p2 = p.parent\n",
    "sotudir = Path(p2,\"strings-and-files\",\"state-of-the-union-dataset\",\"txt\")  # creates a filepath to our dataset or corpus of texts\n",
    "print(sotudir)\n",
    "pathlist = sorted(sotudir.glob(\"*.txt\"))    #glob(\"*.txt\") retrieves only filepaths to .txt files; sotudir is the filepath we created above; sorted() sorts the filepaths in ascending order\n",
    "pathlist[:10]"
   ]
  },
  {
   "attachments": {},
   "cell_type": "markdown",
   "id": "24f65b29",
   "metadata": {},
   "source": [
    "**3. Open the George Washington's 1794 SOTU address:**\n",
    "\n",
    "*Note*: In Python, it is recommended that you always close your files after finishing with them. One way to do this is to place an **open()** command within a **with statement**. This way, the files is closed as soon as we exit the indented block underneath the with statement. Another way is to immediately **close()** the file after extracting the information you need from it. Run either or both options below. See [Why Close Python Files](https://realpython.com/why-close-file-python/).  "
   ]
  },
  {
   "cell_type": "code",
   "execution_count": 3,
   "id": "05b5bd9d",
   "metadata": {},
   "outputs": [],
   "source": [
    "with open(Path(sotudir,'1794_Washington.txt')) as f:\n",
    "    wash94 = f.read()"
   ]
  },
  {
   "cell_type": "code",
   "execution_count": 4,
   "id": "bf91dd18",
   "metadata": {},
   "outputs": [],
   "source": [
    "f = open(Path(sotudir,'1794_Washington.txt'))\n",
    "wash94 = f.read()\n",
    "f.close()"
   ]
  },
  {
   "attachments": {},
   "cell_type": "markdown",
   "id": "6038cfaa",
   "metadata": {},
   "source": [
    "<div class=\"alert alert-success\" role=\"alert\">\n",
    "    <p style='color:green'><b>3b. Code Together:</b> Print the last (instead of the first) 400 characters of this address.</p>\n",
    "</div>"
   ]
  },
  {
   "cell_type": "code",
   "execution_count": 5,
   "id": "63b8c36b",
   "metadata": {},
   "outputs": [
    {
     "data": {
      "text/plain": [
       "''"
      ]
     },
     "execution_count": 5,
     "metadata": {},
     "output_type": "execute_result"
    }
   ],
   "source": [
    "#insert code here\n",
    "#wash94[0:400]\n",
    "wash94[-400:0]      #same as wash94[-400:] or wash94[-400:-1]"
   ]
  },
  {
   "cell_type": "markdown",
   "id": "3da06d1f",
   "metadata": {},
   "source": [
    "**4. Tokenize this address and count the number of tokens.**\n",
    "\n"
   ]
  },
  {
   "cell_type": "markdown",
   "id": "46f54368",
   "metadata": {},
   "source": [
    "We can then convert this SOTU text into a list of words or tokens.\n",
    "\n",
    "There are many different ways we may want to create such a list, depending on our needs.\n",
    "\n",
    "**4a. For example, we can just use NLTK's standard word tokenizer.**"
   ]
  },
  {
   "cell_type": "code",
   "execution_count": 6,
   "id": "3cefe6f0",
   "metadata": {},
   "outputs": [
    {
     "name": "stdout",
     "output_type": "stream",
     "text": [
      "our tokens list contains 3197 tokens.\n",
      "['Fellow-Citizens', 'of', 'the', 'Senate', 'and', 'House', 'of', 'Representatives', ':', 'When', 'we', 'call', 'to', 'mind', 'the', 'gracious', 'indulgence', 'of', 'Heaven', 'by', 'which', 'the', 'American', 'people', 'became', 'a', 'nation', ';', 'when', 'we', 'survey', 'the', 'general', 'prosperity', 'of', 'our', 'country', ',', 'and', 'look']\n"
     ]
    }
   ],
   "source": [
    "#if we wanted all punctuation, including tokens we could just run the following code:\n",
    "tokens = word_tokenize(wash94)  #this command uses the function word_tokenize() from the package ntlk (which we imported at the beginning of the lesson)\n",
    "print(\"our tokens list contains\",len(tokens),\"tokens.\")\n",
    "print(tokens[:40])"
   ]
  },
  {
   "cell_type": "markdown",
   "id": "912bf0c0",
   "metadata": {},
   "source": [
    "**4b. Or we can remove punctuation by using NLTK's Regexptokenizer.**"
   ]
  },
  {
   "cell_type": "code",
   "execution_count": 7,
   "id": "793289f0",
   "metadata": {},
   "outputs": [
    {
     "name": "stdout",
     "output_type": "stream",
     "text": [
      "our tokens2 list - with punctuation removed - contains 2918 tokens.\n",
      "['Fellow', 'Citizens', 'of', 'the', 'Senate', 'and', 'House', 'of', 'Representatives', 'When', 'we', 'call', 'to', 'mind', 'the', 'gracious', 'indulgence', 'of', 'Heaven', 'by', 'which', 'the', 'American', 'people', 'became', 'a', 'nation', 'when', 'we', 'survey', 'the', 'general', 'prosperity', 'of', 'our', 'country', 'and', 'look', 'forward', 'to']\n"
     ]
    }
   ],
   "source": [
    "tokenizer = RegexpTokenizer(r'\\w+')\n",
    "tokens2=tokenizer.tokenize(wash94)\n",
    "print(\"our tokens2 list - with punctuation removed - contains\",len(tokens2),\"tokens.\")\n",
    "print(tokens2[:40])\n"
   ]
  },
  {
   "cell_type": "markdown",
   "id": "706dfd47",
   "metadata": {},
   "source": [
    "**4c. We can convert all the tokens to lower-case.**"
   ]
  },
  {
   "cell_type": "code",
   "execution_count": 8,
   "id": "d3bb90ca",
   "metadata": {},
   "outputs": [
    {
     "name": "stdout",
     "output_type": "stream",
     "text": [
      "our tokens2 list converted to lower-case (saved as ltokens2) - contains 2918 tokens.\n",
      "['fellow', 'citizens', 'of', 'the', 'senate', 'and', 'house', 'of', 'representatives', 'when', 'we', 'call', 'to', 'mind', 'the', 'gracious', 'indulgence', 'of', 'heaven', 'by', 'which', 'the', 'american', 'people', 'became', 'a', 'nation', 'when', 'we', 'survey', 'the', 'general', 'prosperity', 'of', 'our', 'country', 'and', 'look', 'forward', 'to']\n"
     ]
    }
   ],
   "source": [
    "ltokens2 = [tok.lower() for tok in tokens2]\n",
    "print(\"our tokens2 list converted to lower-case (saved as ltokens2) - contains\",len(ltokens2),\"tokens.\")\n",
    "print(ltokens2[:40])"
   ]
  },
  {
   "cell_type": "markdown",
   "id": "84def1ef",
   "metadata": {},
   "source": [
    "**4d. We often want to remove stopwords**. **Stop words** are common words that reveal little about the meaning of a text (such as articles like \"the\", conjunctions like \"and\", prepositions like \"on\", pronouns like \"our\", and helper verbs like \"can\"). Fortunately, NLTK provides a list of stop words in English (and other languages as well) that we can use to eliminate all such words from our texts.\n",
    "\n",
    "Let's examine stopwords in English:"
   ]
  },
  {
   "cell_type": "code",
   "execution_count": 9,
   "id": "7557c23c",
   "metadata": {},
   "outputs": [
    {
     "name": "stdout",
     "output_type": "stream",
     "text": [
      "['i', 'me', 'my', 'myself', 'we', 'our', 'ours', 'ourselves', 'you', \"you're\", \"you've\", \"you'll\", \"you'd\", 'your', 'yours', 'yourself', 'yourselves', 'he', 'him', 'his', 'himself', 'she', \"she's\", 'her', 'hers', 'herself', 'it', \"it's\", 'its', 'itself', 'they', 'them', 'their', 'theirs', 'themselves', 'what', 'which', 'who', 'whom', 'this', 'that', \"that'll\", 'these', 'those', 'am', 'is', 'are', 'was', 'were', 'be', 'been', 'being', 'have', 'has', 'had', 'having', 'do', 'does', 'did', 'doing', 'a', 'an', 'the', 'and', 'but', 'if', 'or', 'because', 'as', 'until', 'while', 'of', 'at', 'by', 'for', 'with', 'about', 'against', 'between', 'into', 'through', 'during', 'before', 'after', 'above', 'below', 'to', 'from', 'up', 'down', 'in', 'out', 'on', 'off', 'over', 'under', 'again', 'further', 'then', 'once', 'here', 'there', 'when', 'where', 'why', 'how', 'all', 'any', 'both', 'each', 'few', 'more', 'most', 'other', 'some', 'such', 'no', 'nor', 'not', 'only', 'own', 'same', 'so', 'than', 'too', 'very', 's', 't', 'can', 'will', 'just', 'don', \"don't\", 'should', \"should've\", 'now', 'd', 'll', 'm', 'o', 're', 've', 'y', 'ain', 'aren', \"aren't\", 'couldn', \"couldn't\", 'didn', \"didn't\", 'doesn', \"doesn't\", 'hadn', \"hadn't\", 'hasn', \"hasn't\", 'haven', \"haven't\", 'isn', \"isn't\", 'ma', 'mightn', \"mightn't\", 'mustn', \"mustn't\", 'needn', \"needn't\", 'shan', \"shan't\", 'shouldn', \"shouldn't\", 'wasn', \"wasn't\", 'weren', \"weren't\", 'won', \"won't\", 'wouldn', \"wouldn't\"]\n"
     ]
    }
   ],
   "source": [
    "print(stopwords.words('english'))"
   ]
  },
  {
   "cell_type": "markdown",
   "id": "2fd2bc94",
   "metadata": {},
   "source": [
    "<div class=\"alert alert-success\" role=\"alert\">\n",
    "    <p style=\"color:green\"><b>Code Together</b>: What if you work with another language? Let's print out the language options for NLTK's stopwords:</p>\n",
    "</div>"
   ]
  },
  {
   "cell_type": "code",
   "execution_count": 10,
   "id": "f9f3a9c4",
   "metadata": {},
   "outputs": [
    {
     "name": "stdout",
     "output_type": "stream",
     "text": [
      "['arabic', 'azerbaijani', 'basque', 'bengali', 'catalan', 'chinese', 'danish', 'dutch', 'english', 'finnish', 'french', 'german', 'greek', 'hebrew', 'hinglish', 'hungarian', 'indonesian', 'italian', 'kazakh', 'nepali', 'norwegian', 'portuguese', 'romanian', 'russian', 'slovene', 'spanish', 'swedish', 'tajik', 'turkish']\n"
     ]
    }
   ],
   "source": [
    "# languages in nltk\n",
    "print(stopwords.fileids())"
   ]
  },
  {
   "cell_type": "markdown",
   "id": "8033cee5",
   "metadata": {},
   "source": [
    "<div class=\"alert alert-success\" role=\"alert\">\n",
    "    <p style=\"color:green\">Now try to print out stopwords from a language of your choice (using the same code we used above to print out English stopwords):</p>\n",
    "</div>"
   ]
  },
  {
   "cell_type": "code",
   "execution_count": 11,
   "id": "172a59c3",
   "metadata": {},
   "outputs": [
    {
     "name": "stdout",
     "output_type": "stream",
     "text": [
      "['de', 'la', 'que', 'el', 'en', 'y', 'a', 'los', 'del', 'se', 'las', 'por', 'un', 'para', 'con', 'no', 'una', 'su', 'al', 'lo', 'como', 'más', 'pero', 'sus', 'le', 'ya', 'o', 'este', 'sí', 'porque', 'esta', 'entre', 'cuando', 'muy', 'sin', 'sobre', 'también', 'me', 'hasta', 'hay', 'donde', 'quien', 'desde', 'todo', 'nos', 'durante', 'todos', 'uno', 'les', 'ni', 'contra', 'otros', 'ese', 'eso', 'ante', 'ellos', 'e', 'esto', 'mí', 'antes', 'algunos', 'qué', 'unos', 'yo', 'otro', 'otras', 'otra', 'él', 'tanto', 'esa', 'estos', 'mucho', 'quienes', 'nada', 'muchos', 'cual', 'poco', 'ella', 'estar', 'estas', 'algunas', 'algo', 'nosotros', 'mi', 'mis', 'tú', 'te', 'ti', 'tu', 'tus', 'ellas', 'nosotras', 'vosotros', 'vosotras', 'os', 'mío', 'mía', 'míos', 'mías', 'tuyo', 'tuya', 'tuyos', 'tuyas', 'suyo', 'suya', 'suyos', 'suyas', 'nuestro', 'nuestra', 'nuestros', 'nuestras', 'vuestro', 'vuestra', 'vuestros', 'vuestras', 'esos', 'esas', 'estoy', 'estás', 'está', 'estamos', 'estáis', 'están', 'esté', 'estés', 'estemos', 'estéis', 'estén', 'estaré', 'estarás', 'estará', 'estaremos', 'estaréis', 'estarán', 'estaría', 'estarías', 'estaríamos', 'estaríais', 'estarían', 'estaba', 'estabas', 'estábamos', 'estabais', 'estaban', 'estuve', 'estuviste', 'estuvo', 'estuvimos', 'estuvisteis', 'estuvieron', 'estuviera', 'estuvieras', 'estuviéramos', 'estuvierais', 'estuvieran', 'estuviese', 'estuvieses', 'estuviésemos', 'estuvieseis', 'estuviesen', 'estando', 'estado', 'estada', 'estados', 'estadas', 'estad', 'he', 'has', 'ha', 'hemos', 'habéis', 'han', 'haya', 'hayas', 'hayamos', 'hayáis', 'hayan', 'habré', 'habrás', 'habrá', 'habremos', 'habréis', 'habrán', 'habría', 'habrías', 'habríamos', 'habríais', 'habrían', 'había', 'habías', 'habíamos', 'habíais', 'habían', 'hube', 'hubiste', 'hubo', 'hubimos', 'hubisteis', 'hubieron', 'hubiera', 'hubieras', 'hubiéramos', 'hubierais', 'hubieran', 'hubiese', 'hubieses', 'hubiésemos', 'hubieseis', 'hubiesen', 'habiendo', 'habido', 'habida', 'habidos', 'habidas', 'soy', 'eres', 'es', 'somos', 'sois', 'son', 'sea', 'seas', 'seamos', 'seáis', 'sean', 'seré', 'serás', 'será', 'seremos', 'seréis', 'serán', 'sería', 'serías', 'seríamos', 'seríais', 'serían', 'era', 'eras', 'éramos', 'erais', 'eran', 'fui', 'fuiste', 'fue', 'fuimos', 'fuisteis', 'fueron', 'fuera', 'fueras', 'fuéramos', 'fuerais', 'fueran', 'fuese', 'fueses', 'fuésemos', 'fueseis', 'fuesen', 'sintiendo', 'sentido', 'sentida', 'sentidos', 'sentidas', 'siente', 'sentid', 'tengo', 'tienes', 'tiene', 'tenemos', 'tenéis', 'tienen', 'tenga', 'tengas', 'tengamos', 'tengáis', 'tengan', 'tendré', 'tendrás', 'tendrá', 'tendremos', 'tendréis', 'tendrán', 'tendría', 'tendrías', 'tendríamos', 'tendríais', 'tendrían', 'tenía', 'tenías', 'teníamos', 'teníais', 'tenían', 'tuve', 'tuviste', 'tuvo', 'tuvimos', 'tuvisteis', 'tuvieron', 'tuviera', 'tuvieras', 'tuviéramos', 'tuvierais', 'tuvieran', 'tuviese', 'tuvieses', 'tuviésemos', 'tuvieseis', 'tuviesen', 'teniendo', 'tenido', 'tenida', 'tenidos', 'tenidas', 'tened']\n"
     ]
    }
   ],
   "source": [
    "print(stopwords.words('spanish'))\n",
    "\n"
   ]
  },
  {
   "attachments": {},
   "cell_type": "markdown",
   "id": "c7efcad1",
   "metadata": {},
   "source": [
    "Next, with our English stopwords list, we can further modify our ltokens2 list by removing stopwords:"
   ]
  },
  {
   "cell_type": "code",
   "execution_count": 12,
   "id": "b1cccd82",
   "metadata": {},
   "outputs": [
    {
     "name": "stdout",
     "output_type": "stream",
     "text": [
      "We had 2918 tokens in our ltoken2 list.\n",
      "beginning with: ['fellow', 'citizens', 'of', 'the', 'senate', 'and', 'house', 'of', 'representatives', 'when', 'we', 'call', 'to', 'mind', 'the', 'gracious', 'indulgence', 'of', 'heaven', 'by', 'which', 'the', 'american', 'people', 'became', 'a', 'nation', 'when', 'we', 'survey']  \n",
      "\n",
      "After removing stop words, we now have 1347 tokens in our list.\n",
      "beginning with: ['fellow', 'citizens', 'senate', 'house', 'representatives', 'call', 'mind', 'gracious', 'indulgence', 'heaven', 'american', 'people', 'became', 'nation', 'survey', 'general', 'prosperity', 'country', 'look', 'forward', 'riches', 'power', 'happiness', 'seems', 'destined', 'deepest', 'regret', 'announce', 'recess', 'citizens']\n"
     ]
    }
   ],
   "source": [
    "stop = stopwords.words('english')\n",
    "stop = sorted(stop)\n",
    "ltokens2ns = [tok for tok in ltokens2 if tok not in stop]        #list comprehension removes all stopwords from ltokens2\n",
    "\n",
    "print(\"We had\",len(ltokens2),\"tokens in our ltoken2 list.\")\n",
    "print(\"beginning with:\",ltokens2[:30],\" \\n\")\n",
    "print(\"After removing stop words, we now have\",len(ltokens2ns),\"tokens in our list.\")\n",
    "print(\"beginning with:\",ltokens2ns[:30])"
   ]
  },
  {
   "attachments": {},
   "cell_type": "markdown",
   "id": "fc2fd907",
   "metadata": {},
   "source": [
    "<div class=\"alert alert-info\" role=\"alert\">\n",
    "    <h3 style = \"color:blue\">Exercises (Part I)</h3>\n",
    "    <p style = \"color:blue\"><b>5. Tokenize and lower-case another SOTU address.</b><p>\n",
    "    <p style = \"color:blue\">We counted the number of tokens within Washington's 1794 address. Choose another SOTU address and compute and print out the number of words contained within it.</p>\n",
    "</div>"
   ]
  },
  {
   "cell_type": "code",
   "execution_count": 13,
   "id": "c6135679",
   "metadata": {},
   "outputs": [
    {
     "name": "stdout",
     "output_type": "stream",
     "text": [
      "['Fellow', 'Citizens', 'of', 'the', 'Senate', 'and', 'House', 'of', 'Representatives', 'Again', 'the', 'blessings', 'of', 'health', 'and', 'abundant', 'harvests', 'claim', 'our', 'profoundest', 'gratitude', 'to', 'Almighty', 'God', 'The', 'condition', 'of', 'our', 'foreign', 'affairs', 'is', 'reasonably', 'satisfactory', 'Mexico', 'continues', 'to', 'be', 'a', 'theater', 'of', 'civil', 'war', 'While', 'our', 'political', 'relations', 'with', 'that', 'country', 'have']\n"
     ]
    }
   ],
   "source": [
    "with open(Path(sotudir,'1864_Lincoln.txt')) as f:\n",
    "    linc64 = f.read()\n",
    "tokenizer = RegexpTokenizer(r'\\w+')\n",
    "linctoks=tokenizer.tokenize(linc64)\n",
    "print(linctoks[:50])"
   ]
  },
  {
   "cell_type": "code",
   "execution_count": null,
   "id": "4e014b53",
   "metadata": {},
   "outputs": [],
   "source": []
  },
  {
   "cell_type": "markdown",
   "id": "a09292ac",
   "metadata": {},
   "source": [
    "<div style = \"background-color:#f3e5f5\">\n",
    "    <br/>\n",
    "    <h3 style = \"color:#7b1fa2\">Part II. Python Basics: For Loops vs. List Comprehensions</h3>\n",
    "    <p style = \"color:#7b1fa2\">In step 4c, we converted our tokens to lower-case and saved them to a new list called \"ltokens2\" using the list comprehension:</p></div>\n",
    "        \n",
    "        ltokens2 = [tok.lower() for tok in tokens2]\n",
    "        \n",
    "<div style = \"background-color:#f3e5f5\">\n",
    "    <p style = \"color:#7b1fa2\">This task could also be accomplised with a <b>for loop</b>.</p>  \n",
    "    <p style = \"color:#7b1fa2\">6. <b>FOR LOOPS to iterate through lists</b>: In the previous lesson we converted all tokens to lowercase using a simple <b>for loop</b>.</p>\n",
    "    <br/>\n",
    "</div>"
   ]
  },
  {
   "cell_type": "code",
   "execution_count": 14,
   "id": "ad3ce76a",
   "metadata": {},
   "outputs": [],
   "source": [
    "ltokens2 = []                      #assigns an empty list to the variable ltokens2\n",
    "for tok in tokens2:                #iterates through our tokens2 list we created above, assigning the variable name \"tok\" to each item in the list as it goes\n",
    "    ltokens2.append(tok.lower())   #lowercases each item (\"tok\") from tokens2 list and adds it to ltokens2 list (tokens2 is not permanently changed) using append function"
   ]
  },
  {
   "cell_type": "code",
   "execution_count": 15,
   "id": "99fbd8ab",
   "metadata": {},
   "outputs": [
    {
     "name": "stdout",
     "output_type": "stream",
     "text": [
      "tokens2 list: \n",
      " ['Fellow', 'Citizens', 'of', 'the', 'Senate', 'and', 'House', 'of', 'Representatives', 'When', 'we', 'call', 'to', 'mind', 'the', 'gracious', 'indulgence', 'of', 'Heaven', 'by', 'which', 'the', 'American', 'people', 'became', 'a', 'nation', 'when', 'we', 'survey', 'the', 'general', 'prosperity', 'of', 'our', 'country', 'and', 'look', 'forward', 'to'] \n",
      "\n",
      "\n",
      "ltokens2 list: \n",
      " ['fellow', 'citizens', 'of', 'the', 'senate', 'and', 'house', 'of', 'representatives', 'when', 'we', 'call', 'to', 'mind', 'the', 'gracious', 'indulgence', 'of', 'heaven', 'by', 'which', 'the', 'american', 'people', 'became', 'a', 'nation', 'when', 'we', 'survey', 'the', 'general', 'prosperity', 'of', 'our', 'country', 'and', 'look', 'forward', 'to']\n"
     ]
    }
   ],
   "source": [
    "print(\"tokens2 list: \\n\",tokens2[:40],\"\\n\\n\")\n",
    "print(\"ltokens2 list: \\n\",ltokens2[:40])"
   ]
  },
  {
   "cell_type": "markdown",
   "id": "3aec0905",
   "metadata": {},
   "source": [
    "<div style = \"background-color:#f3e5f5; color:purple\">\n",
    "    <br/>\n",
    "    <p>7. <b>LIST COMPREHENSIONS</b>: We can also use <b>list comprehensions</b> to iterate through lists more efficiently and with fewer lines of code.</p> \n",
    "    <p>We can do the same thing using a <b>list comprehension</b>. The formula for list comprehensions is:</p>\n",
    "        \n",
    "        newList = [item (or modified item) for item in oldList]\n",
    "    \n",
    "</div>\n"
   ]
  },
  {
   "cell_type": "markdown",
   "id": "06b585f8",
   "metadata": {},
   "source": [
    "<div style = \"background-color:#f3e5f5; color:purple\">\n",
    "    <br/>\n",
    "<p>You can also add a conditional:</p>\n",
    "    \n",
    "        newList = [item or (modified item) for item in oldList if item meets condition]\n",
    "</div>"
   ]
  },
  {
   "cell_type": "markdown",
   "id": "281978d8",
   "metadata": {},
   "source": [
    "<div style = \"background-color:#f3e5f5; color:purple\">\n",
    "    <br/>    \n",
    "    <p>For more on list comprehensions see: <a href=\"https://www.w3schools.com/python/python_lists_comprehension.asp\">w3schools</a> or <a href=\"https://realpython.com/list-comprehension-python/\">realpython</a>.</p>\n",
    "    <p style = \"color:purple\">To create a new list of tokens that have been converted to lower case, we can create the following list comprehension</p>\n",
    "    <br/>\n",
    "</div>"
   ]
  },
  {
   "cell_type": "code",
   "execution_count": 16,
   "id": "371b9c4d",
   "metadata": {},
   "outputs": [
    {
     "name": "stdout",
     "output_type": "stream",
     "text": [
      "ltokens2 list created using a list comprehension: \n",
      " ['fellow', 'citizens', 'of', 'the', 'senate', 'and', 'house', 'of', 'representatives', 'when', 'we', 'call', 'to', 'mind', 'the', 'gracious', 'indulgence', 'of', 'heaven', 'by', 'which', 'the', 'american', 'people', 'became', 'a', 'nation', 'when', 'we', 'survey', 'the', 'general', 'prosperity', 'of', 'our', 'country', 'and', 'look', 'forward', 'to']\n"
     ]
    }
   ],
   "source": [
    "ltokens2 = [tok.lower() for tok in tokens2]              #in plain English, this looks at each item (which we assign the variable \"tok\" here) in our list of tokens and\n",
    "                                                             ## lowercases it (with \"tok.lower()\") and then places this lower case version in a list (indicates by the \"[]\")\n",
    "                                                             ## which we call ltokens2.  Note: the only variable previously defined here is tokens2\n",
    "print(\"ltokens2 list created using a list comprehension: \\n\",ltokens2[:40])"
   ]
  },
  {
   "cell_type": "markdown",
   "id": "aabe4c41",
   "metadata": {},
   "source": [
    "<div style = \"background-color:#f3e5f5\">\n",
    "    <p style = \"color:purple\"><b>7b. Run the code below. What did it do?</b></p> \n",
    "</div>"
   ]
  },
  {
   "cell_type": "code",
   "execution_count": 17,
   "id": "e78f832a",
   "metadata": {},
   "outputs": [
    {
     "name": "stdout",
     "output_type": "stream",
     "text": [
      "['THE', 'THE', 'THEY', 'THEY', 'THEY', 'THUS', 'THIRTY', 'THE', 'THE', 'TO', 'THE', 'THE', 'TOWARD', 'THE', 'THE', 'THE', 'THERE']\n"
     ]
    }
   ],
   "source": [
    "#here is an example of a list comprehension with a conditional. \n",
    "\n",
    "utokensT = [tok.upper() for tok in tokens2 if tok.startswith(\"T\")]\n",
    "print(utokensT)"
   ]
  },
  {
   "cell_type": "code",
   "execution_count": null,
   "id": "13e2d64d",
   "metadata": {},
   "outputs": [],
   "source": []
  },
  {
   "cell_type": "markdown",
   "id": "94420b66",
   "metadata": {},
   "source": [
    "## Part III. Creating Frequency Lists\n",
    "\n",
    "**8. Counting Unique Items in a List:** As with most tasks in Python or other popular programming languages, there are multiple ways to count unique items in a list and create frequency items of them. First, we will use the **collections** package."
   ]
  },
  {
   "cell_type": "code",
   "execution_count": 18,
   "id": "d0a6457b",
   "metadata": {},
   "outputs": [
    {
     "data": {
      "text/plain": [
       "Counter({3: 1, 2: 2})"
      ]
     },
     "execution_count": 18,
     "metadata": {},
     "output_type": "execute_result"
    }
   ],
   "source": [
    "numsList = [3,2,2]                         #INSERT ADDITIONAL NUMBERS IN THIS LIST, include repeats       \n",
    "collections.Counter(numsList)   #using the function \"Counter\" from the package \"collections\" - creates a \n",
    "                                                  ## frequency list from numslist\n"
   ]
  },
  {
   "cell_type": "markdown",
   "id": "99368171",
   "metadata": {},
   "source": [
    "**9. Counting Unique Tokens:** Let's apply the same method to create a frequency list of our tokens from out list of lowercase tokens (ltokens2)"
   ]
  },
  {
   "cell_type": "code",
   "execution_count": 19,
   "id": "5ae493b5",
   "metadata": {},
   "outputs": [],
   "source": [
    "tokfreqs = collections.Counter(ltokens2)"
   ]
  },
  {
   "cell_type": "markdown",
   "id": "e34a1322",
   "metadata": {},
   "source": [
    "**9b. To view the most or least common tokens in our list, run:**"
   ]
  },
  {
   "cell_type": "code",
   "execution_count": 20,
   "id": "464e850b",
   "metadata": {},
   "outputs": [
    {
     "name": "stdout",
     "output_type": "stream",
     "text": [
      "[('the', 273), ('of', 187), ('to', 138), ('and', 86), ('a', 48), ('that', 39), ('by', 36), ('be', 36), ('in', 36), ('which', 34), ('not', 32), ('have', 30), ('been', 24), ('our', 22), ('it', 22), ('were', 20), ('states', 19), ('as', 19), ('from', 19), ('i', 18), ('an', 18), ('with', 17), ('was', 17), ('their', 17), ('united', 15), ('this', 15), ('government', 14), ('for', 14), ('will', 14), ('them', 13), ('has', 13), ('is', 12), ('they', 12), ('or', 12), ('on', 12), ('laws', 12), ('may', 12), ('who', 11), ('my', 11), ('would', 10)]\n",
      "\n",
      "\n",
      "[('go', 1), ('safeguard', 1), ('anticipations', 1), ('verify', 1), ('conferred', 1), ('goodness', 1), ('perpetuate', 1), ('flight', 1), ('invasion', 1), ('sedition', 1), ('internal', 1), ('out', 1), ('root', 1), ('times', 1), ('enable', 1), ('confirming', 1), ('wicked', 1), ('machinations', 1), ('turn', 1), ('protection', 1), ('holy', 1), ('spread', 1), ('ruler', 1), ('imploring', 1), ('ourselves', 1), ('insist', 1), ('acquiring', 1), ('lose', 1), ('right', 1), ('acquired', 1), ('injurious', 1), ('correct', 1), ('misapprehended', 1), ('explain', 1), ('impartiality', 1), ('line', 1), ('deviation', 1), ('check', 1), ('faith', 1)]\n"
     ]
    }
   ],
   "source": [
    "print(tokfreqs.most_common(40))\n",
    "print(\"\\n\")\n",
    "print(tokfreqs.most_common()[:-40:-1]) #there is no function for returning the least common tokens\n",
    "     #however, we can essentially do the same thing with the above code \n",
    "    # by taking the tokens found at the end of the ordered list of most common tokens (the extra \":\" before -60\n",
    "    # returns the end of this list in reverse)"
   ]
  },
  {
   "cell_type": "markdown",
   "id": "b0e66907",
   "metadata": {},
   "source": [
    "**9c. FREQUENCY LIST WITH STOP WORDS REMOVED**: The list of most common words above does not seem to be very revealing. Let's try to remove stopwords to see how that changes the results."
   ]
  },
  {
   "cell_type": "code",
   "execution_count": 21,
   "id": "d8f21280",
   "metadata": {},
   "outputs": [
    {
     "name": "stdout",
     "output_type": "stream",
     "text": [
      "\n",
      "Now our most common 40 tokens (after removing stop words) are:\n",
      " [('states', 19), ('united', 15), ('government', 14), ('laws', 12), ('may', 12), ('would', 10), ('militia', 10), ('citizens', 9), ('constitution', 8), ('pennsylvania', 8), ('upon', 8), ('men', 7), ('congress', 7), ('every', 7), ('general', 6), ('power', 5), ('insurrection', 5), ('therefore', 5), ('let', 5), ('house', 4), ('however', 4), ('session', 4), ('counties', 4), ('justice', 4), ('might', 4), ('inspector', 4), ('time', 4), ('force', 4), ('without', 4), ('shall', 4), ('must', 4), ('thus', 4), ('army', 4), ('ought', 4), ('whether', 4), ('public', 4), ('fellow', 3), ('representatives', 3), ('nation', 3), ('prosperity', 3)]\n"
     ]
    }
   ],
   "source": [
    "n=40\n",
    "tokfreqs_ns=collections.Counter(ltokens2ns)\n",
    "print(\"\\nNow our most common\",n,\"tokens (after removing stop words) are:\\n\",tokfreqs_ns.most_common(n))"
   ]
  },
  {
   "cell_type": "code",
   "execution_count": null,
   "id": "c7f591a6",
   "metadata": {},
   "outputs": [],
   "source": []
  },
  {
   "cell_type": "markdown",
   "id": "9e566b11",
   "metadata": {},
   "source": [
    "<div class=\"alert alert-info\" role=\"alert\"><h3 style='color:blue'>Exercises (Parts I - III)</h3></div>\n",
    "\n",
    "<div class=\"alert alert-info\" role=\"alert\"><p style='color:blue'>10. Open and read in a different SOTU address of your choice. Tokenize it using the tokenizer we used to remove all punctuation.</p></div>"
   ]
  },
  {
   "cell_type": "code",
   "execution_count": 22,
   "id": "aeb39f01",
   "metadata": {},
   "outputs": [
    {
     "name": "stdout",
     "output_type": "stream",
     "text": [
      "28099\n",
      "['To', 'the', 'Congress', 'of', 'the', 'United', 'States', 'A', 'quarter', 'century', 'ago', 'the', 'Congress', 'decided', 'that', 'it', 'could', 'no', 'longer', 'consider', 'the', 'financial', 'programs', 'of', 'the', 'various', 'departments', 'on', 'a', 'piecemeal', 'basis', 'Instead', 'it', 'has', 'called', 'on', 'the', 'President', 'to', 'present', 'a', 'comprehensive', 'Executive', 'Budget', 'The', 'Congress', 'has', 'shown', 'its', 'satisfaction', 'with', 'that', 'method', 'by', 'extending', 'the', 'budget', 'system', 'and', 'tightening', 'its', 'controls', 'The', 'bigger', 'and', 'more', 'complex', 'the', 'Federal', 'Program', 'the', 'more', 'necessary', 'it', 'is', 'for', 'the', 'Chief', 'Executive', 'to', 'submit', 'a', 'single', 'budget', 'for', 'action', 'by', 'the', 'Congress', 'At', 'the', 'same', 'time', 'it', 'is', 'clear', 'that', 'the', 'budgetary', 'program']\n"
     ]
    }
   ],
   "source": [
    "with open(Path(sotudir,'1946_Truman.txt')) as f:\n",
    "    truman46 = f.read()\n",
    "tokenizer = RegexpTokenizer(r'\\w+')\n",
    "trumantoks = tokenizer.tokenize(truman46)\n",
    "#print(trumantoks[:50])\n",
    "print(len(trumantoks))\n",
    "print(trumantoks[:100])"
   ]
  },
  {
   "cell_type": "markdown",
   "id": "1e97bb56",
   "metadata": {},
   "source": [
    "<div class=\"alert alert-info\" role=\"alert\"><p style='color:blue'>11. Now convert all remaining tokens into lower case and remove all stopwords. How many tokens are now found in your token list?</p></div>"
   ]
  },
  {
   "cell_type": "code",
   "execution_count": 23,
   "id": "f4e8cc56",
   "metadata": {},
   "outputs": [
    {
     "name": "stdout",
     "output_type": "stream",
     "text": [
      "15486\n",
      "['congress', 'united', 'states', 'quarter', 'century', 'ago', 'congress', 'decided', 'could', 'longer', 'consider', 'financial', 'programs', 'various', 'departments', 'piecemeal', 'basis', 'instead', 'called', 'president', 'present', 'comprehensive', 'executive', 'budget', 'congress', 'shown', 'satisfaction', 'method', 'extending', 'budget', 'system', 'tightening', 'controls', 'bigger', 'complex', 'federal', 'program', 'necessary', 'chief', 'executive', 'submit', 'single', 'budget', 'action', 'congress', 'time', 'clear', 'budgetary', 'program', 'general', 'program', 'government', 'actually', 'inseparable', 'president', 'bears', 'responsibility', 'recommending', 'congress', 'comprehensive', 'set', 'proposals', 'government', 'activities', 'financing', 'formulating', 'policies', 'preparing', 'budgetary', 'estimates', 'nation', 'congress', 'right', 'expect', 'president', 'adjust', 'coordinate', 'views', 'various', 'departments', 'agencies', 'form', 'unified', 'program', 'program', 'requires', 'consideration', 'connection', 'budget', 'annual', 'work', 'program', 'government', 'since', 'programs', 'period', 'combines', 'war', 'liquidation', 'reconversion']\n"
     ]
    }
   ],
   "source": [
    "trumantoks_lwr_nostops = [tok.lower() for tok in trumantoks if tok.lower() not in stop]   #could also write this in 2 lines of code:\n",
    "#trumantoks_lwr = [tok.lower() for tok in trumantoks]\n",
    "#trumantoks_lwr_nostops = [ltok for ltok in trumantoks_lwr if ltok not in stop]\n",
    "print(len(trumantoks_lwr_nostops))\n",
    "print(trumantoks_lwr_nostops[:100])\n"
   ]
  },
  {
   "cell_type": "markdown",
   "id": "a57e7fbd",
   "metadata": {},
   "source": [
    "<div class=\"alert alert-info\" role=\"alert\"><p style='color:blue'>12. Create a frequency list of the top 30 words in your new list of tokens (lowercase with all punctuation tokens and stopwords removed). Compare the frequency list to the list we created for Washington's 1794 address. In what ways do they appear most different? Similar?</p></div>"
   ]
  },
  {
   "cell_type": "code",
   "execution_count": 24,
   "id": "cedec755",
   "metadata": {},
   "outputs": [
    {
     "name": "stdout",
     "output_type": "stream",
     "text": [
      "most common 40 words in Truman's 1946 address:\n",
      "[('dollars', 207), ('war', 201), ('year', 187), ('million', 138), ('government', 135), ('fiscal', 129), ('expenditures', 120), ('program', 96), ('united', 92), ('1947', 87), ('billion', 85), ('federal', 78), ('congress', 74), ('must', 73), ('states', 72), ('legislation', 64), ('national', 60), ('1945', 58), ('world', 55), ('estimated', 55), ('business', 54), ('public', 54), ('economic', 53), ('production', 52), ('total', 52), ('time', 50), ('1946', 49), ('people', 49), ('1', 48), ('would', 46), ('new', 45), ('budget', 44), ('recommended', 44), ('also', 44), ('full', 43), ('employment', 43), ('nations', 43), ('increase', 43), ('years', 42), ('made', 40)]\n",
      "\n",
      "***compared to Washington's 1794 address:\n",
      "\n",
      "[('states', 19), ('united', 15), ('government', 14), ('laws', 12), ('may', 12), ('would', 10), ('militia', 10), ('citizens', 9), ('constitution', 8), ('pennsylvania', 8), ('upon', 8), ('men', 7), ('congress', 7), ('every', 7), ('general', 6), ('power', 5), ('insurrection', 5), ('therefore', 5), ('let', 5), ('house', 4), ('however', 4), ('session', 4), ('counties', 4), ('justice', 4), ('might', 4), ('inspector', 4), ('time', 4), ('force', 4), ('without', 4), ('shall', 4), ('must', 4), ('thus', 4), ('army', 4), ('ought', 4), ('whether', 4), ('public', 4), ('fellow', 3), ('representatives', 3), ('nation', 3), ('prosperity', 3)]\n"
     ]
    }
   ],
   "source": [
    "n = 40\n",
    "truman_tokfreqs = collections.Counter(trumantoks_lwr_nostops)\n",
    "#print(tokfreqs)\n",
    "print(f\"most common {n} words in Truman's 1946 address:\")   #this works the same as: print(\"most common %s words in Truman's 1946 address:\"%n)\n",
    "print(truman_tokfreqs.most_common(n))\n",
    "print(\"\\n***compared to Washington's 1794 address:\\n\")\n",
    "print(tokfreqs_ns.most_common(n))\n"
   ]
  },
  {
   "cell_type": "markdown",
   "id": "c1f1f0fb",
   "metadata": {},
   "source": [
    "## IV. Create a Dataframe of SOTU texts\n",
    "\n",
    "**14. DATAFRAMES:** To enable easier analysis of the SOTU texts, we can store info about each in a **dataframe**. A dataframe in Python is a common data structure enabled with the **pandas** library. It is a two-dimensional data table that stores data in rows and columns. Run the code below, and then examine what each portion of the code does."
   ]
  },
  {
   "cell_type": "code",
   "execution_count": 25,
   "id": "804598b6",
   "metadata": {},
   "outputs": [
    {
     "data": {
      "text/html": [
       "<div>\n",
       "<style scoped>\n",
       "    .dataframe tbody tr th:only-of-type {\n",
       "        vertical-align: middle;\n",
       "    }\n",
       "\n",
       "    .dataframe tbody tr th {\n",
       "        vertical-align: top;\n",
       "    }\n",
       "\n",
       "    .dataframe thead th {\n",
       "        text-align: right;\n",
       "    }\n",
       "</style>\n",
       "<table border=\"1\" class=\"dataframe\">\n",
       "  <thead>\n",
       "    <tr style=\"text-align: right;\">\n",
       "      <th></th>\n",
       "      <th>pres</th>\n",
       "      <th>year</th>\n",
       "      <th>numtoks</th>\n",
       "      <th>tokens</th>\n",
       "      <th>fulltext</th>\n",
       "      <th>ltoks</th>\n",
       "    </tr>\n",
       "  </thead>\n",
       "  <tbody>\n",
       "    <tr>\n",
       "      <th>0</th>\n",
       "      <td>Washington</td>\n",
       "      <td>1790</td>\n",
       "      <td>0</td>\n",
       "      <td>[]</td>\n",
       "      <td></td>\n",
       "      <td>[]</td>\n",
       "    </tr>\n",
       "    <tr>\n",
       "      <th>1</th>\n",
       "      <td>Washington</td>\n",
       "      <td>1791</td>\n",
       "      <td>2314</td>\n",
       "      <td>[Fellow, Citizens, of, the, Senate, and, House...</td>\n",
       "      <td>Fellow-Citizens of the Senate and House of Rep...</td>\n",
       "      <td>[fellow, citizens, of, the, senate, and, house...</td>\n",
       "    </tr>\n",
       "    <tr>\n",
       "      <th>2</th>\n",
       "      <td>Washington</td>\n",
       "      <td>1792</td>\n",
       "      <td>2104</td>\n",
       "      <td>[Fellow, Citizens, of, the, Senate, and, House...</td>\n",
       "      <td>Fellow-Citizens of the Senate and House of Rep...</td>\n",
       "      <td>[fellow, citizens, of, the, senate, and, house...</td>\n",
       "    </tr>\n",
       "    <tr>\n",
       "      <th>3</th>\n",
       "      <td>Washington</td>\n",
       "      <td>1793</td>\n",
       "      <td>1973</td>\n",
       "      <td>[Fellow, Citizens, of, the, Senate, and, House...</td>\n",
       "      <td>Fellow-Citizens of the Senate and House of Rep...</td>\n",
       "      <td>[fellow, citizens, of, the, senate, and, house...</td>\n",
       "    </tr>\n",
       "    <tr>\n",
       "      <th>4</th>\n",
       "      <td>Washington</td>\n",
       "      <td>1794</td>\n",
       "      <td>2918</td>\n",
       "      <td>[Fellow, Citizens, of, the, Senate, and, House...</td>\n",
       "      <td>Fellow-Citizens of the Senate and House of Rep...</td>\n",
       "      <td>[fellow, citizens, of, the, senate, and, house...</td>\n",
       "    </tr>\n",
       "    <tr>\n",
       "      <th>5</th>\n",
       "      <td>Washington</td>\n",
       "      <td>1795</td>\n",
       "      <td>1988</td>\n",
       "      <td>[Fellow, Citizens, of, the, Senate, and, House...</td>\n",
       "      <td>Fellow-Citizens of the Senate and House of Rep...</td>\n",
       "      <td>[fellow, citizens, of, the, senate, and, house...</td>\n",
       "    </tr>\n",
       "    <tr>\n",
       "      <th>6</th>\n",
       "      <td>Washington</td>\n",
       "      <td>1796</td>\n",
       "      <td>2878</td>\n",
       "      <td>[Fellow, Citizens, of, the, Senate, and, House...</td>\n",
       "      <td>Fellow-Citizens of the Senate and House of Rep...</td>\n",
       "      <td>[fellow, citizens, of, the, senate, and, house...</td>\n",
       "    </tr>\n",
       "    <tr>\n",
       "      <th>7</th>\n",
       "      <td>Adams</td>\n",
       "      <td>1797</td>\n",
       "      <td>2060</td>\n",
       "      <td>[Gentlemen, of, the, Senate, and, Gentlemen, o...</td>\n",
       "      <td>Gentlemen of the Senate and Gentlemen of the H...</td>\n",
       "      <td>[gentlemen, of, the, senate, and, gentlemen, o...</td>\n",
       "    </tr>\n",
       "    <tr>\n",
       "      <th>8</th>\n",
       "      <td>Adams</td>\n",
       "      <td>1798</td>\n",
       "      <td>2218</td>\n",
       "      <td>[Gentlemen, of, the, Senate, and, Gentlemen, o...</td>\n",
       "      <td>Gentlemen of the Senate and Gentlemen of the H...</td>\n",
       "      <td>[gentlemen, of, the, senate, and, gentlemen, o...</td>\n",
       "    </tr>\n",
       "    <tr>\n",
       "      <th>9</th>\n",
       "      <td>Adams</td>\n",
       "      <td>1799</td>\n",
       "      <td>1505</td>\n",
       "      <td>[Gentlemen, of, the, Senate, and, Gentlemen, o...</td>\n",
       "      <td>Gentlemen of the Senate and Gentlemen of the H...</td>\n",
       "      <td>[gentlemen, of, the, senate, and, gentlemen, o...</td>\n",
       "    </tr>\n",
       "  </tbody>\n",
       "</table>\n",
       "</div>"
      ],
      "text/plain": [
       "         pres  year  numtoks  \\\n",
       "0  Washington  1790        0   \n",
       "1  Washington  1791     2314   \n",
       "2  Washington  1792     2104   \n",
       "3  Washington  1793     1973   \n",
       "4  Washington  1794     2918   \n",
       "5  Washington  1795     1988   \n",
       "6  Washington  1796     2878   \n",
       "7       Adams  1797     2060   \n",
       "8       Adams  1798     2218   \n",
       "9       Adams  1799     1505   \n",
       "\n",
       "                                              tokens  \\\n",
       "0                                                 []   \n",
       "1  [Fellow, Citizens, of, the, Senate, and, House...   \n",
       "2  [Fellow, Citizens, of, the, Senate, and, House...   \n",
       "3  [Fellow, Citizens, of, the, Senate, and, House...   \n",
       "4  [Fellow, Citizens, of, the, Senate, and, House...   \n",
       "5  [Fellow, Citizens, of, the, Senate, and, House...   \n",
       "6  [Fellow, Citizens, of, the, Senate, and, House...   \n",
       "7  [Gentlemen, of, the, Senate, and, Gentlemen, o...   \n",
       "8  [Gentlemen, of, the, Senate, and, Gentlemen, o...   \n",
       "9  [Gentlemen, of, the, Senate, and, Gentlemen, o...   \n",
       "\n",
       "                                            fulltext  \\\n",
       "0                                                      \n",
       "1  Fellow-Citizens of the Senate and House of Rep...   \n",
       "2  Fellow-Citizens of the Senate and House of Rep...   \n",
       "3  Fellow-Citizens of the Senate and House of Rep...   \n",
       "4  Fellow-Citizens of the Senate and House of Rep...   \n",
       "5  Fellow-Citizens of the Senate and House of Rep...   \n",
       "6  Fellow-Citizens of the Senate and House of Rep...   \n",
       "7  Gentlemen of the Senate and Gentlemen of the H...   \n",
       "8  Gentlemen of the Senate and Gentlemen of the H...   \n",
       "9  Gentlemen of the Senate and Gentlemen of the H...   \n",
       "\n",
       "                                               ltoks  \n",
       "0                                                 []  \n",
       "1  [fellow, citizens, of, the, senate, and, house...  \n",
       "2  [fellow, citizens, of, the, senate, and, house...  \n",
       "3  [fellow, citizens, of, the, senate, and, house...  \n",
       "4  [fellow, citizens, of, the, senate, and, house...  \n",
       "5  [fellow, citizens, of, the, senate, and, house...  \n",
       "6  [fellow, citizens, of, the, senate, and, house...  \n",
       "7  [gentlemen, of, the, senate, and, gentlemen, o...  \n",
       "8  [gentlemen, of, the, senate, and, gentlemen, o...  \n",
       "9  [gentlemen, of, the, senate, and, gentlemen, o...  "
      ]
     },
     "execution_count": 25,
     "metadata": {},
     "output_type": "execute_result"
    }
   ],
   "source": [
    "tokenizer = RegexpTokenizer(r'\\w+')\n",
    "#n=50\n",
    "\n",
    "txtList=[]\n",
    "pathlist = sorted(sotudir.glob('*.txt'))      # .glob only stores the pathlist temporarily (for some reason), so you need to call it again!2\n",
    "for path in pathlist:\n",
    "    fn=path.stem                       #stem returns the filename minus the \".txt\" (file extension). \n",
    "    year,pres=fn.split(\"_\")            # fn = \"1794_Washington\" becomes year = \"1794\" and pres = \"Washington\"\n",
    "    with open(path,'r') as f:  \n",
    "        sotu = f.read()                #opens each file and reads it in as \"sotu\"\n",
    "    tokens=tokenizer.tokenize(sotu)    # tokenizes \"sotu\"\n",
    "    numtoks = len(tokens)             # counts the number of tokens in \"sotu\"\n",
    "    txtList.append([pres,year,numtoks,tokens,sotu])   #add this info for \"sotu\" to a running list for all sotu addresses\n",
    "\n",
    "colnames=['pres','year','numtoks','tokens','fulltext']\n",
    "sotudf=pd.DataFrame(txtList,columns=colnames)  #places our completed list of SOTU info in a dataframe\n",
    "sotudf['ltoks'] = sotudf['tokens'].apply(lambda x: [tok.lower() for tok in x]) #creates a new column to store lower case tokens\n",
    "sotudf.head(10)                  #prints out the first 10 rows of this dataframe (the default value for head() is 5 rows)"
   ]
  },
  {
   "cell_type": "markdown",
   "id": "af9cfe49",
   "metadata": {},
   "source": [
    "**15. SAVING DATAFRAMES:** It would be useful to reuse this dataframe in the future. Let's save it to a csv file. "
   ]
  },
  {
   "cell_type": "code",
   "execution_count": 26,
   "id": "0808b8ee",
   "metadata": {},
   "outputs": [],
   "source": [
    "sotudf.to_csv(\"sotudf.tsv\",encoding = \"utf-8\",sep=\"\\t\")\n",
    "#we are saving this with a \"tsv\" extension to indicate we are using tabs (\"\\t\") as our delimiter between columns, not commas\n",
    "#csv = comma separated values; tsv = tab separated values\n",
    "#within JupyterHub you should see this new file appear on the folder directory to the left. \n",
    "#you are welcome to download it (right click--> Download on PCS; Ctrl-Click --> Download on Macs)\n",
    "# you can then open it in Excel by 1. opening a new, blank Excel workbook; 2. Go to the Data tab --> GetData/From Text/CSV\n",
    "# 3. navigate to the folder you downloaded the tsv file to; 4. change the option at the bottom right to view \"All Files\" \n",
    "# 5. select and open the .tsv file 6. in the dialogue box make sure the delimiter is set to \"Tab\" (and also recommended but not required to set File Origin to \"Unicode (UTF-8)\" \n",
    "# 6. Select Load"
   ]
  },
  {
   "cell_type": "code",
   "execution_count": null,
   "id": "014341db",
   "metadata": {},
   "outputs": [],
   "source": []
  },
  {
   "cell_type": "markdown",
   "id": "fe25afef",
   "metadata": {},
   "source": [
    "## V. Searching for Specific Words\n",
    "\n",
    "In this section, we will create code that searches for specific words across the entire SOTU corpus.\n",
    "\n",
    "**16. QUICK VIEW OF WORDS IN CONTEXT:** Before searching, however, we can quickly use the **concordance** function from the **nltk** library to view words in context."
   ]
  },
  {
   "cell_type": "code",
   "execution_count": 27,
   "id": "b3caffaa",
   "metadata": {},
   "outputs": [
    {
     "name": "stdout",
     "output_type": "stream",
     "text": [
      "Displaying 5 of 5 matches:\n",
      "ply because they could not afford government ordered health plans We repealed \n",
      "we know that faith and family not government and bureaucracy are the center of\n",
      " their country And they deserve a Government that shows them the same love and\n",
      "st between our citizens and their Government Working with the Senate we are ap\n",
      " to the world In Detroit I halted Government mandates that crippled America s \n"
     ]
    }
   ],
   "source": [
    "text1 = nltk.Text(tokens) #to use many of nltk's functions we need to convert our tokens list into a nltk.Text object\n",
    "    #remember, the tokens variable stores our first set of tokens derived from Washington's 1794 address\n",
    "    ## for concordances, it makes sense to work with unmodified tokens (in original case with all words and punctuation\n",
    "    ## still included)\n",
    "text1.concordance(\"government\")\n",
    "\n"
   ]
  },
  {
   "cell_type": "markdown",
   "id": "1bf7600b",
   "metadata": {},
   "source": [
    "17. Like a lot of Python functions, NLTK's **concordance**() functions allows us to pass in additional parameters. In this case, we will expand the context of our search terms to 200 characters."
   ]
  },
  {
   "cell_type": "code",
   "execution_count": 28,
   "id": "218e52b9",
   "metadata": {},
   "outputs": [
    {
     "name": "stdout",
     "output_type": "stream",
     "text": [
      "Displaying 5 of 5 matches:\n",
      "an 50 000 a year forcing them to pay tremendous penalties simply because they could not afford government ordered health plans We repealed the core of disastrous Obamacare the individual mandate is no\n",
      "ag Together we are rediscovering the American way In America we know that faith and family not government and bureaucracy are the center of the American life Our motto is in God we trust And we celebr\n",
      "d why we proudly stand for the national anthem Americans love their country And they deserve a Government that shows them the same love and loyalty in return For the last year we have sought to restor\n",
      " For the last year we have sought to restore the bonds of trust between our citizens and their Government Working with the Senate we are appointing judges who will interpret the Constitution as writte\n",
      " ended the war on clean coal We are now an exporter of energy to the world In Detroit I halted Government mandates that crippled America s autoworkers so we can get the Motor City revving its engines \n"
     ]
    }
   ],
   "source": [
    "text1.concordance(\"government\",200)"
   ]
  },
  {
   "cell_type": "code",
   "execution_count": null,
   "id": "a2e3fdb0",
   "metadata": {},
   "outputs": [],
   "source": []
  },
  {
   "cell_type": "markdown",
   "id": "e724a704",
   "metadata": {},
   "source": [
    "<div style = \"background-color:#f3e5f5\">\n",
    "<h3 style = \"color:purple\">Python Basics: Writing Functions</h3>\n",
    "\n",
    "<p style=\"color:purple\"><b>18. FUNCTIONS:</b> Now, it would be helpful if we placed the above code into a small program or **function** so that we can easily search for other terms and plot their frequency.</p>\n",
    "\n",
    "<p style=\"color:purple\">We have already used a variety of core Python functions such as <b>sum()</b>, <b>len()</b>, and <b>print()</b>. We have also called on many functions defined in auxiliary Python libraries or packages: such as the <b>word_tokenize()</b> and <b>concordance</b> functions from the <b>nltk</b> library we imported.</p>\n",
    "\n",
    "<p style=\"color:purple\">Here, however, we will create our own function. The typical format of a Python function is:</p>\n",
    "\n",
    "```python\n",
    "def functionName(argumentsToPassIn):\n",
    "    function instructions\n",
    "    return(resultsOfFunction)\n",
    "```\n",
    "    \n",
    "<p style=\"color:purple\"><b>19. A SIMPLE FUNCTION:</b>So, for example, if we had a list of names and we wanted to create a function to retrieve the initial of each, we could use the following function:</p>\n",
    "</div>"
   ]
  },
  {
   "cell_type": "code",
   "execution_count": 29,
   "id": "e86cf0ca",
   "metadata": {},
   "outputs": [
    {
     "data": {
      "text/plain": [
       "'JMM'"
      ]
     },
     "execution_count": 29,
     "metadata": {},
     "output_type": "execute_result"
    }
   ],
   "source": [
    "def Initials(fullname):\n",
    "    caps = re.findall('([A-Z])', fullname) #this use sthe findall function from the re package to find all capitalized letters\n",
    "    inits = ''.join(caps)  #takes our list of capitalized letters stored in \"caps\" and concatenates it\n",
    "    return(inits)\n",
    "    \n",
    "fullname = \"Jeremy M. Mikecz\"     #replace w/ your name\n",
    "Initials(fullname)"
   ]
  },
  {
   "cell_type": "markdown",
   "id": "98fc8b7b",
   "metadata": {},
   "source": [
    "<div style = \"background-color:#f3e5f5\"><p style=\"color:purple\">20. We can now apply this function to quickly return the initials from a long list of names.</p></div>"
   ]
  },
  {
   "cell_type": "code",
   "execution_count": 30,
   "id": "67cca89c",
   "metadata": {},
   "outputs": [],
   "source": [
    "actorlist = ['Christoph Waltz','Tom Hardy','Doug Walker','Daryl Sabara','J.K. Simmons','Brad Garrett','Chris Hemsworth','Alan Rickman','Henry Cavill','Kevin Spacey','Giancarlo Giannini','Johnny Depp','Johnny Depp','Henry Cavill','Peter Dinklage','Chris Hemsworth','Johnny Depp','Will Smith','Aidan Turner','Emma Stone','Mark Addy','Aidan Turner','Christopher Lee','Naomi Watts','Leonardo DiCaprio','Robert Downey Jr.','Liam Neeson','Bryce Dallas Howard','Albert Finney','J.K. Simmons','Robert Downey Jr.','Johnny Depp','Hugh Jackman','Steve Buscemi','Glenn Morshower','Bingbing Li','Tim Holmes','Emma Stone','Jeff Bridges','Joe Mantegna','Ryan Reynolds','Tom Hanks','Christian Bale','Jason Statham','Peter Capaldi','Jennifer Lawrence','Benedict Cumberbatch','Eddie Marsan','Leonardo DiCaprio','Jake Gyllenhaal','Charlie Hunnam','Glenn Morshower','Harrison Ford','A.J. Buckley','Kelly Macdonald','Sofia Boutella','John Ratzenberger','Tzi Ma','Oliver Platt','Robin Wright','Channing Tatum','Christoph Waltz','Jim Broadbent','Jennifer Lawrence','Christian Bale','John Ratzenberger','Amy Poehler','Robert Downey Jr.','ChloÃ« Grace Moretz','Will Smith','Jet Li','Will Smith','Jimmy Bennett','Tom Cruise','Jeanne Tripplehorn','Joseph Gordon-Levitt','Amy Poehler','Scarlett Johansson','Robert Downey Jr.','Chris Hemsworth','Angelina Jolie Pitt','Gary Oldman','Tamsin Egerton','Keanu Reeves','Scarlett Johansson','Jon Hamm','Judy Greer','Damon Wayans Jr.','Jack McBrayer','Tom Hanks','Vivica A. Fox','Gerard Butler','Nick Stahl','Bradley Cooper','Matthew McConaughey','Leonardo DiCaprio','Mark Chinnery','Aidan Turner','Paul Walker','Brad Pitt','Jennifer Lawrence','Jennifer Lawrence','Nicolas Cage','Jimmy Bennett','Johnny Depp','Justin Timberlake','Dominic Cooper','J.K. Simmons','Bruce Spence','Jennifer Garner','Zack Ward','Anthony Hopkins','Robert Pattinson','Robert Pattinson','Will Smith','Will Smith','Johnny Depp','Janeane Garofalo','Christian Bale','Bernie Mac','Robin Williams','Hugh Jackman','Essie Davis','Josh Gad','Steve Bastoni','Chris Hemsworth','Tom Hardy','Tom Hanks','Chris Hemsworth','ChloÃ« Grace Moretz','Kelli Garner','Liam Neeson','Johnny Depp','Tom Cruise','Anthony Hopkins','Christoph Waltz','Matthew Broderick','Angelina Jolie Pitt','Seychelle Gabriel','Philip Seymour Hoffman','Channing Tatum','Elisabeth Harnois','Hugh Jackman','Hugh Jackman','Ty Burrell','Brad Pitt','Jada Pinkett Smith','Toby Stephens','Ed Begley Jr.','Bruce Willis','Will Smith','Robin Wright','J.K. Simmons','Tom Cruise','Hugh Jackman','John Michael Higgins','Tom Cruise','Christian Bale','Chris Hemsworth','J.K. Simmons','Gerard Butler','Gerard Butler','Sam Shepard','Matt Frewer','Jet Li','Kevin Rankin','Channing Tatum','Matthew McConaughey','Steve Buscemi','Chris Evans','Colin Salmon','James DArcy','Robert Pattinson','Robin Williams','Ty Burrell','Don Johnson','Mark Rylance','Leonardo DiCaprio','Ryan Reynolds','Johnny Depp','Benedict Cumberbatch','Matt Damon','Angelina Jolie Pitt','Judy Greer','Jennifer Lawrence','Robert Pattinson','Jim Parsons','Tom Cruise','Will Smith','Salma Hayek','Angelina Jolie Pitt','Anthony Hopkins','Toby Jones','Daniel Radcliffe','Essie Davis','Will Smith','Alfre Woodard','Rupert Grint','Robin Williams','J.K. Simmons','Daniel Radcliffe','Ryan Reynolds','Mark Chinnery','Johnny Depp','Rupert Grint','Jennifer Lawrence','Tom Hanks','Miguel Ferrer','Hugh Jackman','Paul Walker','Robert Downey Jr.','Liam Neeson','Ronny Cox','Tony Curran','Jeremy Renner','Michael Gough','Clint Howard','Jake Gyllenhaal','Tom Cruise','Karen Allen','Chris Evans','Suraj Sharma','Nicolas Cage','Matt Damon','Demi Moore','Michael Fassbender','Nathan Lane','Matt Damon','Vin Diesel','Gary Oldman','Scott Porter','Shelley Conn','Tom Cruise','Morgan Freeman','Natalie Portman','Natalie Portman','Steve Buscemi','Hugh Jackman','Natalie Portman','Ryan Reynolds','Alain Delon','Nicolas Cage','Chris Hemsworth','Noel Fisher','Phaldut Sharma','Jamie RenÃ©e Smith','Stephen Amell','Tim Blake Nelson','Robin Williams','Dwayne Johnson','Vincent Schiavelli','Heath Ledger','Brad Pitt','Brad Pitt','Kate Winslet','Leonardo DiCaprio','James Corden','Christoph Waltz','George Peppard','Eva Green','Mahadeo Shivraj','Steve Buscemi','Naomi Watts','Hugh Jackman','Jacob Tremblay','Jason Patric','Harrison Ford','Bruce Willis','Christopher Lee','Jim Broadbent','Will Smith','Sean Hayes','Will Smith','Liam Neeson','Chazz Palminteri','Oprah Winfrey','Matt Damon','Mathew Buck','Scarlett Johansson','Del Zamora','Nicolas Cage','Djimon Hounsou','Tom Cruise','Daniel Radcliffe','Eva Green','Cary-Hiroyuki Tagawa','Joe Morton','Johnny Depp','Denzel Washington','Jamie Lee Curtis','Denzel Washington','Robert De Niro','Dwayne Johnson','Vanessa Williams','Leonardo DiCaprio','Demi Moore','Eartha Kitt','Jason Statham','Nicolas Cage','Djimon Hounsou','Catherine OHara','Hugh Jackman','Josh Hutcherson','Johnny Depp','CCH Pounder','Leonardo DiCaprio','Leonardo DiCaprio','Michael Gough','Jake Busey','Tom Hanks','Abbie Cornish','Frances Conroy','Dwayne Johnson','Joseph Gordon-Levitt','Will Ferrell','Jason Statham','Ray Winstone','Jamie Kennedy','Chris Hemsworth','Rosario Dawson','Matt Damon','Francesca Capaldi','Ben Gazzara','Dwayne Johnson','Leonardo DiCaprio','Christian Bale','Jeff Bridges','Jon Lovitz','Ioan Gruffudd','Will Ferrell','Milla Jovovich','Chris Noth','Frank Welker','Peter Dinklage','Hayley Atwell','Michael Imperioli','Alexander Gould','Orlando Bloom','Christopher Lee','Jeff Bridges','Angelina Jolie Pitt','Johnny Depp','Michael Jeter','James Franco','Martin Short','Bruce Willis','Dennis Quaid','Holly Hunter','Christopher Masterson','Logan Lerman','Will Smith','Tom Hanks','Denzel Washington','Mei MelanÃ§on','Harrison Ford','Will Forte','Denis Leary','Adam Scott','Bill Murray','Leonardo DiCaprio','Ming-Na Wen','Robert Downey Jr.','Robin Wright','Bruce Willis','Robert Downey Jr.','Morgan Freeman','Leonard Nimoy','Bella Thorne','Tom Cruise','Adam Sandler','Peter Dinklage','Haley Joel Osment','Marsha Thomason','Matthew McConaughey','Greg Grunberg','Curtiss Cook','Logan Lerman','Gerard Butler','Daniel Radcliffe','Alun Armstrong','Brad Pitt','Don Cheadle','Anne Hathaway','Robin Williams','Don Cheadle','Harrison Ford','Liam Neeson','Tim Blake Nelson','William Smith','Paddy Considine','Shirley Henderson','Jeff Bridges','Philip Seymour Hoffman','Paul Walker','Tom Hanks','Robin Williams','Matt Damon','Harrison Ford','Brad Pitt','Milla Jovovich','Steve Buscemi','Jeff Bennett','Caroline Dhavernas','Denzel Washington','Ioan Gruffudd','Matthew Broderick','Kate Winslet','Will Smith','Meryl Streep','Al Pacino','Jon Favreau','Kate Winslet','Bob Hoskins','Dwayne Johnson','F. Murray Abraham','Li Gong','Amber Stevens West','Jim Broadbent','Anthony Hopkins','Raymond Cruz','Roy Scheider','Julia Roberts','Anna Kendrick','Glenn Morshower','Larry Miller','Sarah Michelle Gellar','Wood Harris','Adam Sandler','Ted Danson','Jack McBrayer','Kristen Stewart','Seth MacFarlane','Robert Downey Jr.','Robert Duvall','Morgan Freeman','Jason Statham','Tom Cruise','Jennifer Lawrence','Bradley Cooper','Michael Gough','Bruce Willis','Tia Carrere','Steve Buscemi','Morgan Freeman','Bruce Willis','Adam Sandler','Amy Poehler','Steve Buscemi','Bill Murray','Keanu Reeves','Leonardo DiCaprio','Jon Favreau','Jim Broadbent','Nicolas Cage','Adam Sandler','Tom Hanks','Adam Sandler','Elden Henson','Steve Buscemi','Rosario Dawson','Philip Seymour Hoffman','Denzel Washington','Robin Williams','Liam Neeson','Bill Murray','Roger Rees','Keanu Reeves','Julia Roberts','Brad Pitt','Harrison Ford','Justin Timberlake','Matt Damon','Rosario Dawson','Gary Oldman','Denzel Washington','Vanessa Redgrave','Steve Buscemi','Elizabeth Montgomery','Quincy Jones','Mark Addy','Charlize Theron','Hugh Jackman','Michael Emerson','Robin Williams','Adam Sandler','Matt Damon','Natalie Portman','Nissim Renard','Anthony Hopkins','Bruce Willis','Bruce Greenwood','Sylvester Stallone','Charlie Rowe','Richard Tyson','Brendan Fraser','Fergie','Paul Walker','Olivia Williams','Adam Goldberg','Vin Diesel','Bob Neill','Mia Farrow','Pedro ArmendÃ¡riz Jr.','David Oyelowo','Sasha Roiz','Sariann Monaco','Adam Goldberg','Matthew Broderick','Josh Hutcherson','Will Forte','Philip Seymour Hoffman','J.K. Simmons','Al Pacino','Paul Walker','Jeff Bridges','Roger Rees','Robert De Niro','Steve Coogan','Jason Flemyng','Steve Carell','Will Smith','Ariana Richards','Jada Pinkett Smith','Charlie Hunnam','Hugh Jackman','Angelina Jolie Pitt','Nicolas Cage','Denis Leary','Adam Sandler','Jerry Stiller','James DArcy','Matthew Broderick','Morgan Freeman','Steve Buscemi','Tom Hanks','Harold Perrineau','Don Cheadle','Nicholas Lea','Philip Seymour Hoffman','Robert De Niro','Loretta Devine','Adam Arkin','Dwayne Johnson','Ayelet Zurer','Bruce Willis','Tom Selleck','Henry Cavill','Adam Sandler','Steve Buscemi','Bruce Willis','Julia Ormond','Bai Ling','Henry Cavill','Jimmy Bennett','Matt Damon','Harrison Ford','Connie Nielsen','Christopher Meloni','Brendan Fraser','Dennis Quaid','Robin Wright','Steve Carell','Jon Hamm','Nicolas Cage','Peter Coyote','Peter Dinklage','Matthew McConaughey','Adam Sandler','Jennifer Garner','Will Ferrell','Raven-SymonÃ©','Mhairi Calvey','Jake Gyllenhaal','Albert Brooks','Martin Landau','Sylvester Stallone','David Gant','Bryce Dallas Howard','Oliver Platt','Rory Culkin','Rupert Everett','John Ratzenberger','Julia Roberts','Vin Diesel','Tim Conway','Lili Taylor','Michael Fassbender','Robin Williams','Dwayne Johnson','Bruce Willis','Jeremy Renner','Nicole Beharie','Tom Cruise','Bryce Dallas Howard','Sanaa Lathan','Amy Poehler','Jon Hamm']"
   ]
  },
  {
   "cell_type": "code",
   "execution_count": 31,
   "id": "c71b47af",
   "metadata": {},
   "outputs": [
    {
     "name": "stdout",
     "output_type": "stream",
     "text": [
      "CW = Christoph Waltz\n",
      "TH = Tom Hardy\n",
      "DW = Doug Walker\n",
      "DS = Daryl Sabara\n",
      "JKS = J.K. Simmons\n",
      "BG = Brad Garrett\n",
      "CH = Chris Hemsworth\n",
      "AR = Alan Rickman\n",
      "HC = Henry Cavill\n",
      "KS = Kevin Spacey\n",
      "GG = Giancarlo Giannini\n",
      "JD = Johnny Depp\n",
      "JD = Johnny Depp\n",
      "HC = Henry Cavill\n",
      "PD = Peter Dinklage\n",
      "CH = Chris Hemsworth\n",
      "JD = Johnny Depp\n",
      "WS = Will Smith\n",
      "AT = Aidan Turner\n",
      "ES = Emma Stone\n"
     ]
    }
   ],
   "source": [
    "ctr=0\n",
    "for actor in actorlist:\n",
    "    if ctr<20:                               #we add this conditional so that it only prints out the first 20 examples to save space below\n",
    "        print(Initials(actor),\"=\",actor)\n",
    "        ctr+=1\n",
    "\n",
    "##without the if command: \n",
    "#for actor in actorlist:\n",
    "#    print(Initials(actor),\"=\",actor)\n"
   ]
  },
  {
   "cell_type": "markdown",
   "id": "379b83cf",
   "metadata": {},
   "source": [
    "Now, we are going to search across the entire SOTU corpus for a particular search term, count its frequency in each text using a function we create, and then store that count in a dataframe.\n",
    "\n",
    "21. First, we will apply a function to search for a term within a specific tokenized list. "
   ]
  },
  {
   "cell_type": "code",
   "execution_count": 32,
   "id": "dd62616f",
   "metadata": {},
   "outputs": [],
   "source": [
    "def getWordFreq (term,ltoks):\n",
    "    #ltoks = [tok.lower() for tok in toks]\n",
    "    tokfreqs=collections.Counter(ltoks)\n",
    "    wordFreq = tokfreqs[term]\n",
    "    return(wordFreq)"
   ]
  },
  {
   "cell_type": "markdown",
   "id": "6da6d139",
   "metadata": {},
   "source": [
    "21b. Let's test that function on one text: with the words stored in our ltokens2 list"
   ]
  },
  {
   "cell_type": "code",
   "execution_count": 33,
   "id": "d3963068",
   "metadata": {},
   "outputs": [
    {
     "name": "stdout",
     "output_type": "stream",
     "text": [
      "14\n"
     ]
    }
   ],
   "source": [
    "searchTerm = \"government\"\n",
    "#to apply to one text\n",
    "print(getWordFreq(searchTerm,ltokens2))"
   ]
  },
  {
   "cell_type": "markdown",
   "id": "5b47c48a",
   "metadata": {},
   "source": [
    "21c. We can then apply this function to the entire SOTU corpus using the tokens list we stored in our dataframe. First, let's review our dataframe:"
   ]
  },
  {
   "cell_type": "code",
   "execution_count": 34,
   "id": "3c6c2121",
   "metadata": {},
   "outputs": [
    {
     "data": {
      "text/html": [
       "<div>\n",
       "<style scoped>\n",
       "    .dataframe tbody tr th:only-of-type {\n",
       "        vertical-align: middle;\n",
       "    }\n",
       "\n",
       "    .dataframe tbody tr th {\n",
       "        vertical-align: top;\n",
       "    }\n",
       "\n",
       "    .dataframe thead th {\n",
       "        text-align: right;\n",
       "    }\n",
       "</style>\n",
       "<table border=\"1\" class=\"dataframe\">\n",
       "  <thead>\n",
       "    <tr style=\"text-align: right;\">\n",
       "      <th></th>\n",
       "      <th>pres</th>\n",
       "      <th>year</th>\n",
       "      <th>numtoks</th>\n",
       "      <th>tokens</th>\n",
       "      <th>fulltext</th>\n",
       "      <th>ltoks</th>\n",
       "    </tr>\n",
       "  </thead>\n",
       "  <tbody>\n",
       "    <tr>\n",
       "      <th>0</th>\n",
       "      <td>Washington</td>\n",
       "      <td>1790</td>\n",
       "      <td>0</td>\n",
       "      <td>[]</td>\n",
       "      <td></td>\n",
       "      <td>[]</td>\n",
       "    </tr>\n",
       "    <tr>\n",
       "      <th>1</th>\n",
       "      <td>Washington</td>\n",
       "      <td>1791</td>\n",
       "      <td>2314</td>\n",
       "      <td>[Fellow, Citizens, of, the, Senate, and, House...</td>\n",
       "      <td>Fellow-Citizens of the Senate and House of Rep...</td>\n",
       "      <td>[fellow, citizens, of, the, senate, and, house...</td>\n",
       "    </tr>\n",
       "    <tr>\n",
       "      <th>2</th>\n",
       "      <td>Washington</td>\n",
       "      <td>1792</td>\n",
       "      <td>2104</td>\n",
       "      <td>[Fellow, Citizens, of, the, Senate, and, House...</td>\n",
       "      <td>Fellow-Citizens of the Senate and House of Rep...</td>\n",
       "      <td>[fellow, citizens, of, the, senate, and, house...</td>\n",
       "    </tr>\n",
       "    <tr>\n",
       "      <th>3</th>\n",
       "      <td>Washington</td>\n",
       "      <td>1793</td>\n",
       "      <td>1973</td>\n",
       "      <td>[Fellow, Citizens, of, the, Senate, and, House...</td>\n",
       "      <td>Fellow-Citizens of the Senate and House of Rep...</td>\n",
       "      <td>[fellow, citizens, of, the, senate, and, house...</td>\n",
       "    </tr>\n",
       "    <tr>\n",
       "      <th>4</th>\n",
       "      <td>Washington</td>\n",
       "      <td>1794</td>\n",
       "      <td>2918</td>\n",
       "      <td>[Fellow, Citizens, of, the, Senate, and, House...</td>\n",
       "      <td>Fellow-Citizens of the Senate and House of Rep...</td>\n",
       "      <td>[fellow, citizens, of, the, senate, and, house...</td>\n",
       "    </tr>\n",
       "  </tbody>\n",
       "</table>\n",
       "</div>"
      ],
      "text/plain": [
       "         pres  year  numtoks  \\\n",
       "0  Washington  1790        0   \n",
       "1  Washington  1791     2314   \n",
       "2  Washington  1792     2104   \n",
       "3  Washington  1793     1973   \n",
       "4  Washington  1794     2918   \n",
       "\n",
       "                                              tokens  \\\n",
       "0                                                 []   \n",
       "1  [Fellow, Citizens, of, the, Senate, and, House...   \n",
       "2  [Fellow, Citizens, of, the, Senate, and, House...   \n",
       "3  [Fellow, Citizens, of, the, Senate, and, House...   \n",
       "4  [Fellow, Citizens, of, the, Senate, and, House...   \n",
       "\n",
       "                                            fulltext  \\\n",
       "0                                                      \n",
       "1  Fellow-Citizens of the Senate and House of Rep...   \n",
       "2  Fellow-Citizens of the Senate and House of Rep...   \n",
       "3  Fellow-Citizens of the Senate and House of Rep...   \n",
       "4  Fellow-Citizens of the Senate and House of Rep...   \n",
       "\n",
       "                                               ltoks  \n",
       "0                                                 []  \n",
       "1  [fellow, citizens, of, the, senate, and, house...  \n",
       "2  [fellow, citizens, of, the, senate, and, house...  \n",
       "3  [fellow, citizens, of, the, senate, and, house...  \n",
       "4  [fellow, citizens, of, the, senate, and, house...  "
      ]
     },
     "execution_count": 34,
     "metadata": {},
     "output_type": "execute_result"
    }
   ],
   "source": [
    "sotudf.head()"
   ]
  },
  {
   "attachments": {},
   "cell_type": "markdown",
   "id": "f1f80461",
   "metadata": {},
   "source": [
    "To create a new column in a dataframe, we simply start a line of code with:\n",
    "\n",
    "```\n",
    "dfname['newColName'] = [insert instructions for deriving values for column's cells]\n",
    "```\n",
    "\n",
    "The following code creates a new column (\"wordFreq\") which is calculated by applying (.apply() function)) our function \"getWordFreq\" \n",
    "on each value (\"x\") of the column \"ltoks\". The getWordFreq reads in not only the value of the ltoks cell (x) but also our searchTerm\n",
    "(which we set as \"government\" above)"
   ]
  },
  {
   "cell_type": "code",
   "execution_count": 35,
   "id": "75e351d5",
   "metadata": {},
   "outputs": [
    {
     "data": {
      "text/html": [
       "<div>\n",
       "<style scoped>\n",
       "    .dataframe tbody tr th:only-of-type {\n",
       "        vertical-align: middle;\n",
       "    }\n",
       "\n",
       "    .dataframe tbody tr th {\n",
       "        vertical-align: top;\n",
       "    }\n",
       "\n",
       "    .dataframe thead th {\n",
       "        text-align: right;\n",
       "    }\n",
       "</style>\n",
       "<table border=\"1\" class=\"dataframe\">\n",
       "  <thead>\n",
       "    <tr style=\"text-align: right;\">\n",
       "      <th></th>\n",
       "      <th>pres</th>\n",
       "      <th>year</th>\n",
       "      <th>numtoks</th>\n",
       "      <th>tokens</th>\n",
       "      <th>fulltext</th>\n",
       "      <th>ltoks</th>\n",
       "      <th>wordFreq</th>\n",
       "    </tr>\n",
       "  </thead>\n",
       "  <tbody>\n",
       "    <tr>\n",
       "      <th>0</th>\n",
       "      <td>Washington</td>\n",
       "      <td>1790</td>\n",
       "      <td>0</td>\n",
       "      <td>[]</td>\n",
       "      <td></td>\n",
       "      <td>[]</td>\n",
       "      <td>0</td>\n",
       "    </tr>\n",
       "    <tr>\n",
       "      <th>1</th>\n",
       "      <td>Washington</td>\n",
       "      <td>1791</td>\n",
       "      <td>2314</td>\n",
       "      <td>[Fellow, Citizens, of, the, Senate, and, House...</td>\n",
       "      <td>Fellow-Citizens of the Senate and House of Rep...</td>\n",
       "      <td>[fellow, citizens, of, the, senate, and, house...</td>\n",
       "      <td>7</td>\n",
       "    </tr>\n",
       "    <tr>\n",
       "      <th>2</th>\n",
       "      <td>Washington</td>\n",
       "      <td>1792</td>\n",
       "      <td>2104</td>\n",
       "      <td>[Fellow, Citizens, of, the, Senate, and, House...</td>\n",
       "      <td>Fellow-Citizens of the Senate and House of Rep...</td>\n",
       "      <td>[fellow, citizens, of, the, senate, and, house...</td>\n",
       "      <td>3</td>\n",
       "    </tr>\n",
       "    <tr>\n",
       "      <th>3</th>\n",
       "      <td>Washington</td>\n",
       "      <td>1793</td>\n",
       "      <td>1973</td>\n",
       "      <td>[Fellow, Citizens, of, the, Senate, and, House...</td>\n",
       "      <td>Fellow-Citizens of the Senate and House of Rep...</td>\n",
       "      <td>[fellow, citizens, of, the, senate, and, house...</td>\n",
       "      <td>3</td>\n",
       "    </tr>\n",
       "    <tr>\n",
       "      <th>4</th>\n",
       "      <td>Washington</td>\n",
       "      <td>1794</td>\n",
       "      <td>2918</td>\n",
       "      <td>[Fellow, Citizens, of, the, Senate, and, House...</td>\n",
       "      <td>Fellow-Citizens of the Senate and House of Rep...</td>\n",
       "      <td>[fellow, citizens, of, the, senate, and, house...</td>\n",
       "      <td>14</td>\n",
       "    </tr>\n",
       "  </tbody>\n",
       "</table>\n",
       "</div>"
      ],
      "text/plain": [
       "         pres  year  numtoks  \\\n",
       "0  Washington  1790        0   \n",
       "1  Washington  1791     2314   \n",
       "2  Washington  1792     2104   \n",
       "3  Washington  1793     1973   \n",
       "4  Washington  1794     2918   \n",
       "\n",
       "                                              tokens  \\\n",
       "0                                                 []   \n",
       "1  [Fellow, Citizens, of, the, Senate, and, House...   \n",
       "2  [Fellow, Citizens, of, the, Senate, and, House...   \n",
       "3  [Fellow, Citizens, of, the, Senate, and, House...   \n",
       "4  [Fellow, Citizens, of, the, Senate, and, House...   \n",
       "\n",
       "                                            fulltext  \\\n",
       "0                                                      \n",
       "1  Fellow-Citizens of the Senate and House of Rep...   \n",
       "2  Fellow-Citizens of the Senate and House of Rep...   \n",
       "3  Fellow-Citizens of the Senate and House of Rep...   \n",
       "4  Fellow-Citizens of the Senate and House of Rep...   \n",
       "\n",
       "                                               ltoks  wordFreq  \n",
       "0                                                 []         0  \n",
       "1  [fellow, citizens, of, the, senate, and, house...         7  \n",
       "2  [fellow, citizens, of, the, senate, and, house...         3  \n",
       "3  [fellow, citizens, of, the, senate, and, house...         3  \n",
       "4  [fellow, citizens, of, the, senate, and, house...        14  "
      ]
     },
     "execution_count": 35,
     "metadata": {},
     "output_type": "execute_result"
    }
   ],
   "source": [
    "sotudf['wordFreq'] = sotudf['ltoks'].apply(lambda x: getWordFreq(searchTerm,x))\n",
    "sotudf.head()"
   ]
  },
  {
   "attachments": {},
   "cell_type": "markdown",
   "id": "0354b9bb",
   "metadata": {},
   "source": [
    "Below we will create a new column to calculate the frequency per million words of our searchTerm.\n",
    "\n",
    "So, for example, if it appears 10 times in a 10,000 word address, it will have a freq_perMillion score of 1000."
   ]
  },
  {
   "cell_type": "code",
   "execution_count": 36,
   "id": "12bf9a46",
   "metadata": {},
   "outputs": [
    {
     "data": {
      "text/html": [
       "<div>\n",
       "<style scoped>\n",
       "    .dataframe tbody tr th:only-of-type {\n",
       "        vertical-align: middle;\n",
       "    }\n",
       "\n",
       "    .dataframe tbody tr th {\n",
       "        vertical-align: top;\n",
       "    }\n",
       "\n",
       "    .dataframe thead th {\n",
       "        text-align: right;\n",
       "    }\n",
       "</style>\n",
       "<table border=\"1\" class=\"dataframe\">\n",
       "  <thead>\n",
       "    <tr style=\"text-align: right;\">\n",
       "      <th></th>\n",
       "      <th>pres</th>\n",
       "      <th>year</th>\n",
       "      <th>numtoks</th>\n",
       "      <th>tokens</th>\n",
       "      <th>fulltext</th>\n",
       "      <th>ltoks</th>\n",
       "      <th>wordFreq</th>\n",
       "      <th>freq_perMillion</th>\n",
       "    </tr>\n",
       "  </thead>\n",
       "  <tbody>\n",
       "    <tr>\n",
       "      <th>0</th>\n",
       "      <td>Washington</td>\n",
       "      <td>1790</td>\n",
       "      <td>0</td>\n",
       "      <td>[]</td>\n",
       "      <td></td>\n",
       "      <td>[]</td>\n",
       "      <td>0</td>\n",
       "      <td>NaN</td>\n",
       "    </tr>\n",
       "    <tr>\n",
       "      <th>1</th>\n",
       "      <td>Washington</td>\n",
       "      <td>1791</td>\n",
       "      <td>2314</td>\n",
       "      <td>[Fellow, Citizens, of, the, Senate, and, House...</td>\n",
       "      <td>Fellow-Citizens of the Senate and House of Rep...</td>\n",
       "      <td>[fellow, citizens, of, the, senate, and, house...</td>\n",
       "      <td>7</td>\n",
       "      <td>3025.064823</td>\n",
       "    </tr>\n",
       "    <tr>\n",
       "      <th>2</th>\n",
       "      <td>Washington</td>\n",
       "      <td>1792</td>\n",
       "      <td>2104</td>\n",
       "      <td>[Fellow, Citizens, of, the, Senate, and, House...</td>\n",
       "      <td>Fellow-Citizens of the Senate and House of Rep...</td>\n",
       "      <td>[fellow, citizens, of, the, senate, and, house...</td>\n",
       "      <td>3</td>\n",
       "      <td>1425.855513</td>\n",
       "    </tr>\n",
       "    <tr>\n",
       "      <th>3</th>\n",
       "      <td>Washington</td>\n",
       "      <td>1793</td>\n",
       "      <td>1973</td>\n",
       "      <td>[Fellow, Citizens, of, the, Senate, and, House...</td>\n",
       "      <td>Fellow-Citizens of the Senate and House of Rep...</td>\n",
       "      <td>[fellow, citizens, of, the, senate, and, house...</td>\n",
       "      <td>3</td>\n",
       "      <td>1520.527116</td>\n",
       "    </tr>\n",
       "    <tr>\n",
       "      <th>4</th>\n",
       "      <td>Washington</td>\n",
       "      <td>1794</td>\n",
       "      <td>2918</td>\n",
       "      <td>[Fellow, Citizens, of, the, Senate, and, House...</td>\n",
       "      <td>Fellow-Citizens of the Senate and House of Rep...</td>\n",
       "      <td>[fellow, citizens, of, the, senate, and, house...</td>\n",
       "      <td>14</td>\n",
       "      <td>4797.806717</td>\n",
       "    </tr>\n",
       "  </tbody>\n",
       "</table>\n",
       "</div>"
      ],
      "text/plain": [
       "         pres  year  numtoks  \\\n",
       "0  Washington  1790        0   \n",
       "1  Washington  1791     2314   \n",
       "2  Washington  1792     2104   \n",
       "3  Washington  1793     1973   \n",
       "4  Washington  1794     2918   \n",
       "\n",
       "                                              tokens  \\\n",
       "0                                                 []   \n",
       "1  [Fellow, Citizens, of, the, Senate, and, House...   \n",
       "2  [Fellow, Citizens, of, the, Senate, and, House...   \n",
       "3  [Fellow, Citizens, of, the, Senate, and, House...   \n",
       "4  [Fellow, Citizens, of, the, Senate, and, House...   \n",
       "\n",
       "                                            fulltext  \\\n",
       "0                                                      \n",
       "1  Fellow-Citizens of the Senate and House of Rep...   \n",
       "2  Fellow-Citizens of the Senate and House of Rep...   \n",
       "3  Fellow-Citizens of the Senate and House of Rep...   \n",
       "4  Fellow-Citizens of the Senate and House of Rep...   \n",
       "\n",
       "                                               ltoks  wordFreq  \\\n",
       "0                                                 []         0   \n",
       "1  [fellow, citizens, of, the, senate, and, house...         7   \n",
       "2  [fellow, citizens, of, the, senate, and, house...         3   \n",
       "3  [fellow, citizens, of, the, senate, and, house...         3   \n",
       "4  [fellow, citizens, of, the, senate, and, house...        14   \n",
       "\n",
       "   freq_perMillion  \n",
       "0              NaN  \n",
       "1      3025.064823  \n",
       "2      1425.855513  \n",
       "3      1520.527116  \n",
       "4      4797.806717  "
      ]
     },
     "execution_count": 36,
     "metadata": {},
     "output_type": "execute_result"
    }
   ],
   "source": [
    "sotudf['freq_perMillion'] = sotudf['wordFreq']/sotudf['numtoks']*1000000\n",
    "sotudf.head()"
   ]
  },
  {
   "cell_type": "code",
   "execution_count": 37,
   "id": "4ed9d451",
   "metadata": {},
   "outputs": [
    {
     "data": {
      "text/html": [
       "<div>\n",
       "<style scoped>\n",
       "    .dataframe tbody tr th:only-of-type {\n",
       "        vertical-align: middle;\n",
       "    }\n",
       "\n",
       "    .dataframe tbody tr th {\n",
       "        vertical-align: top;\n",
       "    }\n",
       "\n",
       "    .dataframe thead th {\n",
       "        text-align: right;\n",
       "    }\n",
       "</style>\n",
       "<table border=\"1\" class=\"dataframe\">\n",
       "  <thead>\n",
       "    <tr style=\"text-align: right;\">\n",
       "      <th></th>\n",
       "      <th>pres</th>\n",
       "      <th>year</th>\n",
       "      <th>numtoks</th>\n",
       "      <th>tokens</th>\n",
       "      <th>fulltext</th>\n",
       "      <th>ltoks</th>\n",
       "      <th>wordFreq</th>\n",
       "      <th>freq_perMillion</th>\n",
       "    </tr>\n",
       "  </thead>\n",
       "  <tbody>\n",
       "    <tr>\n",
       "      <th>180</th>\n",
       "      <td>Nixon</td>\n",
       "      <td>1971</td>\n",
       "      <td>4549</td>\n",
       "      <td>[Mr, Speaker, Mr, President, my, colleagues, i...</td>\n",
       "      <td>Mr. Speaker, Mr. President, my colleagues in t...</td>\n",
       "      <td>[mr, speaker, mr, president, my, colleagues, i...</td>\n",
       "      <td>50</td>\n",
       "      <td>10991.426687</td>\n",
       "    </tr>\n",
       "    <tr>\n",
       "      <th>107</th>\n",
       "      <td>McKinley</td>\n",
       "      <td>1897</td>\n",
       "      <td>12225</td>\n",
       "      <td>[To, the, Senate, and, House, of, Representati...</td>\n",
       "      <td>To the Senate and House of Representatives:\\n\\...</td>\n",
       "      <td>[to, the, senate, and, house, of, representati...</td>\n",
       "      <td>110</td>\n",
       "      <td>8997.955010</td>\n",
       "    </tr>\n",
       "    <tr>\n",
       "      <th>147</th>\n",
       "      <td>Roosevelt</td>\n",
       "      <td>1938</td>\n",
       "      <td>4731</td>\n",
       "      <td>[Mr, President, Mr, Speaker, Members, of, the,...</td>\n",
       "      <td>Mr. President, Mr. Speaker, Members of the Sen...</td>\n",
       "      <td>[mr, president, mr, speaker, members, of, the,...</td>\n",
       "      <td>41</td>\n",
       "      <td>8666.243923</td>\n",
       "    </tr>\n",
       "    <tr>\n",
       "      <th>182</th>\n",
       "      <td>Nixon</td>\n",
       "      <td>1973</td>\n",
       "      <td>1680</td>\n",
       "      <td>[To, the, Congress, of, the, United, States, T...</td>\n",
       "      <td>To the Congress of the United States:\\n\\nThe t...</td>\n",
       "      <td>[to, the, congress, of, the, united, states, t...</td>\n",
       "      <td>14</td>\n",
       "      <td>8333.333333</td>\n",
       "    </tr>\n",
       "    <tr>\n",
       "      <th>91</th>\n",
       "      <td>Arthur</td>\n",
       "      <td>1881</td>\n",
       "      <td>3903</td>\n",
       "      <td>[To, the, Senate, and, House, of, Representati...</td>\n",
       "      <td>To the Senate and House of Representatives of ...</td>\n",
       "      <td>[to, the, senate, and, house, of, representati...</td>\n",
       "      <td>32</td>\n",
       "      <td>8198.821419</td>\n",
       "    </tr>\n",
       "  </tbody>\n",
       "</table>\n",
       "</div>"
      ],
      "text/plain": [
       "          pres  year  numtoks  \\\n",
       "180      Nixon  1971     4549   \n",
       "107   McKinley  1897    12225   \n",
       "147  Roosevelt  1938     4731   \n",
       "182      Nixon  1973     1680   \n",
       "91      Arthur  1881     3903   \n",
       "\n",
       "                                                tokens  \\\n",
       "180  [Mr, Speaker, Mr, President, my, colleagues, i...   \n",
       "107  [To, the, Senate, and, House, of, Representati...   \n",
       "147  [Mr, President, Mr, Speaker, Members, of, the,...   \n",
       "182  [To, the, Congress, of, the, United, States, T...   \n",
       "91   [To, the, Senate, and, House, of, Representati...   \n",
       "\n",
       "                                              fulltext  \\\n",
       "180  Mr. Speaker, Mr. President, my colleagues in t...   \n",
       "107  To the Senate and House of Representatives:\\n\\...   \n",
       "147  Mr. President, Mr. Speaker, Members of the Sen...   \n",
       "182  To the Congress of the United States:\\n\\nThe t...   \n",
       "91   To the Senate and House of Representatives of ...   \n",
       "\n",
       "                                                 ltoks  wordFreq  \\\n",
       "180  [mr, speaker, mr, president, my, colleagues, i...        50   \n",
       "107  [to, the, senate, and, house, of, representati...       110   \n",
       "147  [mr, president, mr, speaker, members, of, the,...        41   \n",
       "182  [to, the, congress, of, the, united, states, t...        14   \n",
       "91   [to, the, senate, and, house, of, representati...        32   \n",
       "\n",
       "     freq_perMillion  \n",
       "180     10991.426687  \n",
       "107      8997.955010  \n",
       "147      8666.243923  \n",
       "182      8333.333333  \n",
       "91       8198.821419  "
      ]
     },
     "execution_count": 37,
     "metadata": {},
     "output_type": "execute_result"
    }
   ],
   "source": [
    "#this code just temporarily sorts our dataset by the freq_perMillion column (in descending order)\n",
    "#if we wanted to make this sorting permanent, we would have to add \"sotudf = \" before the line of code below\n",
    "sotudf.sort_values('freq_perMillion',ascending=False).head()"
   ]
  },
  {
   "attachments": {},
   "cell_type": "markdown",
   "id": "dda9550b",
   "metadata": {},
   "source": [
    "Now, we will create a simple barplot using the Seaborn package/library for which we assigned the initials \"sns\" when we imported it at the beginning of this lesson.\n",
    "\n",
    "Notice how simple this code is. We just identify the dataframe we are drawing data from, and the names of the columns for the x and y data."
   ]
  },
  {
   "cell_type": "code",
   "execution_count": 38,
   "id": "1d43279f",
   "metadata": {},
   "outputs": [
    {
     "data": {
      "text/plain": [
       "<AxesSubplot:xlabel='year', ylabel='wordFreq'>"
      ]
     },
     "execution_count": 38,
     "metadata": {},
     "output_type": "execute_result"
    },
    {
     "data": {
      "image/png": "[encoded data removed]",
      "text/plain": [
       "<Figure size 1200x600 with 1 Axes>"
      ]
     },
     "metadata": {},
     "output_type": "display_data"
    }
   ],
   "source": [
    "sns.barplot(data=sotudf, x=\"year\", y=\"wordFreq\")"
   ]
  },
  {
   "attachments": {},
   "cell_type": "markdown",
   "id": "0d6dc55a",
   "metadata": {},
   "source": [
    "The previous plot looks similar to the plot we made in the Strings and Files lesson which compared the length of each SOTU address. So, it seems not to be revealing the pattern we want it to reveal.\n",
    "\n",
    "It is always a good idea in data science to consider the denominator. When should you use absolute values? When should you use percentages or proportions? And, for the latter, what is the correct denominator to choose? In this case, we will use our \"freq_perMillion\" column which is calculated using the total word (or token) count as our denominator."
   ]
  },
  {
   "cell_type": "code",
   "execution_count": 39,
   "id": "476ce727",
   "metadata": {},
   "outputs": [
    {
     "data": {
      "text/plain": [
       "<AxesSubplot:xlabel='year', ylabel='freq_perMillion'>"
      ]
     },
     "execution_count": 39,
     "metadata": {},
     "output_type": "execute_result"
    },
    {
     "data": {
      "image/png": "[encoded data removed]",
      "text/plain": [
       "<Figure size 1200x600 with 1 Axes>"
      ]
     },
     "metadata": {},
     "output_type": "display_data"
    }
   ],
   "source": [
    "sns.barplot(data=sotudf, x=\"year\", y=\"freq_perMillion\")"
   ]
  },
  {
   "cell_type": "markdown",
   "id": "d570c8ae",
   "metadata": {},
   "source": [
    "## Part VI: Group and Plot Data by President\n",
    "\n",
    "22. It would help to simplify this visualization. Following *The Atlantic*'s graphic, we can aggregate these results by President. Normally, we would just apply the **groupby** function to group this data by the president's name.\n",
    "\n",
    "Unfortunately, when I first tried this, I realized that presidents with the same last name were being grouped together (think of the Adamses, Roosevelts, and Bushes). So, first we need to identify each unique president. To do this, we can use the **shift()** function to identify each time a new president's name appears in our chronologically-ordered dataframe. Thus, George H.W. Bush's administration (1989-1993) can be distinguished from his son's (2001-2009). *This works because, fortunately for our purposes, there has always been a gap between two presidents sharing the same name. If <s>Hunter</s>Ashley Biden is our next President then I will need to add first names to our dataset.*"
   ]
  },
  {
   "cell_type": "code",
   "execution_count": 40,
   "id": "a5a14299",
   "metadata": {},
   "outputs": [
    {
     "data": {
      "text/html": [
       "<div>\n",
       "<style scoped>\n",
       "    .dataframe tbody tr th:only-of-type {\n",
       "        vertical-align: middle;\n",
       "    }\n",
       "\n",
       "    .dataframe tbody tr th {\n",
       "        vertical-align: top;\n",
       "    }\n",
       "\n",
       "    .dataframe thead th {\n",
       "        text-align: right;\n",
       "    }\n",
       "</style>\n",
       "<table border=\"1\" class=\"dataframe\">\n",
       "  <thead>\n",
       "    <tr style=\"text-align: right;\">\n",
       "      <th></th>\n",
       "      <th>pres</th>\n",
       "      <th>year</th>\n",
       "      <th>numtoks</th>\n",
       "      <th>tokens</th>\n",
       "      <th>fulltext</th>\n",
       "      <th>ltoks</th>\n",
       "      <th>wordFreq</th>\n",
       "      <th>freq_perMillion</th>\n",
       "      <th>presnum</th>\n",
       "    </tr>\n",
       "  </thead>\n",
       "  <tbody>\n",
       "    <tr>\n",
       "      <th>0</th>\n",
       "      <td>Washington</td>\n",
       "      <td>1790</td>\n",
       "      <td>0</td>\n",
       "      <td>[]</td>\n",
       "      <td></td>\n",
       "      <td>[]</td>\n",
       "      <td>0</td>\n",
       "      <td>NaN</td>\n",
       "      <td>1</td>\n",
       "    </tr>\n",
       "    <tr>\n",
       "      <th>1</th>\n",
       "      <td>Washington</td>\n",
       "      <td>1791</td>\n",
       "      <td>2314</td>\n",
       "      <td>[Fellow, Citizens, of, the, Senate, and, House...</td>\n",
       "      <td>Fellow-Citizens of the Senate and House of Rep...</td>\n",
       "      <td>[fellow, citizens, of, the, senate, and, house...</td>\n",
       "      <td>7</td>\n",
       "      <td>3025.064823</td>\n",
       "      <td>1</td>\n",
       "    </tr>\n",
       "    <tr>\n",
       "      <th>2</th>\n",
       "      <td>Washington</td>\n",
       "      <td>1792</td>\n",
       "      <td>2104</td>\n",
       "      <td>[Fellow, Citizens, of, the, Senate, and, House...</td>\n",
       "      <td>Fellow-Citizens of the Senate and House of Rep...</td>\n",
       "      <td>[fellow, citizens, of, the, senate, and, house...</td>\n",
       "      <td>3</td>\n",
       "      <td>1425.855513</td>\n",
       "      <td>1</td>\n",
       "    </tr>\n",
       "    <tr>\n",
       "      <th>3</th>\n",
       "      <td>Washington</td>\n",
       "      <td>1793</td>\n",
       "      <td>1973</td>\n",
       "      <td>[Fellow, Citizens, of, the, Senate, and, House...</td>\n",
       "      <td>Fellow-Citizens of the Senate and House of Rep...</td>\n",
       "      <td>[fellow, citizens, of, the, senate, and, house...</td>\n",
       "      <td>3</td>\n",
       "      <td>1520.527116</td>\n",
       "      <td>1</td>\n",
       "    </tr>\n",
       "    <tr>\n",
       "      <th>4</th>\n",
       "      <td>Washington</td>\n",
       "      <td>1794</td>\n",
       "      <td>2918</td>\n",
       "      <td>[Fellow, Citizens, of, the, Senate, and, House...</td>\n",
       "      <td>Fellow-Citizens of the Senate and House of Rep...</td>\n",
       "      <td>[fellow, citizens, of, the, senate, and, house...</td>\n",
       "      <td>14</td>\n",
       "      <td>4797.806717</td>\n",
       "      <td>1</td>\n",
       "    </tr>\n",
       "    <tr>\n",
       "      <th>5</th>\n",
       "      <td>Washington</td>\n",
       "      <td>1795</td>\n",
       "      <td>1988</td>\n",
       "      <td>[Fellow, Citizens, of, the, Senate, and, House...</td>\n",
       "      <td>Fellow-Citizens of the Senate and House of Rep...</td>\n",
       "      <td>[fellow, citizens, of, the, senate, and, house...</td>\n",
       "      <td>4</td>\n",
       "      <td>2012.072435</td>\n",
       "      <td>1</td>\n",
       "    </tr>\n",
       "    <tr>\n",
       "      <th>6</th>\n",
       "      <td>Washington</td>\n",
       "      <td>1796</td>\n",
       "      <td>2878</td>\n",
       "      <td>[Fellow, Citizens, of, the, Senate, and, House...</td>\n",
       "      <td>Fellow-Citizens of the Senate and House of Rep...</td>\n",
       "      <td>[fellow, citizens, of, the, senate, and, house...</td>\n",
       "      <td>9</td>\n",
       "      <td>3127.171647</td>\n",
       "      <td>1</td>\n",
       "    </tr>\n",
       "    <tr>\n",
       "      <th>7</th>\n",
       "      <td>Adams</td>\n",
       "      <td>1797</td>\n",
       "      <td>2060</td>\n",
       "      <td>[Gentlemen, of, the, Senate, and, Gentlemen, o...</td>\n",
       "      <td>Gentlemen of the Senate and Gentlemen of the H...</td>\n",
       "      <td>[gentlemen, of, the, senate, and, gentlemen, o...</td>\n",
       "      <td>2</td>\n",
       "      <td>970.873786</td>\n",
       "      <td>2</td>\n",
       "    </tr>\n",
       "    <tr>\n",
       "      <th>8</th>\n",
       "      <td>Adams</td>\n",
       "      <td>1798</td>\n",
       "      <td>2218</td>\n",
       "      <td>[Gentlemen, of, the, Senate, and, Gentlemen, o...</td>\n",
       "      <td>Gentlemen of the Senate and Gentlemen of the H...</td>\n",
       "      <td>[gentlemen, of, the, senate, and, gentlemen, o...</td>\n",
       "      <td>6</td>\n",
       "      <td>2705.139766</td>\n",
       "      <td>2</td>\n",
       "    </tr>\n",
       "    <tr>\n",
       "      <th>9</th>\n",
       "      <td>Adams</td>\n",
       "      <td>1799</td>\n",
       "      <td>1505</td>\n",
       "      <td>[Gentlemen, of, the, Senate, and, Gentlemen, o...</td>\n",
       "      <td>Gentlemen of the Senate and Gentlemen of the H...</td>\n",
       "      <td>[gentlemen, of, the, senate, and, gentlemen, o...</td>\n",
       "      <td>8</td>\n",
       "      <td>5315.614618</td>\n",
       "      <td>2</td>\n",
       "    </tr>\n",
       "    <tr>\n",
       "      <th>10</th>\n",
       "      <td>Adams</td>\n",
       "      <td>1800</td>\n",
       "      <td>1374</td>\n",
       "      <td>[Gentlemen, of, the, Senate, and, Gentlemen, o...</td>\n",
       "      <td>Gentlemen of the Senate and Gentlemen of the H...</td>\n",
       "      <td>[gentlemen, of, the, senate, and, gentlemen, o...</td>\n",
       "      <td>5</td>\n",
       "      <td>3639.010189</td>\n",
       "      <td>2</td>\n",
       "    </tr>\n",
       "    <tr>\n",
       "      <th>11</th>\n",
       "      <td>Jefferson</td>\n",
       "      <td>1801</td>\n",
       "      <td>3226</td>\n",
       "      <td>[Fellow, Citizens, of, the, Senate, and, House...</td>\n",
       "      <td>Fellow Citizens of the Senate and House of Rep...</td>\n",
       "      <td>[fellow, citizens, of, the, senate, and, house...</td>\n",
       "      <td>7</td>\n",
       "      <td>2169.869808</td>\n",
       "      <td>3</td>\n",
       "    </tr>\n",
       "    <tr>\n",
       "      <th>12</th>\n",
       "      <td>Jefferson</td>\n",
       "      <td>1802</td>\n",
       "      <td>2209</td>\n",
       "      <td>[To, the, Senate, and, House, of, Representati...</td>\n",
       "      <td>To the Senate and House of Representatives:\\n\\...</td>\n",
       "      <td>[to, the, senate, and, house, of, representati...</td>\n",
       "      <td>1</td>\n",
       "      <td>452.693526</td>\n",
       "      <td>3</td>\n",
       "    </tr>\n",
       "    <tr>\n",
       "      <th>13</th>\n",
       "      <td>Jefferson</td>\n",
       "      <td>1803</td>\n",
       "      <td>2283</td>\n",
       "      <td>[To, The, Senate, and, House, of, Representati...</td>\n",
       "      <td>To The Senate and House of Representatives of ...</td>\n",
       "      <td>[to, the, senate, and, house, of, representati...</td>\n",
       "      <td>6</td>\n",
       "      <td>2628.120894</td>\n",
       "      <td>3</td>\n",
       "    </tr>\n",
       "    <tr>\n",
       "      <th>14</th>\n",
       "      <td>Jefferson</td>\n",
       "      <td>1804</td>\n",
       "      <td>2108</td>\n",
       "      <td>[The, Senate, and, House, of, Representatives,...</td>\n",
       "      <td>The Senate and House of Representatives of the...</td>\n",
       "      <td>[the, senate, and, house, of, representatives,...</td>\n",
       "      <td>7</td>\n",
       "      <td>3320.683112</td>\n",
       "      <td>3</td>\n",
       "    </tr>\n",
       "    <tr>\n",
       "      <th>15</th>\n",
       "      <td>Jefferson</td>\n",
       "      <td>1805</td>\n",
       "      <td>2951</td>\n",
       "      <td>[The, Senate, and, House, of, Representatives,...</td>\n",
       "      <td>The Senate and House of Representatives of the...</td>\n",
       "      <td>[the, senate, and, house, of, representatives,...</td>\n",
       "      <td>4</td>\n",
       "      <td>1355.472721</td>\n",
       "      <td>3</td>\n",
       "    </tr>\n",
       "    <tr>\n",
       "      <th>16</th>\n",
       "      <td>Jefferson</td>\n",
       "      <td>1806</td>\n",
       "      <td>2872</td>\n",
       "      <td>[The, Senate, and, House, of, Representatives,...</td>\n",
       "      <td>The Senate and House of Representatives of the...</td>\n",
       "      <td>[the, senate, and, house, of, representatives,...</td>\n",
       "      <td>2</td>\n",
       "      <td>696.378830</td>\n",
       "      <td>3</td>\n",
       "    </tr>\n",
       "    <tr>\n",
       "      <th>17</th>\n",
       "      <td>Jefferson</td>\n",
       "      <td>1807</td>\n",
       "      <td>2399</td>\n",
       "      <td>[The, Senate, and, House, of, Representatives,...</td>\n",
       "      <td>The Senate and House of Representatives of the...</td>\n",
       "      <td>[the, senate, and, house, of, representatives,...</td>\n",
       "      <td>5</td>\n",
       "      <td>2084.201751</td>\n",
       "      <td>3</td>\n",
       "    </tr>\n",
       "    <tr>\n",
       "      <th>18</th>\n",
       "      <td>Jefferson</td>\n",
       "      <td>1808</td>\n",
       "      <td>2695</td>\n",
       "      <td>[The, Senate, and, House, of, Representatives,...</td>\n",
       "      <td>The Senate and House of Representatives of the...</td>\n",
       "      <td>[the, senate, and, house, of, representatives,...</td>\n",
       "      <td>2</td>\n",
       "      <td>742.115028</td>\n",
       "      <td>3</td>\n",
       "    </tr>\n",
       "    <tr>\n",
       "      <th>19</th>\n",
       "      <td>Madison</td>\n",
       "      <td>1809</td>\n",
       "      <td>1833</td>\n",
       "      <td>[Fellow, Citizens, of, the, Senate, and, House...</td>\n",
       "      <td>Fellow-Citizens of the Senate and House of Rep...</td>\n",
       "      <td>[fellow, citizens, of, the, senate, and, house...</td>\n",
       "      <td>6</td>\n",
       "      <td>3273.322422</td>\n",
       "      <td>4</td>\n",
       "    </tr>\n",
       "  </tbody>\n",
       "</table>\n",
       "</div>"
      ],
      "text/plain": [
       "          pres  year  numtoks  \\\n",
       "0   Washington  1790        0   \n",
       "1   Washington  1791     2314   \n",
       "2   Washington  1792     2104   \n",
       "3   Washington  1793     1973   \n",
       "4   Washington  1794     2918   \n",
       "5   Washington  1795     1988   \n",
       "6   Washington  1796     2878   \n",
       "7        Adams  1797     2060   \n",
       "8        Adams  1798     2218   \n",
       "9        Adams  1799     1505   \n",
       "10       Adams  1800     1374   \n",
       "11   Jefferson  1801     3226   \n",
       "12   Jefferson  1802     2209   \n",
       "13   Jefferson  1803     2283   \n",
       "14   Jefferson  1804     2108   \n",
       "15   Jefferson  1805     2951   \n",
       "16   Jefferson  1806     2872   \n",
       "17   Jefferson  1807     2399   \n",
       "18   Jefferson  1808     2695   \n",
       "19     Madison  1809     1833   \n",
       "\n",
       "                                               tokens  \\\n",
       "0                                                  []   \n",
       "1   [Fellow, Citizens, of, the, Senate, and, House...   \n",
       "2   [Fellow, Citizens, of, the, Senate, and, House...   \n",
       "3   [Fellow, Citizens, of, the, Senate, and, House...   \n",
       "4   [Fellow, Citizens, of, the, Senate, and, House...   \n",
       "5   [Fellow, Citizens, of, the, Senate, and, House...   \n",
       "6   [Fellow, Citizens, of, the, Senate, and, House...   \n",
       "7   [Gentlemen, of, the, Senate, and, Gentlemen, o...   \n",
       "8   [Gentlemen, of, the, Senate, and, Gentlemen, o...   \n",
       "9   [Gentlemen, of, the, Senate, and, Gentlemen, o...   \n",
       "10  [Gentlemen, of, the, Senate, and, Gentlemen, o...   \n",
       "11  [Fellow, Citizens, of, the, Senate, and, House...   \n",
       "12  [To, the, Senate, and, House, of, Representati...   \n",
       "13  [To, The, Senate, and, House, of, Representati...   \n",
       "14  [The, Senate, and, House, of, Representatives,...   \n",
       "15  [The, Senate, and, House, of, Representatives,...   \n",
       "16  [The, Senate, and, House, of, Representatives,...   \n",
       "17  [The, Senate, and, House, of, Representatives,...   \n",
       "18  [The, Senate, and, House, of, Representatives,...   \n",
       "19  [Fellow, Citizens, of, the, Senate, and, House...   \n",
       "\n",
       "                                             fulltext  \\\n",
       "0                                                       \n",
       "1   Fellow-Citizens of the Senate and House of Rep...   \n",
       "2   Fellow-Citizens of the Senate and House of Rep...   \n",
       "3   Fellow-Citizens of the Senate and House of Rep...   \n",
       "4   Fellow-Citizens of the Senate and House of Rep...   \n",
       "5   Fellow-Citizens of the Senate and House of Rep...   \n",
       "6   Fellow-Citizens of the Senate and House of Rep...   \n",
       "7   Gentlemen of the Senate and Gentlemen of the H...   \n",
       "8   Gentlemen of the Senate and Gentlemen of the H...   \n",
       "9   Gentlemen of the Senate and Gentlemen of the H...   \n",
       "10  Gentlemen of the Senate and Gentlemen of the H...   \n",
       "11  Fellow Citizens of the Senate and House of Rep...   \n",
       "12  To the Senate and House of Representatives:\\n\\...   \n",
       "13  To The Senate and House of Representatives of ...   \n",
       "14  The Senate and House of Representatives of the...   \n",
       "15  The Senate and House of Representatives of the...   \n",
       "16  The Senate and House of Representatives of the...   \n",
       "17  The Senate and House of Representatives of the...   \n",
       "18  The Senate and House of Representatives of the...   \n",
       "19  Fellow-Citizens of the Senate and House of Rep...   \n",
       "\n",
       "                                                ltoks  wordFreq  \\\n",
       "0                                                  []         0   \n",
       "1   [fellow, citizens, of, the, senate, and, house...         7   \n",
       "2   [fellow, citizens, of, the, senate, and, house...         3   \n",
       "3   [fellow, citizens, of, the, senate, and, house...         3   \n",
       "4   [fellow, citizens, of, the, senate, and, house...        14   \n",
       "5   [fellow, citizens, of, the, senate, and, house...         4   \n",
       "6   [fellow, citizens, of, the, senate, and, house...         9   \n",
       "7   [gentlemen, of, the, senate, and, gentlemen, o...         2   \n",
       "8   [gentlemen, of, the, senate, and, gentlemen, o...         6   \n",
       "9   [gentlemen, of, the, senate, and, gentlemen, o...         8   \n",
       "10  [gentlemen, of, the, senate, and, gentlemen, o...         5   \n",
       "11  [fellow, citizens, of, the, senate, and, house...         7   \n",
       "12  [to, the, senate, and, house, of, representati...         1   \n",
       "13  [to, the, senate, and, house, of, representati...         6   \n",
       "14  [the, senate, and, house, of, representatives,...         7   \n",
       "15  [the, senate, and, house, of, representatives,...         4   \n",
       "16  [the, senate, and, house, of, representatives,...         2   \n",
       "17  [the, senate, and, house, of, representatives,...         5   \n",
       "18  [the, senate, and, house, of, representatives,...         2   \n",
       "19  [fellow, citizens, of, the, senate, and, house...         6   \n",
       "\n",
       "    freq_perMillion  presnum  \n",
       "0               NaN        1  \n",
       "1       3025.064823        1  \n",
       "2       1425.855513        1  \n",
       "3       1520.527116        1  \n",
       "4       4797.806717        1  \n",
       "5       2012.072435        1  \n",
       "6       3127.171647        1  \n",
       "7        970.873786        2  \n",
       "8       2705.139766        2  \n",
       "9       5315.614618        2  \n",
       "10      3639.010189        2  \n",
       "11      2169.869808        3  \n",
       "12       452.693526        3  \n",
       "13      2628.120894        3  \n",
       "14      3320.683112        3  \n",
       "15      1355.472721        3  \n",
       "16       696.378830        3  \n",
       "17      2084.201751        3  \n",
       "18       742.115028        3  \n",
       "19      3273.322422        4  "
      ]
     },
     "execution_count": 40,
     "metadata": {},
     "output_type": "execute_result"
    }
   ],
   "source": [
    "sotudf[\"presnum\"] = (sotudf[\"pres\"] != sotudf[\"pres\"].shift()).cumsum()\n",
    "sotudf.head(20)"
   ]
  },
  {
   "attachments": {},
   "cell_type": "markdown",
   "id": "6180be80",
   "metadata": {},
   "source": [
    "To explain the code above (sotudf[\"pres\"] != sotudf['pres'].shift()) returns True only when the president in the previous row is different than that in the current row. The function .cumsum() then adds 1 to its running count each time the president changes (indicated by the True value returned by the previous section of code)\n",
    "\n",
    "You can see the result in the 'presnum' column.\n",
    "\n",
    "22b. Now, we are going to create a new dataframe (\"sotudf2\") by grouping together the data in \"sotudf\" by the \"presnum\" column (thus aggregating the data by President rather than just by year). The .agg() function then establishes which other columns we want to keep and how the data in those columns will be aggregated (\"sum\", \"mean\", \"first\" being common options). We will then have to re-calculate our proportional variable (\"freq_PerMillion\")."
   ]
  },
  {
   "cell_type": "code",
   "execution_count": 41,
   "id": "7aa6f889",
   "metadata": {},
   "outputs": [
    {
     "data": {
      "text/html": [
       "<div>\n",
       "<style scoped>\n",
       "    .dataframe tbody tr th:only-of-type {\n",
       "        vertical-align: middle;\n",
       "    }\n",
       "\n",
       "    .dataframe tbody tr th {\n",
       "        vertical-align: top;\n",
       "    }\n",
       "\n",
       "    .dataframe thead th {\n",
       "        text-align: right;\n",
       "    }\n",
       "</style>\n",
       "<table border=\"1\" class=\"dataframe\">\n",
       "  <thead>\n",
       "    <tr style=\"text-align: right;\">\n",
       "      <th></th>\n",
       "      <th>pres</th>\n",
       "      <th>wordFreq</th>\n",
       "      <th>numtoks</th>\n",
       "      <th>year</th>\n",
       "      <th>freq_perMillion</th>\n",
       "    </tr>\n",
       "    <tr>\n",
       "      <th>presnum</th>\n",
       "      <th></th>\n",
       "      <th></th>\n",
       "      <th></th>\n",
       "      <th></th>\n",
       "      <th></th>\n",
       "    </tr>\n",
       "  </thead>\n",
       "  <tbody>\n",
       "    <tr>\n",
       "      <th>1</th>\n",
       "      <td>Washington</td>\n",
       "      <td>40</td>\n",
       "      <td>14175</td>\n",
       "      <td>1790</td>\n",
       "      <td>2821.869489</td>\n",
       "    </tr>\n",
       "    <tr>\n",
       "      <th>2</th>\n",
       "      <td>Adams</td>\n",
       "      <td>21</td>\n",
       "      <td>7157</td>\n",
       "      <td>1797</td>\n",
       "      <td>2934.190303</td>\n",
       "    </tr>\n",
       "    <tr>\n",
       "      <th>3</th>\n",
       "      <td>Jefferson</td>\n",
       "      <td>34</td>\n",
       "      <td>20743</td>\n",
       "      <td>1801</td>\n",
       "      <td>1639.107169</td>\n",
       "    </tr>\n",
       "    <tr>\n",
       "      <th>4</th>\n",
       "      <td>Madison</td>\n",
       "      <td>62</td>\n",
       "      <td>21738</td>\n",
       "      <td>1809</td>\n",
       "      <td>2852.148312</td>\n",
       "    </tr>\n",
       "    <tr>\n",
       "      <th>5</th>\n",
       "      <td>Monroe</td>\n",
       "      <td>167</td>\n",
       "      <td>42512</td>\n",
       "      <td>1817</td>\n",
       "      <td>3928.302597</td>\n",
       "    </tr>\n",
       "    <tr>\n",
       "      <th>6</th>\n",
       "      <td>Adams</td>\n",
       "      <td>61</td>\n",
       "      <td>31405</td>\n",
       "      <td>1825</td>\n",
       "      <td>1942.365865</td>\n",
       "    </tr>\n",
       "    <tr>\n",
       "      <th>7</th>\n",
       "      <td>Jackson</td>\n",
       "      <td>436</td>\n",
       "      <td>85570</td>\n",
       "      <td>1829</td>\n",
       "      <td>5095.243660</td>\n",
       "    </tr>\n",
       "    <tr>\n",
       "      <th>8</th>\n",
       "      <td>Buren</td>\n",
       "      <td>256</td>\n",
       "      <td>45594</td>\n",
       "      <td>1837</td>\n",
       "      <td>5614.773874</td>\n",
       "    </tr>\n",
       "    <tr>\n",
       "      <th>9</th>\n",
       "      <td>Tyler</td>\n",
       "      <td>209</td>\n",
       "      <td>34192</td>\n",
       "      <td>1841</td>\n",
       "      <td>6112.540945</td>\n",
       "    </tr>\n",
       "    <tr>\n",
       "      <th>10</th>\n",
       "      <td>Polk</td>\n",
       "      <td>332</td>\n",
       "      <td>72643</td>\n",
       "      <td>1845</td>\n",
       "      <td>4570.295830</td>\n",
       "    </tr>\n",
       "  </tbody>\n",
       "</table>\n",
       "</div>"
      ],
      "text/plain": [
       "               pres  wordFreq  numtoks  year  freq_perMillion\n",
       "presnum                                                      \n",
       "1        Washington        40    14175  1790      2821.869489\n",
       "2             Adams        21     7157  1797      2934.190303\n",
       "3         Jefferson        34    20743  1801      1639.107169\n",
       "4           Madison        62    21738  1809      2852.148312\n",
       "5            Monroe       167    42512  1817      3928.302597\n",
       "6             Adams        61    31405  1825      1942.365865\n",
       "7           Jackson       436    85570  1829      5095.243660\n",
       "8             Buren       256    45594  1837      5614.773874\n",
       "9             Tyler       209    34192  1841      6112.540945\n",
       "10             Polk       332    72643  1845      4570.295830"
      ]
     },
     "execution_count": 41,
     "metadata": {},
     "output_type": "execute_result"
    }
   ],
   "source": [
    "sotudf2 = sotudf.groupby(['presnum']).agg({'pres':'first','wordFreq':'sum','numtoks':'sum','year':'first'})\n",
    "sotudf2['freq_perMillion'] = sotudf2['wordFreq'] / sotudf2['numtoks'] * 1000000\n",
    "sotudf2.head(10)\n"
   ]
  },
  {
   "cell_type": "code",
   "execution_count": null,
   "id": "8100f0da",
   "metadata": {},
   "outputs": [],
   "source": []
  },
  {
   "attachments": {},
   "cell_type": "markdown",
   "id": "e1fbd2ca",
   "metadata": {},
   "source": [
    "23. Okay, let's see what our graphic looks like:\n",
    "\n",
    "Note: we have cleaned up the axis labels and added a title using the .set command in Seaborn"
   ]
  },
  {
   "cell_type": "code",
   "execution_count": 42,
   "id": "25683909",
   "metadata": {},
   "outputs": [
    {
     "data": {
      "image/png": "[encoded data removed]",
      "text/plain": [
       "<Figure size 1200x600 with 1 Axes>"
      ]
     },
     "metadata": {},
     "output_type": "display_data"
    }
   ],
   "source": [
    "g=sns.barplot(data=sotudf2, x=\"year\", y=\"freq_perMillion\")\n",
    "g.tick_params(labelrotation=90)\n",
    "g.set(title = \"Frequency of '%s' in State of the Union Addresses\"%searchTerm)\n",
    "g.set(ylabel='per million words', xlabel='President')\n",
    "g.set(xticklabels = sotudf2.pres); #adding the \";\" removes the annoying text that Python sometimes prints out with a graphic#"
   ]
  },
  {
   "cell_type": "markdown",
   "id": "f1ea4f67",
   "metadata": {},
   "source": [
    "24. Below, I copied the code from **Step 14 - Step 23**, but this time placed into a function. *Note: all code within a function must be indented. Once the indentation ends, so does the function.* "
   ]
  },
  {
   "cell_type": "code",
   "execution_count": 43,
   "id": "d4ee8d7e",
   "metadata": {},
   "outputs": [],
   "source": [
    "def sotuWordSearch2(ltoksCol,searchTerm): #returns a column of frequencies after searching for a term across a column of lower-case tokens\n",
    "    #searchTerm = searchTerm.lower()\n",
    "    wordFreq = ltoksCol.apply(lambda x:collections.Counter(x)[searchTerm])\n",
    "    return(wordFreq)\n",
    "\n",
    "def df_wordFreqCalc(old_df,searchTerm):   #reads in a dataframe of SOTU addresses by year and a searchTerm \n",
    "                                          ## returns a dataframe aggregated by President, with the 'wordFreq' and 'freq_perMillion' calculated for each president\n",
    "                                          ## which is calculated using the sotuWordSearch2 function\n",
    "    requiredCols = ['ltoks','numtoks','pres','presnum','year']\n",
    "    if not set(requiredCols).issubset(old_df.columns):\n",
    "        print(\"missing required column from:\",requiredCols)\n",
    "        return None\n",
    "    old_df['wordFreq'] = sotuWordSearch2(old_df['ltoks'],searchTerm) \n",
    "    new_df = old_df.groupby(['pres','presnum']).agg({'wordFreq':'sum','numtoks':'sum','year':'first'})\n",
    "    print(new_df.head(2))\n",
    "    new_df['freq_perMillion'] = new_df['wordFreq'] / new_df['numtoks'] * 1000000\n",
    "    new_df = new_df.sort_values(['year'])\n",
    "    new_df = new_df.reset_index()\n",
    "    print(\"searching for... :\",searchTerm)\n",
    "    return(new_df)\n",
    " \n",
    "def createWordFreqPlot(df,searchTerm):            #reads in our aggregated SOTU dataframe and creates a bar plot of the search term\n",
    "    #newdf = df_wordFreqCalc(df,searchTerm)\n",
    "    requiredCols = ['freq_perMillion','pres','presnum']\n",
    "    if not set(requiredCols).issubset(df.columns):\n",
    "        print(\"missing required column from:\",requiredCols)\n",
    "        return None\n",
    "    g=sns.barplot(data=df, x=\"presnum\",y=\"freq_perMillion\")\n",
    "    g.tick_params(labelrotation=90)\n",
    "    g.set(title = \"Frequency of '%s' in State of the Union Addresses\"%searchTerm)\n",
    "    g.set(ylabel='per million words', xlabel='President')\n",
    "    g.set(xticklabels = df.pres)\n",
    "    return(g)"
   ]
  },
  {
   "attachments": {},
   "cell_type": "markdown",
   "id": "dbf9b795",
   "metadata": {},
   "source": [
    "25. Now we can use the functions above to quickly choose a new search term, return a dataframe with the results of this search, and then create a plot."
   ]
  },
  {
   "cell_type": "code",
   "execution_count": 44,
   "id": "fce7f8a7",
   "metadata": {},
   "outputs": [
    {
     "name": "stdout",
     "output_type": "stream",
     "text": [
      "               wordFreq  numtoks  year\n",
      "pres  presnum                         \n",
      "Adams 2               0     7157  1797\n",
      "      6              10    31405  1825\n",
      "searching for... : freedom\n",
      "          pres  presnum  wordFreq  numtoks  year  freq_perMillion\n",
      "0   Washington        1         1    14175  1790        70.546737\n",
      "1        Adams        2         0     7157  1797         0.000000\n",
      "2    Jefferson        3         4    20743  1801       192.836137\n",
      "3      Madison        4         3    21738  1809       138.007176\n",
      "4       Monroe        5         4    42512  1817        94.091080\n",
      "5        Adams        6        10    31405  1825       318.420634\n",
      "6      Jackson        7         8    85570  1829        93.490709\n",
      "7        Buren        8         3    45594  1837        65.798131\n",
      "8        Tyler        9         4    34192  1841       116.986430\n",
      "9         Polk       10         5    72643  1845        68.829756\n",
      "10      Taylor       11         1     7666  1849       130.446126\n",
      "11    Fillmore       12         6    31799  1850       188.685179\n",
      "12      Pierce       13        14    42130  1853       332.304771\n",
      "13    Buchanan       14         6    56938  1857       105.377779\n",
      "14     Lincoln       15         5    27947  1861       178.910080\n"
     ]
    }
   ],
   "source": [
    "searchTerm = \"freedom\"\n",
    "sotudf3 = df_wordFreqCalc(sotudf,searchTerm)\n",
    "print(sotudf3.head(15))"
   ]
  },
  {
   "cell_type": "code",
   "execution_count": 45,
   "id": "10e30234",
   "metadata": {},
   "outputs": [
    {
     "data": {
      "text/plain": [
       "<AxesSubplot:title={'center':\"Frequency of 'freedom' in State of the Union Addresses\"}, xlabel='President', ylabel='per million words'>"
      ]
     },
     "execution_count": 45,
     "metadata": {},
     "output_type": "execute_result"
    },
    {
     "data": {
      "image/png": "[encoded data removed]",
      "text/plain": [
       "<Figure size 1200x600 with 1 Axes>"
      ]
     },
     "metadata": {},
     "output_type": "display_data"
    }
   ],
   "source": [
    "createWordFreqPlot(sotudf3,searchTerm)"
   ]
  },
  {
   "cell_type": "markdown",
   "id": "813450a7",
   "metadata": {},
   "source": [
    "26. What additions or changes would make this plot more useful, informative, or eye-catching?"
   ]
  },
  {
   "cell_type": "code",
   "execution_count": null,
   "id": "859c6df6",
   "metadata": {},
   "outputs": [],
   "source": []
  },
  {
   "attachments": {},
   "cell_type": "markdown",
   "id": "d89f33f7",
   "metadata": {},
   "source": [
    "<div class=\"alert alert-info\" role=\"alert\"><h3 style='color:blue'>Exercise (Part VI)</h3>\n",
    "    <p>27. Explore the dataset by creating bar plots showing the frequency of other words of your choosing. (Hint: we made this really simple with the functions created in Step 24. Just re-use and modify the code we used in Step 25 to call these functions).\n",
    "\n",
    "</div>"
   ]
  },
  {
   "cell_type": "code",
   "execution_count": 46,
   "id": "041b4a80",
   "metadata": {},
   "outputs": [
    {
     "name": "stdout",
     "output_type": "stream",
     "text": [
      "               wordFreq  numtoks  year\n",
      "pres  presnum                         \n",
      "Adams 2               0     7157  1797\n",
      "      6               4    31405  1825\n",
      "searching for... : children\n"
     ]
    },
    {
     "data": {
      "image/png": "[encoded data removed]",
      "text/plain": [
       "<Figure size 1200x600 with 1 Axes>"
      ]
     },
     "metadata": {},
     "output_type": "display_data"
    }
   ],
   "source": [
    "searchTerm = \"children\"\n",
    "sotudf3 = df_wordFreqCalc(sotudf,searchTerm)\n",
    "createWordFreqPlot(sotudf3,searchTerm);"
   ]
  },
  {
   "cell_type": "markdown",
   "id": "d6ad2271",
   "metadata": {},
   "source": [
    "## Part VII: NGrams"
   ]
  },
  {
   "cell_type": "markdown",
   "id": "e0b0451c",
   "metadata": {},
   "source": [
    "28. Often, in searching for patterns in texts, single words are not the most useful units of analysis. Instead, at times, the frequency of multiple-word terms may be more instructive. For example, historians mining historical scholarship may be interested in the rise and fall of sub-disciplines in his/her field, such as \"social history\", \"cultural history\", \"environmental history\", etc. In this case, the historian may want to examine patterns in two-word combinations, called **bigrams**. In other cases, it may be useful to examine three-, four-, or five-word combinations, called **ngrams**.\n",
    "\n",
    "First, we will extract ngrams from a simple phrase:\n",
    "\n"
   ]
  },
  {
   "cell_type": "code",
   "execution_count": 47,
   "id": "6d34547c",
   "metadata": {},
   "outputs": [
    {
     "name": "stdout",
     "output_type": "stream",
     "text": [
      "['to', 'be', 'or', 'not', 'to', 'be']\n"
     ]
    }
   ],
   "source": [
    "text = \"to be or not to be\"\n",
    "toks = nltk.word_tokenize(text) \n",
    "print(toks)"
   ]
  },
  {
   "cell_type": "code",
   "execution_count": 48,
   "id": "6d3ef5f2",
   "metadata": {},
   "outputs": [
    {
     "name": "stdout",
     "output_type": "stream",
     "text": [
      "[('to', 'be'), ('be', 'or'), ('or', 'not'), ('not', 'to'), ('to', 'be')]\n"
     ]
    }
   ],
   "source": [
    "n = 2\n",
    "n_grams=list(ngrams(toks,n))\n",
    "print(n_grams)\n"
   ]
  },
  {
   "attachments": {},
   "cell_type": "markdown",
   "id": "aad740ae",
   "metadata": {},
   "source": [
    "29. Now let us create a list of ngrams from a SOTU address. We can retrieve a list of tokens from our sotudf dataframe. To do that, first we will need some practice filtering a dataframe. Observe what the following do and see [this link for more](https://www.geeksforgeeks.org/difference-between-loc-and-iloc-in-pandas-dataframe/):"
   ]
  },
  {
   "cell_type": "code",
   "execution_count": 49,
   "id": "c945e5c3",
   "metadata": {},
   "outputs": [
    {
     "data": {
      "text/html": [
       "<div>\n",
       "<style scoped>\n",
       "    .dataframe tbody tr th:only-of-type {\n",
       "        vertical-align: middle;\n",
       "    }\n",
       "\n",
       "    .dataframe tbody tr th {\n",
       "        vertical-align: top;\n",
       "    }\n",
       "\n",
       "    .dataframe thead th {\n",
       "        text-align: right;\n",
       "    }\n",
       "</style>\n",
       "<table border=\"1\" class=\"dataframe\">\n",
       "  <thead>\n",
       "    <tr style=\"text-align: right;\">\n",
       "      <th></th>\n",
       "      <th>pres</th>\n",
       "      <th>year</th>\n",
       "      <th>numtoks</th>\n",
       "      <th>tokens</th>\n",
       "      <th>fulltext</th>\n",
       "      <th>ltoks</th>\n",
       "      <th>wordFreq</th>\n",
       "      <th>freq_perMillion</th>\n",
       "      <th>presnum</th>\n",
       "    </tr>\n",
       "  </thead>\n",
       "  <tbody>\n",
       "    <tr>\n",
       "      <th>7</th>\n",
       "      <td>Adams</td>\n",
       "      <td>1797</td>\n",
       "      <td>2060</td>\n",
       "      <td>[Gentlemen, of, the, Senate, and, Gentlemen, o...</td>\n",
       "      <td>Gentlemen of the Senate and Gentlemen of the H...</td>\n",
       "      <td>[gentlemen, of, the, senate, and, gentlemen, o...</td>\n",
       "      <td>0</td>\n",
       "      <td>970.873786</td>\n",
       "      <td>2</td>\n",
       "    </tr>\n",
       "    <tr>\n",
       "      <th>8</th>\n",
       "      <td>Adams</td>\n",
       "      <td>1798</td>\n",
       "      <td>2218</td>\n",
       "      <td>[Gentlemen, of, the, Senate, and, Gentlemen, o...</td>\n",
       "      <td>Gentlemen of the Senate and Gentlemen of the H...</td>\n",
       "      <td>[gentlemen, of, the, senate, and, gentlemen, o...</td>\n",
       "      <td>0</td>\n",
       "      <td>2705.139766</td>\n",
       "      <td>2</td>\n",
       "    </tr>\n",
       "    <tr>\n",
       "      <th>9</th>\n",
       "      <td>Adams</td>\n",
       "      <td>1799</td>\n",
       "      <td>1505</td>\n",
       "      <td>[Gentlemen, of, the, Senate, and, Gentlemen, o...</td>\n",
       "      <td>Gentlemen of the Senate and Gentlemen of the H...</td>\n",
       "      <td>[gentlemen, of, the, senate, and, gentlemen, o...</td>\n",
       "      <td>0</td>\n",
       "      <td>5315.614618</td>\n",
       "      <td>2</td>\n",
       "    </tr>\n",
       "    <tr>\n",
       "      <th>10</th>\n",
       "      <td>Adams</td>\n",
       "      <td>1800</td>\n",
       "      <td>1374</td>\n",
       "      <td>[Gentlemen, of, the, Senate, and, Gentlemen, o...</td>\n",
       "      <td>Gentlemen of the Senate and Gentlemen of the H...</td>\n",
       "      <td>[gentlemen, of, the, senate, and, gentlemen, o...</td>\n",
       "      <td>0</td>\n",
       "      <td>3639.010189</td>\n",
       "      <td>2</td>\n",
       "    </tr>\n",
       "    <tr>\n",
       "      <th>35</th>\n",
       "      <td>Adams</td>\n",
       "      <td>1825</td>\n",
       "      <td>9091</td>\n",
       "      <td>[Fellow, Citizens, of, the, Senate, and, of, t...</td>\n",
       "      <td>Fellow Citizens of the Senate and of the House...</td>\n",
       "      <td>[fellow, citizens, of, the, senate, and, of, t...</td>\n",
       "      <td>1</td>\n",
       "      <td>1429.985700</td>\n",
       "      <td>6</td>\n",
       "    </tr>\n",
       "    <tr>\n",
       "      <th>36</th>\n",
       "      <td>Adams</td>\n",
       "      <td>1826</td>\n",
       "      <td>7852</td>\n",
       "      <td>[Fellow, Citizens, of, the, Senate, and, of, t...</td>\n",
       "      <td>Fellow Citizens of the Senate and of the House...</td>\n",
       "      <td>[fellow, citizens, of, the, senate, and, of, t...</td>\n",
       "      <td>1</td>\n",
       "      <td>2547.121752</td>\n",
       "      <td>6</td>\n",
       "    </tr>\n",
       "    <tr>\n",
       "      <th>37</th>\n",
       "      <td>Adams</td>\n",
       "      <td>1827</td>\n",
       "      <td>7064</td>\n",
       "      <td>[Fellow, Citizens, of, the, Senate, and, of, t...</td>\n",
       "      <td>Fellow Citizens of the Senate and of the House...</td>\n",
       "      <td>[fellow, citizens, of, the, senate, and, of, t...</td>\n",
       "      <td>0</td>\n",
       "      <td>2548.131370</td>\n",
       "      <td>6</td>\n",
       "    </tr>\n",
       "    <tr>\n",
       "      <th>38</th>\n",
       "      <td>Adams</td>\n",
       "      <td>1828</td>\n",
       "      <td>7398</td>\n",
       "      <td>[Fellow, Citizens, of, the, Senate, and, of, t...</td>\n",
       "      <td>Fellow Citizens of the Senate and of the House...</td>\n",
       "      <td>[fellow, citizens, of, the, senate, and, of, t...</td>\n",
       "      <td>2</td>\n",
       "      <td>1351.716680</td>\n",
       "      <td>6</td>\n",
       "    </tr>\n",
       "  </tbody>\n",
       "</table>\n",
       "</div>"
      ],
      "text/plain": [
       "     pres  year  numtoks                                             tokens  \\\n",
       "7   Adams  1797     2060  [Gentlemen, of, the, Senate, and, Gentlemen, o...   \n",
       "8   Adams  1798     2218  [Gentlemen, of, the, Senate, and, Gentlemen, o...   \n",
       "9   Adams  1799     1505  [Gentlemen, of, the, Senate, and, Gentlemen, o...   \n",
       "10  Adams  1800     1374  [Gentlemen, of, the, Senate, and, Gentlemen, o...   \n",
       "35  Adams  1825     9091  [Fellow, Citizens, of, the, Senate, and, of, t...   \n",
       "36  Adams  1826     7852  [Fellow, Citizens, of, the, Senate, and, of, t...   \n",
       "37  Adams  1827     7064  [Fellow, Citizens, of, the, Senate, and, of, t...   \n",
       "38  Adams  1828     7398  [Fellow, Citizens, of, the, Senate, and, of, t...   \n",
       "\n",
       "                                             fulltext  \\\n",
       "7   Gentlemen of the Senate and Gentlemen of the H...   \n",
       "8   Gentlemen of the Senate and Gentlemen of the H...   \n",
       "9   Gentlemen of the Senate and Gentlemen of the H...   \n",
       "10  Gentlemen of the Senate and Gentlemen of the H...   \n",
       "35  Fellow Citizens of the Senate and of the House...   \n",
       "36  Fellow Citizens of the Senate and of the House...   \n",
       "37  Fellow Citizens of the Senate and of the House...   \n",
       "38  Fellow Citizens of the Senate and of the House...   \n",
       "\n",
       "                                                ltoks  wordFreq  \\\n",
       "7   [gentlemen, of, the, senate, and, gentlemen, o...         0   \n",
       "8   [gentlemen, of, the, senate, and, gentlemen, o...         0   \n",
       "9   [gentlemen, of, the, senate, and, gentlemen, o...         0   \n",
       "10  [gentlemen, of, the, senate, and, gentlemen, o...         0   \n",
       "35  [fellow, citizens, of, the, senate, and, of, t...         1   \n",
       "36  [fellow, citizens, of, the, senate, and, of, t...         1   \n",
       "37  [fellow, citizens, of, the, senate, and, of, t...         0   \n",
       "38  [fellow, citizens, of, the, senate, and, of, t...         2   \n",
       "\n",
       "    freq_perMillion  presnum  \n",
       "7        970.873786        2  \n",
       "8       2705.139766        2  \n",
       "9       5315.614618        2  \n",
       "10      3639.010189        2  \n",
       "35      1429.985700        6  \n",
       "36      2547.121752        6  \n",
       "37      2548.131370        6  \n",
       "38      1351.716680        6  "
      ]
     },
     "execution_count": 49,
     "metadata": {},
     "output_type": "execute_result"
    }
   ],
   "source": [
    "sotudf.loc[sotudf['pres'] == \"Adams\"]"
   ]
  },
  {
   "cell_type": "code",
   "execution_count": 50,
   "id": "f7b6b0e9",
   "metadata": {},
   "outputs": [
    {
     "data": {
      "text/html": [
       "<div>\n",
       "<style scoped>\n",
       "    .dataframe tbody tr th:only-of-type {\n",
       "        vertical-align: middle;\n",
       "    }\n",
       "\n",
       "    .dataframe tbody tr th {\n",
       "        vertical-align: top;\n",
       "    }\n",
       "\n",
       "    .dataframe thead th {\n",
       "        text-align: right;\n",
       "    }\n",
       "</style>\n",
       "<table border=\"1\" class=\"dataframe\">\n",
       "  <thead>\n",
       "    <tr style=\"text-align: right;\">\n",
       "      <th></th>\n",
       "      <th>pres</th>\n",
       "      <th>year</th>\n",
       "      <th>numtoks</th>\n",
       "      <th>tokens</th>\n",
       "      <th>fulltext</th>\n",
       "      <th>ltoks</th>\n",
       "      <th>wordFreq</th>\n",
       "      <th>freq_perMillion</th>\n",
       "      <th>presnum</th>\n",
       "    </tr>\n",
       "  </thead>\n",
       "  <tbody>\n",
       "    <tr>\n",
       "      <th>35</th>\n",
       "      <td>Adams</td>\n",
       "      <td>1825</td>\n",
       "      <td>9091</td>\n",
       "      <td>[Fellow, Citizens, of, the, Senate, and, of, t...</td>\n",
       "      <td>Fellow Citizens of the Senate and of the House...</td>\n",
       "      <td>[fellow, citizens, of, the, senate, and, of, t...</td>\n",
       "      <td>1</td>\n",
       "      <td>1429.985700</td>\n",
       "      <td>6</td>\n",
       "    </tr>\n",
       "    <tr>\n",
       "      <th>36</th>\n",
       "      <td>Adams</td>\n",
       "      <td>1826</td>\n",
       "      <td>7852</td>\n",
       "      <td>[Fellow, Citizens, of, the, Senate, and, of, t...</td>\n",
       "      <td>Fellow Citizens of the Senate and of the House...</td>\n",
       "      <td>[fellow, citizens, of, the, senate, and, of, t...</td>\n",
       "      <td>1</td>\n",
       "      <td>2547.121752</td>\n",
       "      <td>6</td>\n",
       "    </tr>\n",
       "    <tr>\n",
       "      <th>37</th>\n",
       "      <td>Adams</td>\n",
       "      <td>1827</td>\n",
       "      <td>7064</td>\n",
       "      <td>[Fellow, Citizens, of, the, Senate, and, of, t...</td>\n",
       "      <td>Fellow Citizens of the Senate and of the House...</td>\n",
       "      <td>[fellow, citizens, of, the, senate, and, of, t...</td>\n",
       "      <td>0</td>\n",
       "      <td>2548.131370</td>\n",
       "      <td>6</td>\n",
       "    </tr>\n",
       "    <tr>\n",
       "      <th>38</th>\n",
       "      <td>Adams</td>\n",
       "      <td>1828</td>\n",
       "      <td>7398</td>\n",
       "      <td>[Fellow, Citizens, of, the, Senate, and, of, t...</td>\n",
       "      <td>Fellow Citizens of the Senate and of the House...</td>\n",
       "      <td>[fellow, citizens, of, the, senate, and, of, t...</td>\n",
       "      <td>2</td>\n",
       "      <td>1351.716680</td>\n",
       "      <td>6</td>\n",
       "    </tr>\n",
       "  </tbody>\n",
       "</table>\n",
       "</div>"
      ],
      "text/plain": [
       "     pres  year  numtoks                                             tokens  \\\n",
       "35  Adams  1825     9091  [Fellow, Citizens, of, the, Senate, and, of, t...   \n",
       "36  Adams  1826     7852  [Fellow, Citizens, of, the, Senate, and, of, t...   \n",
       "37  Adams  1827     7064  [Fellow, Citizens, of, the, Senate, and, of, t...   \n",
       "38  Adams  1828     7398  [Fellow, Citizens, of, the, Senate, and, of, t...   \n",
       "\n",
       "                                             fulltext  \\\n",
       "35  Fellow Citizens of the Senate and of the House...   \n",
       "36  Fellow Citizens of the Senate and of the House...   \n",
       "37  Fellow Citizens of the Senate and of the House...   \n",
       "38  Fellow Citizens of the Senate and of the House...   \n",
       "\n",
       "                                                ltoks  wordFreq  \\\n",
       "35  [fellow, citizens, of, the, senate, and, of, t...         1   \n",
       "36  [fellow, citizens, of, the, senate, and, of, t...         1   \n",
       "37  [fellow, citizens, of, the, senate, and, of, t...         0   \n",
       "38  [fellow, citizens, of, the, senate, and, of, t...         2   \n",
       "\n",
       "    freq_perMillion  presnum  \n",
       "35      1429.985700        6  \n",
       "36      2547.121752        6  \n",
       "37      2548.131370        6  \n",
       "38      1351.716680        6  "
      ]
     },
     "execution_count": 50,
     "metadata": {},
     "output_type": "execute_result"
    }
   ],
   "source": [
    "sotudf.loc[(sotudf['pres'] == \"Adams\") & (sotudf['year'] > \"1820\")]"
   ]
  },
  {
   "cell_type": "code",
   "execution_count": 51,
   "id": "2b0e254d",
   "metadata": {},
   "outputs": [
    {
     "data": {
      "text/plain": [
       "pres                object\n",
       "year                object\n",
       "numtoks              int64\n",
       "tokens              object\n",
       "fulltext            object\n",
       "ltoks               object\n",
       "wordFreq             int64\n",
       "freq_perMillion    float64\n",
       "presnum              int32\n",
       "dtype: object"
      ]
     },
     "execution_count": 51,
     "metadata": {},
     "output_type": "execute_result"
    }
   ],
   "source": [
    "sotudf.dtypes  #here we can print out the data types of each column. \n",
    "                ##Notice, the \"year\" column is not considered a number (either an integer or a float). \n",
    "                ## Hence, in the code above and below we placed the year we are searching for in quotes.\n",
    "                ## Meanwhile, \"numtoks\" is identified as an integer so we do not place our desired number in quotes (see 2 code cells below)"
   ]
  },
  {
   "cell_type": "code",
   "execution_count": 52,
   "id": "e6bab04f",
   "metadata": {},
   "outputs": [
    {
     "data": {
      "text/html": [
       "<div>\n",
       "<style scoped>\n",
       "    .dataframe tbody tr th:only-of-type {\n",
       "        vertical-align: middle;\n",
       "    }\n",
       "\n",
       "    .dataframe tbody tr th {\n",
       "        vertical-align: top;\n",
       "    }\n",
       "\n",
       "    .dataframe thead th {\n",
       "        text-align: right;\n",
       "    }\n",
       "</style>\n",
       "<table border=\"1\" class=\"dataframe\">\n",
       "  <thead>\n",
       "    <tr style=\"text-align: right;\">\n",
       "      <th></th>\n",
       "      <th>pres</th>\n",
       "      <th>year</th>\n",
       "      <th>numtoks</th>\n",
       "      <th>tokens</th>\n",
       "      <th>fulltext</th>\n",
       "      <th>ltoks</th>\n",
       "      <th>wordFreq</th>\n",
       "      <th>freq_perMillion</th>\n",
       "      <th>presnum</th>\n",
       "    </tr>\n",
       "  </thead>\n",
       "  <tbody>\n",
       "    <tr>\n",
       "      <th>59</th>\n",
       "      <td>Taylor</td>\n",
       "      <td>1849</td>\n",
       "      <td>7666</td>\n",
       "      <td>[Fellow, Citizens, of, the, Senate, and, House...</td>\n",
       "      <td>Fellow-Citizens of the Senate and House of Rep...</td>\n",
       "      <td>[fellow, citizens, of, the, senate, and, house...</td>\n",
       "      <td>1</td>\n",
       "      <td>4565.614401</td>\n",
       "      <td>11</td>\n",
       "    </tr>\n",
       "  </tbody>\n",
       "</table>\n",
       "</div>"
      ],
      "text/plain": [
       "      pres  year  numtoks                                             tokens  \\\n",
       "59  Taylor  1849     7666  [Fellow, Citizens, of, the, Senate, and, House...   \n",
       "\n",
       "                                             fulltext  \\\n",
       "59  Fellow-Citizens of the Senate and House of Rep...   \n",
       "\n",
       "                                                ltoks  wordFreq  \\\n",
       "59  [fellow, citizens, of, the, senate, and, house...         1   \n",
       "\n",
       "    freq_perMillion  presnum  \n",
       "59      4565.614401       11  "
      ]
     },
     "execution_count": 52,
     "metadata": {},
     "output_type": "execute_result"
    }
   ],
   "source": [
    "sotudf.loc[sotudf['year'] == \"1849\"]"
   ]
  },
  {
   "cell_type": "code",
   "execution_count": 53,
   "id": "e4d1af7f",
   "metadata": {},
   "outputs": [
    {
     "data": {
      "text/html": [
       "<div>\n",
       "<style scoped>\n",
       "    .dataframe tbody tr th:only-of-type {\n",
       "        vertical-align: middle;\n",
       "    }\n",
       "\n",
       "    .dataframe tbody tr th {\n",
       "        vertical-align: top;\n",
       "    }\n",
       "\n",
       "    .dataframe thead th {\n",
       "        text-align: right;\n",
       "    }\n",
       "</style>\n",
       "<table border=\"1\" class=\"dataframe\">\n",
       "  <thead>\n",
       "    <tr style=\"text-align: right;\">\n",
       "      <th></th>\n",
       "      <th>pres</th>\n",
       "      <th>year</th>\n",
       "      <th>numtoks</th>\n",
       "      <th>tokens</th>\n",
       "      <th>fulltext</th>\n",
       "      <th>ltoks</th>\n",
       "      <th>wordFreq</th>\n",
       "      <th>freq_perMillion</th>\n",
       "      <th>presnum</th>\n",
       "    </tr>\n",
       "  </thead>\n",
       "  <tbody>\n",
       "    <tr>\n",
       "      <th>115</th>\n",
       "      <td>Roosevelt</td>\n",
       "      <td>1905</td>\n",
       "      <td>25168</td>\n",
       "      <td>[To, the, Senate, and, House, of, Representati...</td>\n",
       "      <td>To the Senate and House of Representatives:\\n\\...</td>\n",
       "      <td>[to, the, senate, and, house, of, representati...</td>\n",
       "      <td>12</td>\n",
       "      <td>3655.435474</td>\n",
       "      <td>24</td>\n",
       "    </tr>\n",
       "    <tr>\n",
       "      <th>117</th>\n",
       "      <td>Roosevelt</td>\n",
       "      <td>1907</td>\n",
       "      <td>27584</td>\n",
       "      <td>[To, the, Senate, and, House, of, Representati...</td>\n",
       "      <td>To the Senate and House of Representatives:\\n\\...</td>\n",
       "      <td>[to, the, senate, and, house, of, representati...</td>\n",
       "      <td>9</td>\n",
       "      <td>3407.772622</td>\n",
       "      <td>24</td>\n",
       "    </tr>\n",
       "    <tr>\n",
       "      <th>122</th>\n",
       "      <td>Taft</td>\n",
       "      <td>1912</td>\n",
       "      <td>25411</td>\n",
       "      <td>[PART, I, To, the, Senate, and, House, of, Rep...</td>\n",
       "      <td>PART I\\n\\nTo the Senate and House of Represent...</td>\n",
       "      <td>[part, i, to, the, senate, and, house, of, rep...</td>\n",
       "      <td>2</td>\n",
       "      <td>5273.306836</td>\n",
       "      <td>25</td>\n",
       "    </tr>\n",
       "    <tr>\n",
       "      <th>155</th>\n",
       "      <td>Truman</td>\n",
       "      <td>1946</td>\n",
       "      <td>28099</td>\n",
       "      <td>[To, the, Congress, of, the, United, States, A...</td>\n",
       "      <td>To the Congress of the United States:\\n\\nA qua...</td>\n",
       "      <td>[to, the, congress, of, the, united, states, a...</td>\n",
       "      <td>2</td>\n",
       "      <td>4804.441439</td>\n",
       "      <td>31</td>\n",
       "    </tr>\n",
       "    <tr>\n",
       "      <th>190</th>\n",
       "      <td>Carter</td>\n",
       "      <td>1981</td>\n",
       "      <td>34177</td>\n",
       "      <td>[To, the, Congress, of, the, United, States, T...</td>\n",
       "      <td>To the Congress of the United States:\\n\\nThe S...</td>\n",
       "      <td>[to, the, congress, of, the, united, states, t...</td>\n",
       "      <td>15</td>\n",
       "      <td>3072.241566</td>\n",
       "      <td>37</td>\n",
       "    </tr>\n",
       "  </tbody>\n",
       "</table>\n",
       "</div>"
      ],
      "text/plain": [
       "          pres  year  numtoks  \\\n",
       "115  Roosevelt  1905    25168   \n",
       "117  Roosevelt  1907    27584   \n",
       "122       Taft  1912    25411   \n",
       "155     Truman  1946    28099   \n",
       "190     Carter  1981    34177   \n",
       "\n",
       "                                                tokens  \\\n",
       "115  [To, the, Senate, and, House, of, Representati...   \n",
       "117  [To, the, Senate, and, House, of, Representati...   \n",
       "122  [PART, I, To, the, Senate, and, House, of, Rep...   \n",
       "155  [To, the, Congress, of, the, United, States, A...   \n",
       "190  [To, the, Congress, of, the, United, States, T...   \n",
       "\n",
       "                                              fulltext  \\\n",
       "115  To the Senate and House of Representatives:\\n\\...   \n",
       "117  To the Senate and House of Representatives:\\n\\...   \n",
       "122  PART I\\n\\nTo the Senate and House of Represent...   \n",
       "155  To the Congress of the United States:\\n\\nA qua...   \n",
       "190  To the Congress of the United States:\\n\\nThe S...   \n",
       "\n",
       "                                                 ltoks  wordFreq  \\\n",
       "115  [to, the, senate, and, house, of, representati...        12   \n",
       "117  [to, the, senate, and, house, of, representati...         9   \n",
       "122  [part, i, to, the, senate, and, house, of, rep...         2   \n",
       "155  [to, the, congress, of, the, united, states, a...         2   \n",
       "190  [to, the, congress, of, the, united, states, t...        15   \n",
       "\n",
       "     freq_perMillion  presnum  \n",
       "115      3655.435474       24  \n",
       "117      3407.772622       24  \n",
       "122      5273.306836       25  \n",
       "155      4804.441439       31  \n",
       "190      3072.241566       37  "
      ]
     },
     "execution_count": 53,
     "metadata": {},
     "output_type": "execute_result"
    }
   ],
   "source": [
    "sotudf.loc[(sotudf['numtoks'] > 25000)]"
   ]
  },
  {
   "cell_type": "code",
   "execution_count": 54,
   "id": "ae2fc425",
   "metadata": {},
   "outputs": [
    {
     "data": {
      "text/html": [
       "<div>\n",
       "<style scoped>\n",
       "    .dataframe tbody tr th:only-of-type {\n",
       "        vertical-align: middle;\n",
       "    }\n",
       "\n",
       "    .dataframe tbody tr th {\n",
       "        vertical-align: top;\n",
       "    }\n",
       "\n",
       "    .dataframe thead th {\n",
       "        text-align: right;\n",
       "    }\n",
       "</style>\n",
       "<table border=\"1\" class=\"dataframe\">\n",
       "  <thead>\n",
       "    <tr style=\"text-align: right;\">\n",
       "      <th></th>\n",
       "      <th>pres</th>\n",
       "      <th>year</th>\n",
       "      <th>numtoks</th>\n",
       "      <th>tokens</th>\n",
       "      <th>fulltext</th>\n",
       "      <th>ltoks</th>\n",
       "      <th>wordFreq</th>\n",
       "      <th>freq_perMillion</th>\n",
       "      <th>presnum</th>\n",
       "    </tr>\n",
       "  </thead>\n",
       "  <tbody>\n",
       "    <tr>\n",
       "      <th>0</th>\n",
       "      <td>Washington</td>\n",
       "      <td>1790</td>\n",
       "      <td>0</td>\n",
       "      <td>[]</td>\n",
       "      <td></td>\n",
       "      <td>[]</td>\n",
       "      <td>0</td>\n",
       "      <td>NaN</td>\n",
       "      <td>1</td>\n",
       "    </tr>\n",
       "    <tr>\n",
       "      <th>1</th>\n",
       "      <td>Washington</td>\n",
       "      <td>1791</td>\n",
       "      <td>2314</td>\n",
       "      <td>[Fellow, Citizens, of, the, Senate, and, House...</td>\n",
       "      <td>Fellow-Citizens of the Senate and House of Rep...</td>\n",
       "      <td>[fellow, citizens, of, the, senate, and, house...</td>\n",
       "      <td>0</td>\n",
       "      <td>3025.064823</td>\n",
       "      <td>1</td>\n",
       "    </tr>\n",
       "    <tr>\n",
       "      <th>2</th>\n",
       "      <td>Washington</td>\n",
       "      <td>1792</td>\n",
       "      <td>2104</td>\n",
       "      <td>[Fellow, Citizens, of, the, Senate, and, House...</td>\n",
       "      <td>Fellow-Citizens of the Senate and House of Rep...</td>\n",
       "      <td>[fellow, citizens, of, the, senate, and, house...</td>\n",
       "      <td>0</td>\n",
       "      <td>1425.855513</td>\n",
       "      <td>1</td>\n",
       "    </tr>\n",
       "    <tr>\n",
       "      <th>3</th>\n",
       "      <td>Washington</td>\n",
       "      <td>1793</td>\n",
       "      <td>1973</td>\n",
       "      <td>[Fellow, Citizens, of, the, Senate, and, House...</td>\n",
       "      <td>Fellow-Citizens of the Senate and House of Rep...</td>\n",
       "      <td>[fellow, citizens, of, the, senate, and, house...</td>\n",
       "      <td>0</td>\n",
       "      <td>1520.527116</td>\n",
       "      <td>1</td>\n",
       "    </tr>\n",
       "    <tr>\n",
       "      <th>4</th>\n",
       "      <td>Washington</td>\n",
       "      <td>1794</td>\n",
       "      <td>2918</td>\n",
       "      <td>[Fellow, Citizens, of, the, Senate, and, House...</td>\n",
       "      <td>Fellow-Citizens of the Senate and House of Rep...</td>\n",
       "      <td>[fellow, citizens, of, the, senate, and, house...</td>\n",
       "      <td>0</td>\n",
       "      <td>4797.806717</td>\n",
       "      <td>1</td>\n",
       "    </tr>\n",
       "  </tbody>\n",
       "</table>\n",
       "</div>"
      ],
      "text/plain": [
       "         pres  year  numtoks  \\\n",
       "0  Washington  1790        0   \n",
       "1  Washington  1791     2314   \n",
       "2  Washington  1792     2104   \n",
       "3  Washington  1793     1973   \n",
       "4  Washington  1794     2918   \n",
       "\n",
       "                                              tokens  \\\n",
       "0                                                 []   \n",
       "1  [Fellow, Citizens, of, the, Senate, and, House...   \n",
       "2  [Fellow, Citizens, of, the, Senate, and, House...   \n",
       "3  [Fellow, Citizens, of, the, Senate, and, House...   \n",
       "4  [Fellow, Citizens, of, the, Senate, and, House...   \n",
       "\n",
       "                                            fulltext  \\\n",
       "0                                                      \n",
       "1  Fellow-Citizens of the Senate and House of Rep...   \n",
       "2  Fellow-Citizens of the Senate and House of Rep...   \n",
       "3  Fellow-Citizens of the Senate and House of Rep...   \n",
       "4  Fellow-Citizens of the Senate and House of Rep...   \n",
       "\n",
       "                                               ltoks  wordFreq  \\\n",
       "0                                                 []         0   \n",
       "1  [fellow, citizens, of, the, senate, and, house...         0   \n",
       "2  [fellow, citizens, of, the, senate, and, house...         0   \n",
       "3  [fellow, citizens, of, the, senate, and, house...         0   \n",
       "4  [fellow, citizens, of, the, senate, and, house...         0   \n",
       "\n",
       "   freq_perMillion  presnum  \n",
       "0              NaN        1  \n",
       "1      3025.064823        1  \n",
       "2      1425.855513        1  \n",
       "3      1520.527116        1  \n",
       "4      4797.806717        1  "
      ]
     },
     "execution_count": 54,
     "metadata": {},
     "output_type": "execute_result"
    }
   ],
   "source": [
    "sotudf.iloc[0:5]"
   ]
  },
  {
   "cell_type": "code",
   "execution_count": 55,
   "id": "e9370e16",
   "metadata": {},
   "outputs": [
    {
     "name": "stdout",
     "output_type": "stream",
     "text": [
      "['To', 'the', 'Congress', 'of', 'the', 'United', 'States', 'The', 'opening', 'of', 'this', 'new', 'year', 'must', 'arouse', 'in', 'us', 'all', 'grateful', 'thanks', 'to', 'a', 'kind', 'Providence', 'whose', 'protection', 'has', 'been', 'ever', 'present', 'and', 'whose', 'bounty', 'has', 'been', 'manifold', 'and', 'abundant', 'The', 'State', 'of', 'the', 'Union', 'today', 'demonstrates', 'what', 'can', 'be', 'accomplished', 'under']\n"
     ]
    }
   ],
   "source": [
    "# pres = \"Eisenhower\"   ##not necessary to define since only one president gives an address in a given year!\n",
    "year = \"1956\"\n",
    "#the line below extracts the tokens for just one SOTU address (specified with the pres and year variables)\n",
    "# toks = sotudf.loc[(sotudf['pres'] == pres) & (sotudf['year'] == year)]['tokens'].values[0]\n",
    "toks = sotudf.loc[sotudf['year'] == year]['tokens'].values[0]\n",
    "print(toks[:50])"
   ]
  },
  {
   "attachments": {},
   "cell_type": "markdown",
   "id": "c83550f0",
   "metadata": {},
   "source": [
    "29b. Now, from the list of toks we extracted from the 1956 address, we are going to create a new list of lower-cased tokens, convert both token lists into ngrams (of length 3), create a frequency list of each list, and then output the most common 10 ngrams in each. Notice, the slight difference in the lower-case and regular-case results. Which method is preferable?"
   ]
  },
  {
   "cell_type": "code",
   "execution_count": 56,
   "id": "f7bb50eb",
   "metadata": {},
   "outputs": [
    {
     "name": "stdout",
     "output_type": "stream",
     "text": [
      "[(('to', 'the', 'congress'), 11), (('the', 'united', 'states'), 9), (('of', 'the', 'united'), 7), (('of', 'our', 'people'), 6), (('will', 'be', 'submitted'), 6), (('submitted', 'to', 'the'), 6), (('the', 'administration', 'will'), 6), (('past', 'three', 'years'), 5), (('be', 'submitted', 'to'), 5), (('the', 'free', 'world'), 5)] \n",
      "\n",
      "***\n",
      "\n",
      "[(('to', 'the', 'Congress'), 10), (('the', 'United', 'States'), 8), (('of', 'the', 'United'), 7), (('of', 'our', 'people'), 6), (('will', 'be', 'submitted'), 6), (('submitted', 'to', 'the'), 6), (('past', 'three', 'years'), 5), (('be', 'submitted', 'to'), 5), (('the', 'free', 'world'), 5), (('The', 'Administration', 'will'), 5)]\n"
     ]
    }
   ],
   "source": [
    "ltoks = [tok.lower() for tok in toks]\n",
    "n = 3                                  #n sets the number of words in phrase we will search for; experiment by adjusting this number n\n",
    "n_gramslower = list(ngrams(ltoks,n))\n",
    "n_grams = list(ngrams(toks,n))\n",
    "ng_freqslower = collections.Counter(n_gramslower)\n",
    "ng_freqs = collections.Counter(n_grams)\n",
    "print(ng_freqslower.most_common(10),\"\\n\\n***\\n\")\n",
    "print(ng_freqs.most_common(10))"
   ]
  },
  {
   "attachments": {},
   "cell_type": "markdown",
   "id": "a8cc8ffb",
   "metadata": {},
   "source": [
    "**30. With more time, we could apply the same analysis we did with individual word frequencies to analyze the frequency of ngrams of various lengths.**\n",
    "\n",
    "Ngrams analysis, however, sometimes poses other questions. \n",
    "\n",
    "For example, do we want to keep stopwords? Describing a person, as \"the leader\" rather than \"a leader\" makes a significant difference. \n",
    "\n",
    "Also, would we want to keep capitalized words? Obviously, \"united nations\" could mean something different than \"United Nations.\""
   ]
  },
  {
   "attachments": {},
   "cell_type": "markdown",
   "id": "caee486f",
   "metadata": {},
   "source": [
    "<div class=\"alert alert-info\" role=\"alert\"><h3 style = \"color:blue\">Exercise (Part VII)</h3>\n",
    "\n",
    "<p style = \"color:blue\">Create a ngram frequency list for another SOTU address. Try different length ngrams.</p></div>"
   ]
  },
  {
   "cell_type": "code",
   "execution_count": 57,
   "id": "fabca186",
   "metadata": {},
   "outputs": [
    {
     "name": "stdout",
     "output_type": "stream",
     "text": [
      "[(('state', 'of', 'the', 'union'), 5), (('the', 'time', 'has', 'come'), 3), (('in', 'the', 'form', 'of'), 2), (('of', 'mutual', 'respect', 'and'), 2), (('i', 'believe', 'that', 'we'), 2), (('believe', 'that', 'we', 'can'), 2), (('in', 'the', 'field', 'of'), 2), (('time', 'has', 'come', 'for'), 2), (('to', 'the', 'congress', 'of'), 1), (('the', 'congress', 'of', 'the'), 1), (('congress', 'of', 'the', 'united'), 1), (('of', 'the', 'united', 'states'), 1), (('the', 'united', 'states', 'the'), 1), (('united', 'states', 'the', 'traditional'), 1), (('states', 'the', 'traditional', 'form'), 1), (('the', 'traditional', 'form', 'of'), 1), (('traditional', 'form', 'of', 'the'), 1), (('form', 'of', 'the', 'president'), 1), (('of', 'the', 'president', 's'), 1), (('the', 'president', 's', 'annual'), 1), (('president', 's', 'annual', 'report'), 1), (('s', 'annual', 'report', 'giving'), 1), (('annual', 'report', 'giving', 'to'), 1), (('report', 'giving', 'to', 'the'), 1), (('giving', 'to', 'the', 'congress'), 1), (('to', 'the', 'congress', 'information'), 1), (('the', 'congress', 'information', 'of'), 1), (('congress', 'information', 'of', 'the'), 1), (('information', 'of', 'the', 'state'), 1), (('of', 'the', 'state', 'of'), 1), (('the', 'state', 'of', 'the'), 1), (('of', 'the', 'union', 'is'), 1), (('the', 'union', 'is', 'a'), 1), (('union', 'is', 'a', 'single'), 1), (('is', 'a', 'single', 'message'), 1), (('a', 'single', 'message', 'or'), 1), (('single', 'message', 'or', 'address'), 1), (('message', 'or', 'address', 'as'), 1), (('or', 'address', 'as', 'the'), 1), (('address', 'as', 'the', 'affairs'), 1), (('as', 'the', 'affairs', 'and'), 1), (('the', 'affairs', 'and', 'concerns'), 1), (('affairs', 'and', 'concerns', 'of'), 1), (('and', 'concerns', 'of', 'our'), 1), (('concerns', 'of', 'our', 'union'), 1), (('of', 'our', 'union', 'have'), 1), (('our', 'union', 'have', 'multiplied'), 1), (('union', 'have', 'multiplied', 'over'), 1), (('have', 'multiplied', 'over', 'the'), 1), (('multiplied', 'over', 'the', 'years'), 1)]\n"
     ]
    }
   ],
   "source": [
    "year = \"1973\"\n",
    "ltoks = sotudf.loc[sotudf['year'] == year]['ltoks'].values[0]\n",
    "n = 4                                 #n sets the number of words in phrase we will search for; experiment by adjusting this number n\n",
    "n_gramslower = list(ngrams(ltoks,n))\n",
    "ng_freqslower = collections.Counter(n_gramslower)\n",
    "print(ng_freqslower.most_common(50))"
   ]
  },
  {
   "cell_type": "code",
   "execution_count": null,
   "id": "226cf9cb",
   "metadata": {},
   "outputs": [],
   "source": []
  },
  {
   "cell_type": "markdown",
   "id": "3621a7b2",
   "metadata": {},
   "source": []
  },
  {
   "cell_type": "code",
   "execution_count": null,
   "id": "ece7ee9c",
   "metadata": {},
   "outputs": [],
   "source": []
  },
  {
   "cell_type": "markdown",
   "id": "2be79000",
   "metadata": {},
   "source": [
    "## Part VIII: Visualizing Word Patterns - Comparing Multiple Words\n",
    "\n",
    "### Dispersion Plots, Frequency Graphs, etc.\n",
    "\n",
    "31. Another way to visualize changing word frequencies over time is through a dispersion plot. One way to create a dispersion plot is to work with a master text that contains all SOTU texts arranged in chronological order. We can access such a \"master text\" in the \"allSotus.txt\" file."
   ]
  },
  {
   "cell_type": "code",
   "execution_count": 58,
   "id": "31b2ba88",
   "metadata": {},
   "outputs": [
    {
     "name": "stdout",
     "output_type": "stream",
     "text": [
      "10604117\n",
      "1786621\n",
      "1786621\n"
     ]
    }
   ],
   "source": [
    "tokenizer = RegexpTokenizer(r'\\w+')\n",
    "with open(\"allSotus.txt\",encoding='utf-8') as f:\n",
    "    allSotus = f.read()\n",
    "print(len(allSotus))\n",
    "\n",
    "#fdist = Counter(nltk.word_tokenize(allSotus))\n",
    "#tokens = word_tokenize(allSotus) #this takes a long time\n",
    "alltoks=tokenizer.tokenize(allSotus)\n",
    "print(len(alltoks))\n",
    "print(sotudf['numtoks'].sum())  #this sums up all the numtoks values for each address in our sotudf to see if the total equals that from our master text (\"allSotus\")\n",
    "txt = nltk.Text(alltoks)\n",
    "\n"
   ]
  },
  {
   "cell_type": "code",
   "execution_count": 59,
   "id": "87ca82fc",
   "metadata": {},
   "outputs": [
    {
     "name": "stdout",
     "output_type": "stream",
     "text": [
      "1786621\n"
     ]
    },
    {
     "data": {
      "image/png": "[encoded data removed]",
      "text/plain": [
       "<Figure size 1200x600 with 1 Axes>"
      ]
     },
     "metadata": {},
     "output_type": "display_data"
    }
   ],
   "source": [
    "print(len(alltoks))\n",
    "txt.dispersion_plot([\"taxes\", \"democracy\", \"freedom\", \"God\", \"Indians\"])   #the dispersion_plot function is from the nltk library"
   ]
  },
  {
   "cell_type": "code",
   "execution_count": null,
   "id": "333a653b",
   "metadata": {},
   "outputs": [],
   "source": []
  },
  {
   "cell_type": "markdown",
   "id": "41d9c467",
   "metadata": {},
   "source": [
    "## Appendix 1: Creating a Graph of the Lexical Diversity of SOTU texts."
   ]
  },
  {
   "cell_type": "markdown",
   "id": "c897a021",
   "metadata": {},
   "source": [
    "### Lexical Diversity\n",
    "\n"
   ]
  },
  {
   "cell_type": "markdown",
   "id": "cc97cfbf",
   "metadata": {},
   "source": [
    "We can quantify the diversity and complexity of a text's vocabulary by calculating its **lexical diversity**. This is calculated simply by dividing the total number of words found in a text by the number of unique words. A text with high lexical diversity has a high percentage of unique words, whereas a text with low lexical diversity repeats the same words frequently."
   ]
  },
  {
   "cell_type": "code",
   "execution_count": 60,
   "id": "34517b18",
   "metadata": {},
   "outputs": [
    {
     "name": "stdout",
     "output_type": "stream",
     "text": [
      "# of words =  2918\n",
      "# of unique words =  1093\n",
      "2.6697163769441903\n"
     ]
    }
   ],
   "source": [
    "#we will use ltokens2, which you may recall excludes punctuation but not stopwords\n",
    "print(\"# of words = \",len(ltokens2))  #here we are using ltokens2, because we want to keep the stopwords as part of our count\n",
    "print(\"# of unique words = \",len(set(ltokens2)))\n",
    "lexdiv=len(ltokens2)/len(set(ltokens2))\n",
    "print(lexdiv)"
   ]
  },
  {
   "cell_type": "markdown",
   "id": "912d0af2",
   "metadata": {},
   "source": [
    "*We will come back to this. For example, after learning how to iterate through a corpus of texts, we will compare the lexical diversity of the SOTU texts to examine how it has changed over time and from president to president.*"
   ]
  },
  {
   "cell_type": "code",
   "execution_count": null,
   "id": "a2f02355",
   "metadata": {},
   "outputs": [],
   "source": []
  },
  {
   "cell_type": "code",
   "execution_count": 61,
   "id": "3feb3cc2",
   "metadata": {},
   "outputs": [
    {
     "name": "stdout",
     "output_type": "stream",
     "text": [
      "0.10707592964172363\n"
     ]
    },
    {
     "data": {
      "text/html": [
       "<div>\n",
       "<style scoped>\n",
       "    .dataframe tbody tr th:only-of-type {\n",
       "        vertical-align: middle;\n",
       "    }\n",
       "\n",
       "    .dataframe tbody tr th {\n",
       "        vertical-align: top;\n",
       "    }\n",
       "\n",
       "    .dataframe thead th {\n",
       "        text-align: right;\n",
       "    }\n",
       "</style>\n",
       "<table border=\"1\" class=\"dataframe\">\n",
       "  <thead>\n",
       "    <tr style=\"text-align: right;\">\n",
       "      <th></th>\n",
       "      <th>pres</th>\n",
       "      <th>year</th>\n",
       "      <th>numtoks</th>\n",
       "      <th>tokens</th>\n",
       "      <th>fulltext</th>\n",
       "      <th>ltoks</th>\n",
       "      <th>wordFreq</th>\n",
       "      <th>freq_perMillion</th>\n",
       "      <th>presnum</th>\n",
       "      <th>numUniq</th>\n",
       "      <th>lexdiv</th>\n",
       "    </tr>\n",
       "  </thead>\n",
       "  <tbody>\n",
       "    <tr>\n",
       "      <th>0</th>\n",
       "      <td>Washington</td>\n",
       "      <td>1790</td>\n",
       "      <td>0</td>\n",
       "      <td>[]</td>\n",
       "      <td></td>\n",
       "      <td>[]</td>\n",
       "      <td>0</td>\n",
       "      <td>NaN</td>\n",
       "      <td>1</td>\n",
       "      <td>0</td>\n",
       "      <td>0.000000</td>\n",
       "    </tr>\n",
       "    <tr>\n",
       "      <th>1</th>\n",
       "      <td>Washington</td>\n",
       "      <td>1791</td>\n",
       "      <td>2314</td>\n",
       "      <td>[Fellow, Citizens, of, the, Senate, and, House...</td>\n",
       "      <td>Fellow-Citizens of the Senate and House of Rep...</td>\n",
       "      <td>[fellow, citizens, of, the, senate, and, house...</td>\n",
       "      <td>0</td>\n",
       "      <td>3025.064823</td>\n",
       "      <td>1</td>\n",
       "      <td>811</td>\n",
       "      <td>0.350475</td>\n",
       "    </tr>\n",
       "    <tr>\n",
       "      <th>2</th>\n",
       "      <td>Washington</td>\n",
       "      <td>1792</td>\n",
       "      <td>2104</td>\n",
       "      <td>[Fellow, Citizens, of, the, Senate, and, House...</td>\n",
       "      <td>Fellow-Citizens of the Senate and House of Rep...</td>\n",
       "      <td>[fellow, citizens, of, the, senate, and, house...</td>\n",
       "      <td>0</td>\n",
       "      <td>1425.855513</td>\n",
       "      <td>1</td>\n",
       "      <td>764</td>\n",
       "      <td>0.363118</td>\n",
       "    </tr>\n",
       "    <tr>\n",
       "      <th>3</th>\n",
       "      <td>Washington</td>\n",
       "      <td>1793</td>\n",
       "      <td>1973</td>\n",
       "      <td>[Fellow, Citizens, of, the, Senate, and, House...</td>\n",
       "      <td>Fellow-Citizens of the Senate and House of Rep...</td>\n",
       "      <td>[fellow, citizens, of, the, senate, and, house...</td>\n",
       "      <td>0</td>\n",
       "      <td>1520.527116</td>\n",
       "      <td>1</td>\n",
       "      <td>798</td>\n",
       "      <td>0.404460</td>\n",
       "    </tr>\n",
       "    <tr>\n",
       "      <th>4</th>\n",
       "      <td>Washington</td>\n",
       "      <td>1794</td>\n",
       "      <td>2918</td>\n",
       "      <td>[Fellow, Citizens, of, the, Senate, and, House...</td>\n",
       "      <td>Fellow-Citizens of the Senate and House of Rep...</td>\n",
       "      <td>[fellow, citizens, of, the, senate, and, house...</td>\n",
       "      <td>0</td>\n",
       "      <td>4797.806717</td>\n",
       "      <td>1</td>\n",
       "      <td>1133</td>\n",
       "      <td>0.388280</td>\n",
       "    </tr>\n",
       "    <tr>\n",
       "      <th>5</th>\n",
       "      <td>Washington</td>\n",
       "      <td>1795</td>\n",
       "      <td>1988</td>\n",
       "      <td>[Fellow, Citizens, of, the, Senate, and, House...</td>\n",
       "      <td>Fellow-Citizens of the Senate and House of Rep...</td>\n",
       "      <td>[fellow, citizens, of, the, senate, and, house...</td>\n",
       "      <td>1</td>\n",
       "      <td>2012.072435</td>\n",
       "      <td>1</td>\n",
       "      <td>814</td>\n",
       "      <td>0.409457</td>\n",
       "    </tr>\n",
       "    <tr>\n",
       "      <th>6</th>\n",
       "      <td>Washington</td>\n",
       "      <td>1796</td>\n",
       "      <td>2878</td>\n",
       "      <td>[Fellow, Citizens, of, the, Senate, and, House...</td>\n",
       "      <td>Fellow-Citizens of the Senate and House of Rep...</td>\n",
       "      <td>[fellow, citizens, of, the, senate, and, house...</td>\n",
       "      <td>0</td>\n",
       "      <td>3127.171647</td>\n",
       "      <td>1</td>\n",
       "      <td>998</td>\n",
       "      <td>0.346769</td>\n",
       "    </tr>\n",
       "    <tr>\n",
       "      <th>7</th>\n",
       "      <td>Adams</td>\n",
       "      <td>1797</td>\n",
       "      <td>2060</td>\n",
       "      <td>[Gentlemen, of, the, Senate, and, Gentlemen, o...</td>\n",
       "      <td>Gentlemen of the Senate and Gentlemen of the H...</td>\n",
       "      <td>[gentlemen, of, the, senate, and, gentlemen, o...</td>\n",
       "      <td>0</td>\n",
       "      <td>970.873786</td>\n",
       "      <td>2</td>\n",
       "      <td>727</td>\n",
       "      <td>0.352913</td>\n",
       "    </tr>\n",
       "    <tr>\n",
       "      <th>8</th>\n",
       "      <td>Adams</td>\n",
       "      <td>1798</td>\n",
       "      <td>2218</td>\n",
       "      <td>[Gentlemen, of, the, Senate, and, Gentlemen, o...</td>\n",
       "      <td>Gentlemen of the Senate and Gentlemen of the H...</td>\n",
       "      <td>[gentlemen, of, the, senate, and, gentlemen, o...</td>\n",
       "      <td>0</td>\n",
       "      <td>2705.139766</td>\n",
       "      <td>2</td>\n",
       "      <td>827</td>\n",
       "      <td>0.372858</td>\n",
       "    </tr>\n",
       "    <tr>\n",
       "      <th>9</th>\n",
       "      <td>Adams</td>\n",
       "      <td>1799</td>\n",
       "      <td>1505</td>\n",
       "      <td>[Gentlemen, of, the, Senate, and, Gentlemen, o...</td>\n",
       "      <td>Gentlemen of the Senate and Gentlemen of the H...</td>\n",
       "      <td>[gentlemen, of, the, senate, and, gentlemen, o...</td>\n",
       "      <td>0</td>\n",
       "      <td>5315.614618</td>\n",
       "      <td>2</td>\n",
       "      <td>593</td>\n",
       "      <td>0.394020</td>\n",
       "    </tr>\n",
       "    <tr>\n",
       "      <th>10</th>\n",
       "      <td>Adams</td>\n",
       "      <td>1800</td>\n",
       "      <td>1374</td>\n",
       "      <td>[Gentlemen, of, the, Senate, and, Gentlemen, o...</td>\n",
       "      <td>Gentlemen of the Senate and Gentlemen of the H...</td>\n",
       "      <td>[gentlemen, of, the, senate, and, gentlemen, o...</td>\n",
       "      <td>0</td>\n",
       "      <td>3639.010189</td>\n",
       "      <td>2</td>\n",
       "      <td>557</td>\n",
       "      <td>0.405386</td>\n",
       "    </tr>\n",
       "    <tr>\n",
       "      <th>11</th>\n",
       "      <td>Jefferson</td>\n",
       "      <td>1801</td>\n",
       "      <td>3226</td>\n",
       "      <td>[Fellow, Citizens, of, the, Senate, and, House...</td>\n",
       "      <td>Fellow Citizens of the Senate and House of Rep...</td>\n",
       "      <td>[fellow, citizens, of, the, senate, and, house...</td>\n",
       "      <td>0</td>\n",
       "      <td>2169.869808</td>\n",
       "      <td>3</td>\n",
       "      <td>1095</td>\n",
       "      <td>0.339430</td>\n",
       "    </tr>\n",
       "    <tr>\n",
       "      <th>12</th>\n",
       "      <td>Jefferson</td>\n",
       "      <td>1802</td>\n",
       "      <td>2209</td>\n",
       "      <td>[To, the, Senate, and, House, of, Representati...</td>\n",
       "      <td>To the Senate and House of Representatives:\\n\\...</td>\n",
       "      <td>[to, the, senate, and, house, of, representati...</td>\n",
       "      <td>0</td>\n",
       "      <td>452.693526</td>\n",
       "      <td>3</td>\n",
       "      <td>817</td>\n",
       "      <td>0.369851</td>\n",
       "    </tr>\n",
       "    <tr>\n",
       "      <th>13</th>\n",
       "      <td>Jefferson</td>\n",
       "      <td>1803</td>\n",
       "      <td>2283</td>\n",
       "      <td>[To, The, Senate, and, House, of, Representati...</td>\n",
       "      <td>To The Senate and House of Representatives of ...</td>\n",
       "      <td>[to, the, senate, and, house, of, representati...</td>\n",
       "      <td>0</td>\n",
       "      <td>2628.120894</td>\n",
       "      <td>3</td>\n",
       "      <td>833</td>\n",
       "      <td>0.364871</td>\n",
       "    </tr>\n",
       "    <tr>\n",
       "      <th>14</th>\n",
       "      <td>Jefferson</td>\n",
       "      <td>1804</td>\n",
       "      <td>2108</td>\n",
       "      <td>[The, Senate, and, House, of, Representatives,...</td>\n",
       "      <td>The Senate and House of Representatives of the...</td>\n",
       "      <td>[the, senate, and, house, of, representatives,...</td>\n",
       "      <td>0</td>\n",
       "      <td>3320.683112</td>\n",
       "      <td>3</td>\n",
       "      <td>741</td>\n",
       "      <td>0.351518</td>\n",
       "    </tr>\n",
       "    <tr>\n",
       "      <th>15</th>\n",
       "      <td>Jefferson</td>\n",
       "      <td>1805</td>\n",
       "      <td>2951</td>\n",
       "      <td>[The, Senate, and, House, of, Representatives,...</td>\n",
       "      <td>The Senate and House of Representatives of the...</td>\n",
       "      <td>[the, senate, and, house, of, representatives,...</td>\n",
       "      <td>0</td>\n",
       "      <td>1355.472721</td>\n",
       "      <td>3</td>\n",
       "      <td>978</td>\n",
       "      <td>0.331413</td>\n",
       "    </tr>\n",
       "    <tr>\n",
       "      <th>16</th>\n",
       "      <td>Jefferson</td>\n",
       "      <td>1806</td>\n",
       "      <td>2872</td>\n",
       "      <td>[The, Senate, and, House, of, Representatives,...</td>\n",
       "      <td>The Senate and House of Representatives of the...</td>\n",
       "      <td>[the, senate, and, house, of, representatives,...</td>\n",
       "      <td>0</td>\n",
       "      <td>696.378830</td>\n",
       "      <td>3</td>\n",
       "      <td>962</td>\n",
       "      <td>0.334958</td>\n",
       "    </tr>\n",
       "    <tr>\n",
       "      <th>17</th>\n",
       "      <td>Jefferson</td>\n",
       "      <td>1807</td>\n",
       "      <td>2399</td>\n",
       "      <td>[The, Senate, and, House, of, Representatives,...</td>\n",
       "      <td>The Senate and House of Representatives of the...</td>\n",
       "      <td>[the, senate, and, house, of, representatives,...</td>\n",
       "      <td>0</td>\n",
       "      <td>2084.201751</td>\n",
       "      <td>3</td>\n",
       "      <td>852</td>\n",
       "      <td>0.355148</td>\n",
       "    </tr>\n",
       "    <tr>\n",
       "      <th>18</th>\n",
       "      <td>Jefferson</td>\n",
       "      <td>1808</td>\n",
       "      <td>2695</td>\n",
       "      <td>[The, Senate, and, House, of, Representatives,...</td>\n",
       "      <td>The Senate and House of Representatives of the...</td>\n",
       "      <td>[the, senate, and, house, of, representatives,...</td>\n",
       "      <td>0</td>\n",
       "      <td>742.115028</td>\n",
       "      <td>3</td>\n",
       "      <td>948</td>\n",
       "      <td>0.351763</td>\n",
       "    </tr>\n",
       "    <tr>\n",
       "      <th>19</th>\n",
       "      <td>Madison</td>\n",
       "      <td>1809</td>\n",
       "      <td>1833</td>\n",
       "      <td>[Fellow, Citizens, of, the, Senate, and, House...</td>\n",
       "      <td>Fellow-Citizens of the Senate and House of Rep...</td>\n",
       "      <td>[fellow, citizens, of, the, senate, and, house...</td>\n",
       "      <td>0</td>\n",
       "      <td>3273.322422</td>\n",
       "      <td>4</td>\n",
       "      <td>694</td>\n",
       "      <td>0.378614</td>\n",
       "    </tr>\n",
       "  </tbody>\n",
       "</table>\n",
       "</div>"
      ],
      "text/plain": [
       "          pres  year  numtoks  \\\n",
       "0   Washington  1790        0   \n",
       "1   Washington  1791     2314   \n",
       "2   Washington  1792     2104   \n",
       "3   Washington  1793     1973   \n",
       "4   Washington  1794     2918   \n",
       "5   Washington  1795     1988   \n",
       "6   Washington  1796     2878   \n",
       "7        Adams  1797     2060   \n",
       "8        Adams  1798     2218   \n",
       "9        Adams  1799     1505   \n",
       "10       Adams  1800     1374   \n",
       "11   Jefferson  1801     3226   \n",
       "12   Jefferson  1802     2209   \n",
       "13   Jefferson  1803     2283   \n",
       "14   Jefferson  1804     2108   \n",
       "15   Jefferson  1805     2951   \n",
       "16   Jefferson  1806     2872   \n",
       "17   Jefferson  1807     2399   \n",
       "18   Jefferson  1808     2695   \n",
       "19     Madison  1809     1833   \n",
       "\n",
       "                                               tokens  \\\n",
       "0                                                  []   \n",
       "1   [Fellow, Citizens, of, the, Senate, and, House...   \n",
       "2   [Fellow, Citizens, of, the, Senate, and, House...   \n",
       "3   [Fellow, Citizens, of, the, Senate, and, House...   \n",
       "4   [Fellow, Citizens, of, the, Senate, and, House...   \n",
       "5   [Fellow, Citizens, of, the, Senate, and, House...   \n",
       "6   [Fellow, Citizens, of, the, Senate, and, House...   \n",
       "7   [Gentlemen, of, the, Senate, and, Gentlemen, o...   \n",
       "8   [Gentlemen, of, the, Senate, and, Gentlemen, o...   \n",
       "9   [Gentlemen, of, the, Senate, and, Gentlemen, o...   \n",
       "10  [Gentlemen, of, the, Senate, and, Gentlemen, o...   \n",
       "11  [Fellow, Citizens, of, the, Senate, and, House...   \n",
       "12  [To, the, Senate, and, House, of, Representati...   \n",
       "13  [To, The, Senate, and, House, of, Representati...   \n",
       "14  [The, Senate, and, House, of, Representatives,...   \n",
       "15  [The, Senate, and, House, of, Representatives,...   \n",
       "16  [The, Senate, and, House, of, Representatives,...   \n",
       "17  [The, Senate, and, House, of, Representatives,...   \n",
       "18  [The, Senate, and, House, of, Representatives,...   \n",
       "19  [Fellow, Citizens, of, the, Senate, and, House...   \n",
       "\n",
       "                                             fulltext  \\\n",
       "0                                                       \n",
       "1   Fellow-Citizens of the Senate and House of Rep...   \n",
       "2   Fellow-Citizens of the Senate and House of Rep...   \n",
       "3   Fellow-Citizens of the Senate and House of Rep...   \n",
       "4   Fellow-Citizens of the Senate and House of Rep...   \n",
       "5   Fellow-Citizens of the Senate and House of Rep...   \n",
       "6   Fellow-Citizens of the Senate and House of Rep...   \n",
       "7   Gentlemen of the Senate and Gentlemen of the H...   \n",
       "8   Gentlemen of the Senate and Gentlemen of the H...   \n",
       "9   Gentlemen of the Senate and Gentlemen of the H...   \n",
       "10  Gentlemen of the Senate and Gentlemen of the H...   \n",
       "11  Fellow Citizens of the Senate and House of Rep...   \n",
       "12  To the Senate and House of Representatives:\\n\\...   \n",
       "13  To The Senate and House of Representatives of ...   \n",
       "14  The Senate and House of Representatives of the...   \n",
       "15  The Senate and House of Representatives of the...   \n",
       "16  The Senate and House of Representatives of the...   \n",
       "17  The Senate and House of Representatives of the...   \n",
       "18  The Senate and House of Representatives of the...   \n",
       "19  Fellow-Citizens of the Senate and House of Rep...   \n",
       "\n",
       "                                                ltoks  wordFreq  \\\n",
       "0                                                  []         0   \n",
       "1   [fellow, citizens, of, the, senate, and, house...         0   \n",
       "2   [fellow, citizens, of, the, senate, and, house...         0   \n",
       "3   [fellow, citizens, of, the, senate, and, house...         0   \n",
       "4   [fellow, citizens, of, the, senate, and, house...         0   \n",
       "5   [fellow, citizens, of, the, senate, and, house...         1   \n",
       "6   [fellow, citizens, of, the, senate, and, house...         0   \n",
       "7   [gentlemen, of, the, senate, and, gentlemen, o...         0   \n",
       "8   [gentlemen, of, the, senate, and, gentlemen, o...         0   \n",
       "9   [gentlemen, of, the, senate, and, gentlemen, o...         0   \n",
       "10  [gentlemen, of, the, senate, and, gentlemen, o...         0   \n",
       "11  [fellow, citizens, of, the, senate, and, house...         0   \n",
       "12  [to, the, senate, and, house, of, representati...         0   \n",
       "13  [to, the, senate, and, house, of, representati...         0   \n",
       "14  [the, senate, and, house, of, representatives,...         0   \n",
       "15  [the, senate, and, house, of, representatives,...         0   \n",
       "16  [the, senate, and, house, of, representatives,...         0   \n",
       "17  [the, senate, and, house, of, representatives,...         0   \n",
       "18  [the, senate, and, house, of, representatives,...         0   \n",
       "19  [fellow, citizens, of, the, senate, and, house...         0   \n",
       "\n",
       "    freq_perMillion  presnum  numUniq    lexdiv  \n",
       "0               NaN        1        0  0.000000  \n",
       "1       3025.064823        1      811  0.350475  \n",
       "2       1425.855513        1      764  0.363118  \n",
       "3       1520.527116        1      798  0.404460  \n",
       "4       4797.806717        1     1133  0.388280  \n",
       "5       2012.072435        1      814  0.409457  \n",
       "6       3127.171647        1      998  0.346769  \n",
       "7        970.873786        2      727  0.352913  \n",
       "8       2705.139766        2      827  0.372858  \n",
       "9       5315.614618        2      593  0.394020  \n",
       "10      3639.010189        2      557  0.405386  \n",
       "11      2169.869808        3     1095  0.339430  \n",
       "12       452.693526        3      817  0.369851  \n",
       "13      2628.120894        3      833  0.364871  \n",
       "14      3320.683112        3      741  0.351518  \n",
       "15      1355.472721        3      978  0.331413  \n",
       "16       696.378830        3      962  0.334958  \n",
       "17      2084.201751        3      852  0.355148  \n",
       "18       742.115028        3      948  0.351763  \n",
       "19      3273.322422        4      694  0.378614  "
      ]
     },
     "execution_count": 61,
     "metadata": {},
     "output_type": "execute_result"
    }
   ],
   "source": [
    "start = time.time()\n",
    "#sotudf['numUniq'] = len(set(sotudf['tokens']))\n",
    "sotudf['numUniq'] = sotudf['tokens'].apply(lambda x:len(set(x)))\n",
    "#sotudf['lexdiv'] = sotudf[ 'numtoks']/sotudf['numUniq']\n",
    "def doDiv (numer,denom):\n",
    "    if numer>0:\n",
    "        ans = numer/denom\n",
    "    else:\n",
    "        ans = 0\n",
    "    return(ans)\n",
    "sotudf['lexdiv'] = sotudf.apply(lambda x: doDiv(x.numUniq,x.numtoks), axis = 1)\n",
    "print(time.time() - start)\n",
    "sotudf.head(20)"
   ]
  },
  {
   "cell_type": "code",
   "execution_count": 62,
   "id": "7030b307",
   "metadata": {},
   "outputs": [
    {
     "data": {
      "text/plain": [
       "[Text(0, 0.5, 'Unique Words as Percent of Total Words'), Text(0.5, 0, 'Year')]"
      ]
     },
     "execution_count": 62,
     "metadata": {},
     "output_type": "execute_result"
    },
    {
     "data": {
      "image/png": "[encoded data removed]",
      "text/plain": [
       "<Figure size 1200x600 with 1 Axes>"
      ]
     },
     "metadata": {},
     "output_type": "display_data"
    }
   ],
   "source": [
    "g=sns.barplot(data=sotudf, x=\"year\",y=\"lexdiv\")\n",
    "g.tick_params(labelrotation=90)\n",
    "g.set(title = \"Lexical Diversity of State of the Union Addresses\")\n",
    "g.set(ylabel='Unique Words as Percent of Total Words', xlabel='Year')\n",
    "#g.set(xticklabels = sotudf.pres);"
   ]
  }
 ],
 "metadata": {
  "kernelspec": {
   "display_name": "base",
   "language": "python",
   "name": "python3"
  },
  "language_info": {
   "codemirror_mode": {
    "name": "ipython",
    "version": 3
   },
   "file_extension": ".py",
   "mimetype": "text/x-python",
   "name": "python",
   "nbconvert_exporter": "python",
   "pygments_lexer": "ipython3",
   "version": "3.9.13"
  },
  "vscode": {
   "interpreter": {
    "hash": "92ccb6e3f8e1ba46ac70611fe300a00d231540f34c9f821035b67580ebdf166e"
   }
  }
 },
 "nbformat": 4,
 "nbformat_minor": 5
}
